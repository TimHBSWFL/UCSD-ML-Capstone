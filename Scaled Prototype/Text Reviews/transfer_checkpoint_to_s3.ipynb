{
 "cells": [
  {
   "cell_type": "code",
   "execution_count": 1,
   "metadata": {},
   "outputs": [
    {
     "name": "stdout",
     "output_type": "stream",
     "text": [
      "The directory exists: /home/sagemaker-user/s3:/sagemaker-studio-619071335465-8h7owh9eftx/training/outputs\n",
      "Current directory: /home/sagemaker-user/s3:/sagemaker-studio-619071335465-8h7owh9eftx/training/outputs\n",
      "Subdirectories: ['checkpoint-10000', 'checkpoint-20000', 'checkpoint-29650']\n",
      "Files: []\n",
      "Current directory: /home/sagemaker-user/s3:/sagemaker-studio-619071335465-8h7owh9eftx/training/outputs/checkpoint-10000\n",
      "Subdirectories: []\n",
      "Files: ['config.json', 'model.safetensors', 'training_args.bin', 'optimizer.pt', 'scheduler.pt', 'rng_state.pth', 'trainer_state.json']\n",
      "Current directory: /home/sagemaker-user/s3:/sagemaker-studio-619071335465-8h7owh9eftx/training/outputs/checkpoint-20000\n",
      "Subdirectories: []\n",
      "Files: ['config.json', 'model.safetensors', 'training_args.bin', 'optimizer.pt', 'scheduler.pt', 'rng_state.pth', 'trainer_state.json']\n",
      "Current directory: /home/sagemaker-user/s3:/sagemaker-studio-619071335465-8h7owh9eftx/training/outputs/checkpoint-29650\n",
      "Subdirectories: []\n",
      "Files: ['config.json', 'model.safetensors', 'training_args.bin', 'optimizer.pt', 'scheduler.pt', 'rng_state.pth', 'trainer_state.json']\n"
     ]
    }
   ],
   "source": [
    "import os\n",
    "\n",
    "local_dir = \"/home/sagemaker-user/s3:/sagemaker-studio-619071335465-8h7owh9eftx/training/outputs\"\n",
    "\n",
    "if os.path.exists(local_dir):\n",
    "    print(f\"The directory exists: {local_dir}\")\n",
    "\n",
    "    for root, dirs, files in os.walk(local_dir):\n",
    "        print(f\"Current directory: {root}\")\n",
    "        print(f\"Subdirectories: {dirs}\")\n",
    "        print(f\"Files: {files}\")\n",
    "else:\n",
    "    print(f\"The directory does not exist: {local_dir}\")\n"
   ]
  },
  {
   "cell_type": "code",
   "execution_count": 2,
   "metadata": {},
   "outputs": [
    {
     "name": "stdout",
     "output_type": "stream",
     "text": [
      "Found checkpoints: ['checkpoint-10000', 'checkpoint-20000', 'checkpoint-29650']\n"
     ]
    }
   ],
   "source": [
    "checkpoints = [d for d in os.listdir(local_dir) if \"checkpoint\" in d]\n",
    "if checkpoints:\n",
    "    print(f\"Found checkpoints: {checkpoints}\")\n",
    "else:\n",
    "    print(\"No checkpoints found in the specified directory.\")\n"
   ]
  },
  {
   "cell_type": "code",
   "execution_count": 3,
   "metadata": {},
   "outputs": [
    {
     "name": "stdout",
     "output_type": "stream",
     "text": [
      "Uploading /home/sagemaker-user/s3:/sagemaker-studio-619071335465-8h7owh9eftx/training/outputs/checkpoint-10000/config.json to s3://sagemaker-studio-619071335465-8h7owh9eftx/training/outputs/checkpoint-10000/config.json...\n",
      "Uploading /home/sagemaker-user/s3:/sagemaker-studio-619071335465-8h7owh9eftx/training/outputs/checkpoint-10000/model.safetensors to s3://sagemaker-studio-619071335465-8h7owh9eftx/training/outputs/checkpoint-10000/model.safetensors...\n",
      "Uploading /home/sagemaker-user/s3:/sagemaker-studio-619071335465-8h7owh9eftx/training/outputs/checkpoint-10000/training_args.bin to s3://sagemaker-studio-619071335465-8h7owh9eftx/training/outputs/checkpoint-10000/training_args.bin...\n",
      "Uploading /home/sagemaker-user/s3:/sagemaker-studio-619071335465-8h7owh9eftx/training/outputs/checkpoint-10000/optimizer.pt to s3://sagemaker-studio-619071335465-8h7owh9eftx/training/outputs/checkpoint-10000/optimizer.pt...\n",
      "Uploading /home/sagemaker-user/s3:/sagemaker-studio-619071335465-8h7owh9eftx/training/outputs/checkpoint-10000/scheduler.pt to s3://sagemaker-studio-619071335465-8h7owh9eftx/training/outputs/checkpoint-10000/scheduler.pt...\n",
      "Uploading /home/sagemaker-user/s3:/sagemaker-studio-619071335465-8h7owh9eftx/training/outputs/checkpoint-10000/rng_state.pth to s3://sagemaker-studio-619071335465-8h7owh9eftx/training/outputs/checkpoint-10000/rng_state.pth...\n",
      "Uploading /home/sagemaker-user/s3:/sagemaker-studio-619071335465-8h7owh9eftx/training/outputs/checkpoint-10000/trainer_state.json to s3://sagemaker-studio-619071335465-8h7owh9eftx/training/outputs/checkpoint-10000/trainer_state.json...\n",
      "Uploading /home/sagemaker-user/s3:/sagemaker-studio-619071335465-8h7owh9eftx/training/outputs/checkpoint-20000/config.json to s3://sagemaker-studio-619071335465-8h7owh9eftx/training/outputs/checkpoint-20000/config.json...\n",
      "Uploading /home/sagemaker-user/s3:/sagemaker-studio-619071335465-8h7owh9eftx/training/outputs/checkpoint-20000/model.safetensors to s3://sagemaker-studio-619071335465-8h7owh9eftx/training/outputs/checkpoint-20000/model.safetensors...\n",
      "Uploading /home/sagemaker-user/s3:/sagemaker-studio-619071335465-8h7owh9eftx/training/outputs/checkpoint-20000/training_args.bin to s3://sagemaker-studio-619071335465-8h7owh9eftx/training/outputs/checkpoint-20000/training_args.bin...\n",
      "Uploading /home/sagemaker-user/s3:/sagemaker-studio-619071335465-8h7owh9eftx/training/outputs/checkpoint-20000/optimizer.pt to s3://sagemaker-studio-619071335465-8h7owh9eftx/training/outputs/checkpoint-20000/optimizer.pt...\n",
      "Uploading /home/sagemaker-user/s3:/sagemaker-studio-619071335465-8h7owh9eftx/training/outputs/checkpoint-20000/scheduler.pt to s3://sagemaker-studio-619071335465-8h7owh9eftx/training/outputs/checkpoint-20000/scheduler.pt...\n",
      "Uploading /home/sagemaker-user/s3:/sagemaker-studio-619071335465-8h7owh9eftx/training/outputs/checkpoint-20000/rng_state.pth to s3://sagemaker-studio-619071335465-8h7owh9eftx/training/outputs/checkpoint-20000/rng_state.pth...\n",
      "Uploading /home/sagemaker-user/s3:/sagemaker-studio-619071335465-8h7owh9eftx/training/outputs/checkpoint-20000/trainer_state.json to s3://sagemaker-studio-619071335465-8h7owh9eftx/training/outputs/checkpoint-20000/trainer_state.json...\n",
      "Uploading /home/sagemaker-user/s3:/sagemaker-studio-619071335465-8h7owh9eftx/training/outputs/checkpoint-29650/config.json to s3://sagemaker-studio-619071335465-8h7owh9eftx/training/outputs/checkpoint-29650/config.json...\n",
      "Uploading /home/sagemaker-user/s3:/sagemaker-studio-619071335465-8h7owh9eftx/training/outputs/checkpoint-29650/model.safetensors to s3://sagemaker-studio-619071335465-8h7owh9eftx/training/outputs/checkpoint-29650/model.safetensors...\n",
      "Uploading /home/sagemaker-user/s3:/sagemaker-studio-619071335465-8h7owh9eftx/training/outputs/checkpoint-29650/training_args.bin to s3://sagemaker-studio-619071335465-8h7owh9eftx/training/outputs/checkpoint-29650/training_args.bin...\n",
      "Uploading /home/sagemaker-user/s3:/sagemaker-studio-619071335465-8h7owh9eftx/training/outputs/checkpoint-29650/optimizer.pt to s3://sagemaker-studio-619071335465-8h7owh9eftx/training/outputs/checkpoint-29650/optimizer.pt...\n",
      "Uploading /home/sagemaker-user/s3:/sagemaker-studio-619071335465-8h7owh9eftx/training/outputs/checkpoint-29650/scheduler.pt to s3://sagemaker-studio-619071335465-8h7owh9eftx/training/outputs/checkpoint-29650/scheduler.pt...\n",
      "Uploading /home/sagemaker-user/s3:/sagemaker-studio-619071335465-8h7owh9eftx/training/outputs/checkpoint-29650/rng_state.pth to s3://sagemaker-studio-619071335465-8h7owh9eftx/training/outputs/checkpoint-29650/rng_state.pth...\n",
      "Uploading /home/sagemaker-user/s3:/sagemaker-studio-619071335465-8h7owh9eftx/training/outputs/checkpoint-29650/trainer_state.json to s3://sagemaker-studio-619071335465-8h7owh9eftx/training/outputs/checkpoint-29650/trainer_state.json...\n"
     ]
    }
   ],
   "source": [
    "import boto3\n",
    "\n",
    "\n",
    "s3 = boto3.client(\"s3\")\n",
    "\n",
    "\n",
    "local_dir = \"/home/sagemaker-user/s3:/sagemaker-studio-619071335465-8h7owh9eftx/training/outputs/\"\n",
    "\n",
    "\n",
    "bucket_name = \"sagemaker-studio-619071335465-8h7owh9eftx\"\n",
    "s3_prefix = \"training/outputs/\"\n",
    "\n",
    "\n",
    "for root, dirs, files in os.walk(local_dir):\n",
    "    for file in files:\n",
    "        local_path = os.path.join(root, file)\n",
    "        relative_path = os.path.relpath(local_path, local_dir)\n",
    "        s3_path = os.path.join(s3_prefix, relative_path).replace(\"\\\\\", \"/\")\n",
    "        print(f\"Uploading {local_path} to s3://{bucket_name}/{s3_path}...\")\n",
    "        s3.upload_file(local_path, bucket_name, s3_path)\n"
   ]
  }
 ],
 "metadata": {
  "kernelspec": {
   "display_name": "base",
   "language": "python",
   "name": "python3"
  },
  "language_info": {
   "codemirror_mode": {
    "name": "ipython",
    "version": 3
   },
   "file_extension": ".py",
   "mimetype": "text/x-python",
   "name": "python",
   "nbconvert_exporter": "python",
   "pygments_lexer": "ipython3",
   "version": "3.11.10"
  }
 },
 "nbformat": 4,
 "nbformat_minor": 2
}
