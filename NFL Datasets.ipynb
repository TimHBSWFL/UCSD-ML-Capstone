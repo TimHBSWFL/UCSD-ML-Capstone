{
 "cells": [
  {
   "cell_type": "code",
   "execution_count": 1,
   "metadata": {},
   "outputs": [
    {
     "name": "stdout",
     "output_type": "stream",
     "text": [
      "Requirement already satisfied: selenium in c:\\users\\tokud\\anaconda3\\lib\\site-packages (4.24.0)\n",
      "Requirement already satisfied: certifi>=2021.10.8 in c:\\users\\tokud\\anaconda3\\lib\\site-packages (from selenium) (2021.10.8)\n",
      "Requirement already satisfied: typing_extensions~=4.9 in c:\\users\\tokud\\anaconda3\\lib\\site-packages (from selenium) (4.12.2)\n",
      "Requirement already satisfied: trio~=0.17 in c:\\users\\tokud\\anaconda3\\lib\\site-packages (from selenium) (0.26.2)\n",
      "Requirement already satisfied: websocket-client~=1.8 in c:\\users\\tokud\\anaconda3\\lib\\site-packages (from selenium) (1.8.0)\n",
      "Requirement already satisfied: trio-websocket~=0.9 in c:\\users\\tokud\\anaconda3\\lib\\site-packages (from selenium) (0.11.1)\n",
      "Requirement already satisfied: urllib3[socks]<3,>=1.26 in c:\\users\\tokud\\anaconda3\\lib\\site-packages (from selenium) (1.26.7)\n",
      "Requirement already satisfied: cffi>=1.14 in c:\\users\\tokud\\anaconda3\\lib\\site-packages (from trio~=0.17->selenium) (1.14.6)\n",
      "Requirement already satisfied: exceptiongroup in c:\\users\\tokud\\anaconda3\\lib\\site-packages (from trio~=0.17->selenium) (1.2.2)\n",
      "Requirement already satisfied: idna in c:\\users\\tokud\\anaconda3\\lib\\site-packages (from trio~=0.17->selenium) (3.2)\n",
      "Requirement already satisfied: outcome in c:\\users\\tokud\\anaconda3\\lib\\site-packages (from trio~=0.17->selenium) (1.3.0.post0)\n",
      "Requirement already satisfied: sniffio>=1.3.0 in c:\\users\\tokud\\anaconda3\\lib\\site-packages (from trio~=0.17->selenium) (1.3.1)\n",
      "Requirement already satisfied: attrs>=23.2.0 in c:\\users\\tokud\\anaconda3\\lib\\site-packages (from trio~=0.17->selenium) (24.2.0)\n",
      "Requirement already satisfied: sortedcontainers in c:\\users\\tokud\\anaconda3\\lib\\site-packages (from trio~=0.17->selenium) (2.4.0)\n",
      "Requirement already satisfied: pycparser in c:\\users\\tokud\\anaconda3\\lib\\site-packages (from cffi>=1.14->trio~=0.17->selenium) (2.20)\n",
      "Requirement already satisfied: wsproto>=0.14 in c:\\users\\tokud\\anaconda3\\lib\\site-packages (from trio-websocket~=0.9->selenium) (1.2.0)\n",
      "Requirement already satisfied: PySocks!=1.5.7,<2.0,>=1.5.6 in c:\\users\\tokud\\anaconda3\\lib\\site-packages (from urllib3[socks]<3,>=1.26->selenium) (1.7.1)\n",
      "Requirement already satisfied: h11<1,>=0.9.0 in c:\\users\\tokud\\anaconda3\\lib\\site-packages (from wsproto>=0.14->trio-websocket~=0.9->selenium) (0.14.0)\n"
     ]
    }
   ],
   "source": [
    "!pip install selenium"
   ]
  },
  {
   "cell_type": "code",
   "execution_count": 2,
   "metadata": {},
   "outputs": [],
   "source": [
    "import time\n",
    "import pandas as pd\n",
    "from selenium import webdriver\n",
    "from selenium.webdriver.common.by import By\n",
    "from selenium.webdriver.chrome.service import Service"
   ]
  },
  {
   "cell_type": "code",
   "execution_count": 3,
   "metadata": {},
   "outputs": [],
   "source": [
    "driver_path = \"C:/Users/tokud/Chromedriver/chromedriver.exe\"\n",
    "\n",
    "service = Service(executable_path=driver_path)\n",
    "driver = webdriver.Chrome(service=service)\n",
    "\n",
    "url = 'https://www.nfl.com/stats/team-stats/'\n",
    "\n",
    "driver.get(url)"
   ]
  },
  {
   "cell_type": "code",
   "execution_count": 4,
   "metadata": {},
   "outputs": [
    {
     "name": "stdout",
     "output_type": "stream",
     "text": [
      "Processing category 1: passing\n",
      "dict_keys(['passing'])\n",
      "Processing category 2: rushing\n",
      "dict_keys(['passing', 'rushing'])\n",
      "Processing category 3: receiving\n",
      "dict_keys(['passing', 'rushing', 'receiving'])\n",
      "Processing category 4: scoring\n",
      "dict_keys(['passing', 'rushing', 'receiving', 'scoring'])\n",
      "Processing category 5: downs\n",
      "dict_keys(['passing', 'rushing', 'receiving', 'scoring', 'downs'])\n"
     ]
    }
   ],
   "source": [
    "    \n",
    "offense_dict = {}\n",
    "\n",
    "passing_categories = ['passing', 'rushing', 'receiving', 'scoring', 'downs']\n",
    "      \n",
    "for i, category_name in enumerate(passing_categories, start=1):\n",
    "    print(f\"Processing category {i}: {category_name}\")\n",
    "    \n",
    "    category_tab = driver.find_element(By.XPATH, f'//*[@id=\"main-content\"]/section[1]/div/div[3]/div[2]/div/div/div/ul/li[{i}]')\n",
    "    category_tab.click()\n",
    "    time.sleep(3)\n",
    "    \n",
    "    table_data = driver.execute_script(\"\"\"\n",
    "        var table = document.querySelector('table'); \n",
    "        var rows = table.rows;\n",
    "        var data = [];\n",
    "\n",
    "        for (var i = 0; i < rows.length; i++) {\n",
    "            var cells = rows[i].cells;\n",
    "            var row_data = [];\n",
    "            for (var j = 0; j < cells.length; j++) {\n",
    "                row_data.push(cells[j].innerText);  \n",
    "            }\n",
    "            data.push(row_data);\n",
    "        }\n",
    "        return data;\n",
    "    \"\"\")\n",
    "    \n",
    "    headers = table_data[0]\n",
    "    data = table_data[1:]\n",
    "\n",
    "    df = pd.DataFrame(data, columns=headers)\n",
    "    \n",
    "    offense_dict[category_name] = df\n",
    "    \n",
    "    print(offense_dict.keys())\n",
    "    "
   ]
  },
  {
   "cell_type": "code",
   "execution_count": 5,
   "metadata": {},
   "outputs": [
    {
     "name": "stdout",
     "output_type": "stream",
     "text": [
      "Category: passing, Shape: (32, 16)\n",
      "Category: rushing, Shape: (32, 11)\n",
      "Category: receiving, Shape: (32, 11)\n",
      "Category: scoring, Shape: (32, 5)\n",
      "Category: downs, Shape: (32, 10)\n"
     ]
    }
   ],
   "source": [
    "for category, df in offense_dict.items():\n",
    "    print(f\"Category: {category}, Shape: {df.shape}\")"
   ]
  },
  {
   "cell_type": "code",
   "execution_count": 6,
   "metadata": {},
   "outputs": [],
   "source": [
    "defense_tab = driver.find_element(By.XPATH, '//*[@id=\"main-content\"]/section[1]/div/div[1]/div[2]/div/ul/li[2]/a/span[1]')\n",
    "defense_tab.click()"
   ]
  },
  {
   "cell_type": "code",
   "execution_count": 7,
   "metadata": {},
   "outputs": [
    {
     "name": "stdout",
     "output_type": "stream",
     "text": [
      "Processing category 1: passing\n",
      "dict_keys(['passing'])\n",
      "Processing category 2: rushing\n",
      "dict_keys(['passing', 'rushing'])\n",
      "Processing category 3: receiving\n",
      "dict_keys(['passing', 'rushing', 'receiving'])\n",
      "Processing category 4: scoring\n",
      "dict_keys(['passing', 'rushing', 'receiving', 'scoring'])\n",
      "Processing category 5: tackles\n",
      "dict_keys(['passing', 'rushing', 'receiving', 'scoring', 'tackles'])\n",
      "Processing category 6: downs\n",
      "dict_keys(['passing', 'rushing', 'receiving', 'scoring', 'tackles', 'downs'])\n",
      "Processing category 7: fumbles\n",
      "dict_keys(['passing', 'rushing', 'receiving', 'scoring', 'tackles', 'downs', 'fumbles'])\n",
      "Processing category 8: interceptions\n",
      "dict_keys(['passing', 'rushing', 'receiving', 'scoring', 'tackles', 'downs', 'fumbles', 'interceptions'])\n"
     ]
    }
   ],
   "source": [
    "defense_dict = {}\n",
    "\n",
    "defense_categories = ['passing', 'rushing', 'receiving', 'scoring', 'tackles', 'downs', 'fumbles', 'interceptions']\n",
    "\n",
    "\n",
    "for i, category_name in enumerate(defense_categories, start=1):\n",
    "    print(f\"Processing category {i}: {category_name}\")\n",
    "    \n",
    "    category_tab = driver.find_element(By.XPATH, f'//*[@id=\"main-content\"]/section[1]/div/div[3]/div[2]/div/div/div/ul/li[{i}]')\n",
    "    category_tab.click()\n",
    "    time.sleep(3)\n",
    "    \n",
    "    table_data = driver.execute_script(\"\"\"\n",
    "        var table = document.querySelector('table'); \n",
    "        var rows = table.rows;\n",
    "        var data = [];\n",
    "\n",
    "        for (var i = 0; i < rows.length; i++) {\n",
    "            var cells = rows[i].cells;\n",
    "            var row_data = [];\n",
    "            for (var j = 0; j < cells.length; j++) {\n",
    "                row_data.push(cells[j].innerText);  \n",
    "            }\n",
    "            data.push(row_data);\n",
    "        }\n",
    "        return data;\n",
    "    \"\"\")\n",
    "    \n",
    "    headers = table_data[0]\n",
    "    data = table_data[1:]\n",
    "\n",
    "    df = pd.DataFrame(data, columns=headers)\n",
    "    \n",
    "    defense_dict[category_name] = df\n",
    "    \n",
    "    print(defense_dict.keys())"
   ]
  },
  {
   "cell_type": "code",
   "execution_count": 8,
   "metadata": {},
   "outputs": [
    {
     "name": "stdout",
     "output_type": "stream",
     "text": [
      "Category: passing, Shape: (32, 15)\n",
      "Category: rushing, Shape: (32, 11)\n",
      "Category: receiving, Shape: (32, 12)\n",
      "Category: scoring, Shape: (32, 4)\n",
      "Category: tackles, Shape: (32, 5)\n",
      "Category: downs, Shape: (32, 10)\n",
      "Category: fumbles, Shape: (32, 6)\n",
      "Category: interceptions, Shape: (32, 5)\n"
     ]
    }
   ],
   "source": [
    "for category, df in defense_dict.items():\n",
    "    print(f\"Category: {category}, Shape: {df.shape}\")"
   ]
  },
  {
   "cell_type": "code",
   "execution_count": 9,
   "metadata": {},
   "outputs": [],
   "source": [
    "special_teams_tab = driver.find_element(By.XPATH, '//*[@id=\"main-content\"]/section[1]/div/div[1]/div[2]/div/ul/li[3]/a/span[1]')\n",
    "special_teams_tab.click()"
   ]
  },
  {
   "cell_type": "code",
   "execution_count": 28,
   "metadata": {},
   "outputs": [
    {
     "name": "stdout",
     "output_type": "stream",
     "text": [
      "Processing category 1: field goals\n",
      "dict_keys(['field goals'])\n",
      "Processing category 2: scoring\n",
      "dict_keys(['field goals', 'scoring'])\n",
      "Processing category 3: kickoffs\n",
      "dict_keys(['field goals', 'scoring', 'kickoffs'])\n",
      "Processing category 4: kickoff returns\n",
      "dict_keys(['field goals', 'scoring', 'kickoffs', 'kickoff returns'])\n",
      "Processing category 5: punting\n",
      "dict_keys(['field goals', 'scoring', 'kickoffs', 'kickoff returns', 'punting'])\n",
      "Processing category 6: punt returns\n",
      "dict_keys(['field goals', 'scoring', 'kickoffs', 'kickoff returns', 'punting', 'punt returns'])\n"
     ]
    }
   ],
   "source": [
    "special_teams_dict = {}\n",
    "\n",
    "special_teams_categories = ['field goals', 'scoring', 'kickoffs', 'kickoff returns', 'punting', 'punt returns']\n",
    "\n",
    "\n",
    "for i, category_name in enumerate(special_teams_categories, start=1):\n",
    "    print(f\"Processing category {i}: {category_name}\")\n",
    "    \n",
    "    category_tab = driver.find_element(By.XPATH, f'//*[@id=\"main-content\"]/section[1]/div/div[3]/div[2]/div/div/div/ul/li[{i}]')\n",
    "    category_tab.click()\n",
    "    time.sleep(3)\n",
    "    \n",
    "    table_data = driver.execute_script(\"\"\"\n",
    "        var table = document.querySelector('table'); \n",
    "        var rows = table.rows;\n",
    "        var data = [];\n",
    "\n",
    "        for (var i = 0; i < rows.length; i++) {\n",
    "            var cells = rows[i].cells;\n",
    "            var row_data = [];\n",
    "            for (var j = 0; j < cells.length; j++) {\n",
    "                row_data.push(cells[j].innerText);  \n",
    "            }\n",
    "            data.push(row_data);\n",
    "        }\n",
    "        return data;\n",
    "    \"\"\")\n",
    "    \n",
    "    headers = table_data[0]\n",
    "    data = table_data[1:]\n",
    "\n",
    "    df = pd.DataFrame(data, columns=headers)\n",
    "    \n",
    "    special_teams_dict[category_name] = df\n",
    "    \n",
    "    print(special_teams_dict.keys())"
   ]
  },
  {
   "cell_type": "code",
   "execution_count": 29,
   "metadata": {},
   "outputs": [
    {
     "name": "stdout",
     "output_type": "stream",
     "text": [
      "Category: field goals, Shape: (32, 12)\n",
      "Category: scoring, Shape: (32, 7)\n",
      "Category: kickoffs, Shape: (32, 11)\n",
      "Category: kickoff returns, Shape: (24, 12)\n",
      "Category: punting, Shape: (32, 16)\n",
      "Category: punt returns, Shape: (25, 11)\n"
     ]
    }
   ],
   "source": [
    "for category, df in special_teams_dict.items():\n",
    "    print(f\"Category: {category}, Shape: {df.shape}\")"
   ]
  },
  {
   "cell_type": "code",
   "execution_count": 16,
   "metadata": {},
   "outputs": [
    {
     "data": {
      "text/plain": [
       "(32, 53)"
      ]
     },
     "execution_count": 16,
     "metadata": {},
     "output_type": "execute_result"
    }
   ],
   "source": [
    "for category, df in offense_dict.items():\n",
    "    offense_dict[category] = df.add_prefix(f\"{category}_\")\n",
    "\n",
    "offense_concat = pd.concat(offense_dict.values(), axis=1)\n",
    "offense_concat.shape"
   ]
  },
  {
   "cell_type": "code",
   "execution_count": 17,
   "metadata": {},
   "outputs": [
    {
     "data": {
      "text/plain": [
       "Index(['passing_Team', 'passing_Att', 'passing_Cmp', 'passing_Cmp %',\n",
       "       'passing_Yds/Att', 'passing_Pass Yds', 'passing_TD', 'passing_INT',\n",
       "       'passing_Rate', 'passing_1st', 'passing_1st%', 'passing_20+',\n",
       "       'passing_40+', 'passing_Lng', 'passing_Sck', 'passing_SckY',\n",
       "       'rushing_Team', 'rushing_Att', 'rushing_Rush Yds', 'rushing_YPC',\n",
       "       'rushing_TD', 'rushing_20+', 'rushing_40+', 'rushing_Lng',\n",
       "       'rushing_Rush 1st', 'rushing_Rush 1st%', 'rushing_Rush FUM',\n",
       "       'receiving_Team', 'receiving_Rec', 'receiving_Yds', 'receiving_Yds/Rec',\n",
       "       'receiving_TD', 'receiving_20+', 'receiving_40+', 'receiving_Lng',\n",
       "       'receiving_Rec 1st', 'receiving_Rec 1st%', 'receiving_Rec FUM',\n",
       "       'scoring_Team', 'scoring_Rsh TD', 'scoring_Rec TD', 'scoring_Tot TD',\n",
       "       'scoring_2-PT', 'downs_Team', 'downs_3rd Att', 'downs_3rd Md',\n",
       "       'downs_4th Att', 'downs_4th Md', 'downs_Rec 1st', 'downs_Rec 1st%',\n",
       "       'downs_Rush 1st', 'downs_Rush 1st%', 'downs_Scrm Plys'],\n",
       "      dtype='object')"
      ]
     },
     "execution_count": 17,
     "metadata": {},
     "output_type": "execute_result"
    }
   ],
   "source": [
    "offense_concat.columns"
   ]
  },
  {
   "cell_type": "code",
   "execution_count": 18,
   "metadata": {},
   "outputs": [],
   "source": [
    "filename = \"NFL Offense Data\" + \".csv\"\n",
    "out_path = \"C:/Users/tokud/OneDrive/Documents/Machine Learning - UCSD Extension Springboard Course/Capstone/Datasets/Other Project Ideas/\" + filename\n",
    "\n",
    "offense_concat.to_csv(out_path, index=False)"
   ]
  },
  {
   "cell_type": "code",
   "execution_count": 19,
   "metadata": {},
   "outputs": [
    {
     "data": {
      "text/plain": [
       "(32, 68)"
      ]
     },
     "execution_count": 19,
     "metadata": {},
     "output_type": "execute_result"
    }
   ],
   "source": [
    "for category, df in defense_dict.items():\n",
    "    defense_dict[category] = df.add_prefix(f\"{category}_\")\n",
    "\n",
    "defense_concat = pd.concat(defense_dict.values(), axis=1)\n",
    "defense_concat.shape"
   ]
  },
  {
   "cell_type": "code",
   "execution_count": 20,
   "metadata": {},
   "outputs": [],
   "source": [
    "filename = \"NFL Defense Data\" + \".csv\"\n",
    "out_path = \"C:/Users/tokud/OneDrive/Documents/Machine Learning - UCSD Extension Springboard Course/Capstone/Datasets/Other Project Ideas/\" + filename\n",
    "\n",
    "defense_concat.to_csv(out_path, index=False)"
   ]
  },
  {
   "cell_type": "code",
   "execution_count": 31,
   "metadata": {},
   "outputs": [],
   "source": [
    "for category, df in special_teams_dict.items():\n",
    "    if 'Team' in df.columns:\n",
    "        special_teams_dict[category] = df.set_index('Team')\n",
    "    else:\n",
    "        print(f\"'team' column not found in {category}\")"
   ]
  },
  {
   "cell_type": "code",
   "execution_count": 32,
   "metadata": {},
   "outputs": [],
   "source": [
    "all_teams = set()\n",
    "for df in special_teams_dict.values():\n",
    "    all_teams.update(df.index)\n",
    "    \n",
    "all_teams = sorted(all_teams)\n",
    "\n",
    "for category, df in special_teams_dict.items():\n",
    "    special_teams_dict[category] = df.reindex(all_teams)"
   ]
  },
  {
   "cell_type": "code",
   "execution_count": 33,
   "metadata": {},
   "outputs": [
    {
     "data": {
      "text/plain": [
       "(32, 63)"
      ]
     },
     "execution_count": 33,
     "metadata": {},
     "output_type": "execute_result"
    }
   ],
   "source": [
    "for category, df in special_teams_dict.items():\n",
    "    special_teams_dict[category] = df.add_prefix(f\"{category}_\")\n",
    "\n",
    "special_teams_concat = pd.concat(special_teams_dict.values(), axis=1)\n",
    "special_teams_concat.shape"
   ]
  },
  {
   "cell_type": "code",
   "execution_count": 35,
   "metadata": {},
   "outputs": [],
   "source": [
    "filename = \"NFL Special Teams Data\" + \".csv\"\n",
    "out_path = \"C:/Users/tokud/OneDrive/Documents/Machine Learning - UCSD Extension Springboard Course/Capstone/Datasets/Other Project Ideas/\" + filename\n",
    "\n",
    "special_teams_concat.to_csv(out_path)"
   ]
  },
  {
   "cell_type": "code",
   "execution_count": 36,
   "metadata": {},
   "outputs": [],
   "source": [
    "driver.quit()"
   ]
  }
 ],
 "metadata": {
  "kernelspec": {
   "display_name": "base",
   "language": "python",
   "name": "python3"
  },
  "language_info": {
   "codemirror_mode": {
    "name": "ipython",
    "version": 3
   },
   "file_extension": ".py",
   "mimetype": "text/x-python",
   "name": "python",
   "nbconvert_exporter": "python",
   "pygments_lexer": "ipython3",
   "version": "3.9.7"
  }
 },
 "nbformat": 4,
 "nbformat_minor": 2
}
