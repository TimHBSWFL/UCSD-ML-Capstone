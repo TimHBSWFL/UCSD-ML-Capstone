{
 "cells": [
  {
   "cell_type": "code",
   "execution_count": 1,
   "metadata": {},
   "outputs": [],
   "source": [
    "from pipelines.pipeline import run_pipeline"
   ]
  },
  {
   "cell_type": "code",
   "execution_count": 2,
   "metadata": {},
   "outputs": [
    {
     "name": "stdout",
     "output_type": "stream",
     "text": [
      "Found Parquet file: samples/text reviews/new_yelp_text_reviews.parquet\n",
      "Sampled 5 rows from samples/text reviews/new_yelp_text_reviews.parquet.\n"
     ]
    },
    {
     "name": "stderr",
     "output_type": "stream",
     "text": [
      "2025-01-04 16:55:56.744553: I tensorflow/core/platform/cpu_feature_guard.cc:210] This TensorFlow binary is optimized to use available CPU instructions in performance-critical operations.\n",
      "To enable the following instructions: SSE4.1 SSE4.2 AVX AVX2 AVX512F FMA, in other operations, rebuild TensorFlow with the appropriate compiler flags.\n"
     ]
    },
    {
     "name": "stdout",
     "output_type": "stream",
     "text": [
      "Review: Love, love, LOVE this place. The workers are all super chill yet productive, the prices are excellent, and best of all the food is taaaaaastyyyyyy! Even the vegan \"meat\" tastes and even FEELS so real! When I'm in a pinch or just don't feel like cooking, this is my go-to place. Much better than fast food, yet same kind of prices!\n",
      "Prediction: Positive\n",
      "Actual: 5\n",
      "----------------------------------------\n",
      "Review: This is a don't miss. Food is always great. Service is good. Wish I had one of these in Abilene, Texas. It is a loud environment so don't go expecting quiet and relaxing. A family favorite.\n",
      "Prediction: Positive\n",
      "Actual: 5\n",
      "----------------------------------------\n",
      "Review: I ordered two baked potatoes and an apple fritter for $23 (first off, extremely overpriced). The baked potatoes were microwaved right in front of us, and they tasted very much so microwaved. The apple fritter was very DRY and tasted like bread sprinkled with cinnamon. We were very unsatisfied with our meal and to top it off, the cup of water that I paid for tasted like fountain water.\n",
      "Prediction: Negative\n",
      "Actual: 1\n",
      "----------------------------------------\n",
      "Review: Steve, the owner, immediately addressed this issue.  Very impressed with that.  I responded it was just a misunderstanding with bartender.  Bartender wanted to apologize.  I told him not necessary.  I have eaten here very many times and it has always been extremely great service and food.  I would recommend going there for lunch or dinner.  Also a great place to book Christmas parties!\n",
      "Prediction: Positive\n",
      "Actual: 5\n",
      "----------------------------------------\n",
      "Review: Bone marrow is excellent. Server explained the specials. Good cocktail. Closes at 10pm.\n",
      "Prediction: Positive\n",
      "Actual: 5\n",
      "----------------------------------------\n"
     ]
    }
   ],
   "source": [
    "num_samples = 5\n",
    "\n",
    "results = run_pipeline(num_samples)"
   ]
  },
  {
   "cell_type": "code",
   "execution_count": 3,
   "metadata": {},
   "outputs": [
    {
     "name": "stdout",
     "output_type": "stream",
     "text": [
      "sagemaker.config INFO - Not applying SDK defaults from location: /etc/xdg/sagemaker/config.yaml\n",
      "sagemaker.config INFO - Not applying SDK defaults from location: /home/sagemaker-user/.config/sagemaker/config.yaml\n"
     ]
    }
   ],
   "source": [
    "import json\n",
    "import torch\n",
    "import boto3\n",
    "import tarfile\n",
    "import sagemaker\n",
    "import transformers\n",
    "import pandas as pd\n",
    "from io import StringIO\n",
    "from sagemaker.huggingface import HuggingFaceModel\n",
    "from sagemaker import get_execution_role, Session"
   ]
  },
  {
   "cell_type": "code",
   "execution_count": 4,
   "metadata": {},
   "outputs": [],
   "source": [
    "s3 = boto3.client('s3')\n",
    "bucket_name = \"sagemaker-studio-619071335465-8h7owh9eftx\"\n",
    "model_artifact_local_path = \"/home/sagemaker-user/model_fixed.tar.gz\"\n",
    "\n",
    "s3_key = \"opt/ml/model/model.tar.gz\"\n",
    "\n",
    "s3.upload_file(model_artifact_local_path, bucket_name, s3_key)"
   ]
  },
  {
   "cell_type": "code",
   "execution_count": 5,
   "metadata": {},
   "outputs": [
    {
     "name": "stdout",
     "output_type": "stream",
     "text": [
      "Files in the archive:\n",
      "config.json\n",
      "model.safetensors\n",
      "tokenizer_config.json\n",
      "special_tokens_map.json\n",
      "vocab.txt\n",
      "tokenizer.json\n"
     ]
    }
   ],
   "source": [
    "s3_client = boto3.client('s3')\n",
    "bucket_name = \"sagemaker-studio-619071335465-8h7owh9eftx\"\n",
    "s3_key = \"opt/ml/model/model.tar.gz\"\n",
    "local_path = \"model_fixed.tar.gz\"\n",
    "\n",
    "s3_client.download_file(bucket_name, s3_key, local_path)\n",
    "\n",
    "with tarfile.open(local_path, \"r:gz\") as tar:\n",
    "    print(\"Files in the archive:\")\n",
    "    for member in tar.getmembers():\n",
    "        print(member.name)"
   ]
  },
  {
   "cell_type": "code",
   "execution_count": 6,
   "metadata": {},
   "outputs": [
    {
     "name": "stdout",
     "output_type": "stream",
     "text": [
      "s3://sagemaker-studio-619071335465-8h7owh9eftx/opt/ml/model/model.tar.gz\n",
      "4.38.2\n",
      "2.4.1.post100\n"
     ]
    }
   ],
   "source": [
    "model_artifact = f\"s3://{bucket_name}/{s3_key}\"\n",
    "\n",
    "print(model_artifact)\n",
    "print(transformers.__version__)\n",
    "print(torch.__version__)"
   ]
  },
  {
   "cell_type": "code",
   "execution_count": 27,
   "metadata": {},
   "outputs": [
    {
     "name": "stdout",
     "output_type": "stream",
     "text": [
      "-------!Endpoint deployed: hf-text-reviews-01044\n"
     ]
    }
   ],
   "source": [
    "\n",
    "sagemaker_session = Session()\n",
    "role = get_execution_role()\n",
    "\n",
    "model_artifact = f\"s3://{bucket_name}/{s3_key}\"\n",
    "\n",
    "huggingface_model = HuggingFaceModel(\n",
    "    model_data=model_artifact,\n",
    "    role=role,\n",
    "    transformers_version=\"4.37.0\",\n",
    "    pytorch_version=\"2.1.0\",\n",
    "    py_version=\"py310\",\n",
    "    sagemaker_session=sagemaker_session,\n",
    "    entry_point=\"inference_text.py\",\n",
    "    source_dir=\"/home/sagemaker-user/inference\",\n",
    ")\n",
    "\n",
    "\n",
    "endpoint_name = \"hf-text-reviews-01044\"\n",
    "predictor = huggingface_model.deploy(\n",
    "    initial_instance_count=1,\n",
    "    instance_type=\"ml.m5.large\",\n",
    "    endpoint_name=endpoint_name\n",
    ")\n",
    "\n",
    "print(f\"Endpoint deployed: {predictor.endpoint_name}\")\n"
   ]
  },
  {
   "cell_type": "code",
   "execution_count": 28,
   "metadata": {},
   "outputs": [
    {
     "name": "stdout",
     "output_type": "stream",
     "text": [
      "Found Parquet file: samples/text reviews/new_yelp_text_reviews.parquet\n",
      "Sampled 5 rows from samples/text reviews/new_yelp_text_reviews.parquet.\n"
     ]
    },
    {
     "data": {
      "text/plain": [
       "['Really poor service by a cranky, \"really should quit \" waitress. I usually empathize as I waitressed for several years in my working life but this one was just rotten and really unexpected from a usually reliably wonderful dining experience . \"Chops and fries\" served literally 2 tiny chops FROM a lamb rack for $27! NOT two lamb chop racks. Scandalous! And then over cooked. Worst part was how the waitress reacted when we express our sincere disappointment...she was arrogant! \"That\\'s  how it\\'s served. (Frown, arms crossed) Says so right there in the menu.\" Said we could have ONE other chop( proudly) for and additional fee! Really set on that appeasing me. After exhausting us of that \"solution\" reluctantly offered to return and replace the meal with another. We were on tight schedule for a show which we had told her of and she had already not rushed our food as we requested...so at that point- 45 min after having been seated-@5:30- time didn\\'t allow for it. Pissed!',\n",
       " \"Very delicious place and I would have regret alot if I didn't try this place.  Price is very reasonable and good portion of food.\\n\\nI just love the taste.  Chicken was so soft and tender and full of flavor.   I tried med level for spicy but it was still spicy for me.  I wonder how spicy when you make it real spicy.\\n\\nBe sure to avoid prime time since line gets very long.  I went there around 3 pm and I had to wait around 15 minutes.\",\n",
       " \"The best buger joint in the city of new orleans.  I love the atmosphere and don't get me started on those monsoons.\",\n",
       " \"Walking in, a large sculpture of General Nash mounted on a horse captured our attention but walking out, the only thing we were talking about was how great of a meal we'd just had.\\n\\nSitting in the large, open, candle lit dining room, our party of 6 ordered a good sampling of the menu and we loved each bite. We started with the cornbread which came as little muffins, duck wings, sausage-cheddar biscuits, and a couple of people got the butternut squash soup. Usually, one appetizer really stands out but here, they were all really good. \\n\\nThe biscuits were a little firm but still flaky and they had ground sausage and cheddar cheese sandwiched between them and served with a sweet sauce...delicious! The duck wings were beautifully fried and drizzled with truffle honey. They were so tasty that we requested an order of them to be packaged while we were still eating the first order. \\n\\nEntrees included the mixed grill, duck'am - duck wrapped in prosciutto, double stack burger, leg of lamb which was more of a substantial lamb steak, trout, and fried chicken. A large side of mashed potatoes was served with the main courses and we added an order of fried brussels sprouts with chili honey. We aren't a mashed potato loving family so the restaurant's choice to serve it family style initially didn't really appeal to us and we thought it was a little odd...that was until we tasted them. These were some of the creamiest, smoothest, seasoned potatoes that I'd ever had.\\n\\nWe were on a roll so of course we didn't stop after the entrees. We wanted to try the desserts. We got a few for the table and shared them - chocolate chip cookie pie which was served as a slice with bourbon vanilla ice cream, fried apple pie with a side of caramel and burnt honey ice cream, and apple cider sorbet. These were the perfect finishes to this excellent meal. \\n\\nI look forward to dining here again on my next trip to Nashville. Thanks to 5th and Taylor for cranking out such amazing food and for taking great care of us. The service couldn't have been better from everyone who stopped by our table including the Manager.\",\n",
       " \"Long lines, but great food and environment. I would recommend ordering online if you don't have time to wait. You'll understand when you get there.\"]"
      ]
     },
     "execution_count": 28,
     "metadata": {},
     "output_type": "execute_result"
    }
   ],
   "source": [
    "from pipelines.preprocessing_reviews import preprocess_text_reviews\n",
    "\n",
    "sampled_df = preprocess_text_reviews(bucket_name, 5)\n",
    "text_list = sampled_df['text'].tolist()\n",
    "text_list"
   ]
  },
  {
   "cell_type": "code",
   "execution_count": 29,
   "metadata": {},
   "outputs": [
    {
     "name": "stdout",
     "output_type": "stream",
     "text": [
      "{'label': ['Negative', 'Positive', 'Positive', 'Positive', 'Positive']}\n"
     ]
    }
   ],
   "source": [
    "payload = json.dumps({\"text\": text_list})\n",
    "\n",
    "sagemaker_client = boto3.client('sagemaker-runtime')\n",
    "\n",
    "response = sagemaker_client.invoke_endpoint(\n",
    "    EndpointName=endpoint_name,\n",
    "    Body=payload,\n",
    "    ContentType=\"application/json\"\n",
    ")\n",
    "\n",
    "# Decode the response\n",
    "response_body = json.loads(response[\"Body\"].read().decode(\"utf-8\"))\n",
    "print(response_body)"
   ]
  },
  {
   "cell_type": "code",
   "execution_count": 32,
   "metadata": {},
   "outputs": [
    {
     "name": "stdout",
     "output_type": "stream",
     "text": [
      "Review: Really poor service by a cranky, \"really should quit \" waitress. I usually empathize as I waitressed for several years in my working life but this one was just rotten and really unexpected from a usually reliably wonderful dining experience . \"Chops and fries\" served literally 2 tiny chops FROM a lamb rack for $27! NOT two lamb chop racks. Scandalous! And then over cooked. Worst part was how the waitress reacted when we express our sincere disappointment...she was arrogant! \"That's  how it's served. (Frown, arms crossed) Says so right there in the menu.\" Said we could have ONE other chop( proudly) for and additional fee! Really set on that appeasing me. After exhausting us of that \"solution\" reluctantly offered to return and replace the meal with another. We were on tight schedule for a show which we had told her of and she had already not rushed our food as we requested...so at that point- 45 min after having been seated-@5:30- time didn't allow for it. Pissed!\n",
      "Prediction: Negative\n",
      "Actual: 1\n",
      "----------------------------------------\n",
      "Review: Very delicious place and I would have regret alot if I didn't try this place.  Price is very reasonable and good portion of food.\n",
      "\n",
      "I just love the taste.  Chicken was so soft and tender and full of flavor.   I tried med level for spicy but it was still spicy for me.  I wonder how spicy when you make it real spicy.\n",
      "\n",
      "Be sure to avoid prime time since line gets very long.  I went there around 3 pm and I had to wait around 15 minutes.\n",
      "Prediction: Positive\n",
      "Actual: 5\n",
      "----------------------------------------\n",
      "Review: The best buger joint in the city of new orleans.  I love the atmosphere and don't get me started on those monsoons.\n",
      "Prediction: Positive\n",
      "Actual: 5\n",
      "----------------------------------------\n",
      "Review: Walking in, a large sculpture of General Nash mounted on a horse captured our attention but walking out, the only thing we were talking about was how great of a meal we'd just had.\n",
      "\n",
      "Sitting in the large, open, candle lit dining room, our party of 6 ordered a good sampling of the menu and we loved each bite. We started with the cornbread which came as little muffins, duck wings, sausage-cheddar biscuits, and a couple of people got the butternut squash soup. Usually, one appetizer really stands out but here, they were all really good. \n",
      "\n",
      "The biscuits were a little firm but still flaky and they had ground sausage and cheddar cheese sandwiched between them and served with a sweet sauce...delicious! The duck wings were beautifully fried and drizzled with truffle honey. They were so tasty that we requested an order of them to be packaged while we were still eating the first order. \n",
      "\n",
      "Entrees included the mixed grill, duck'am - duck wrapped in prosciutto, double stack burger, leg of lamb which was more of a substantial lamb steak, trout, and fried chicken. A large side of mashed potatoes was served with the main courses and we added an order of fried brussels sprouts with chili honey. We aren't a mashed potato loving family so the restaurant's choice to serve it family style initially didn't really appeal to us and we thought it was a little odd...that was until we tasted them. These were some of the creamiest, smoothest, seasoned potatoes that I'd ever had.\n",
      "\n",
      "We were on a roll so of course we didn't stop after the entrees. We wanted to try the desserts. We got a few for the table and shared them - chocolate chip cookie pie which was served as a slice with bourbon vanilla ice cream, fried apple pie with a side of caramel and burnt honey ice cream, and apple cider sorbet. These were the perfect finishes to this excellent meal. \n",
      "\n",
      "I look forward to dining here again on my next trip to Nashville. Thanks to 5th and Taylor for cranking out such amazing food and for taking great care of us. The service couldn't have been better from everyone who stopped by our table including the Manager.\n",
      "Prediction: Positive\n",
      "Actual: 5\n",
      "----------------------------------------\n",
      "Review: Long lines, but great food and environment. I would recommend ordering online if you don't have time to wait. You'll understand when you get there.\n",
      "Prediction: Positive\n",
      "Actual: 5\n",
      "----------------------------------------\n"
     ]
    }
   ],
   "source": [
    "\n",
    "from pipelines.inference_reviews import load_model_and_tokenizer, run_inference, postprocess_results\n",
    "\n",
    "s3_client = boto3.client('s3')\n",
    "s3_key = \"opt/ml/model/model.tar.gz\"\n",
    "local_dir = \"/home/sagemaker-user/checkpoint-29650\"\n",
    "\n",
    "reviews_list = sampled_df['stars_reviews'].tolist()\n",
    "\n",
    "\n",
    "# text_list = [\"The service was outstanding!\", \"Not worth the price.\"]\n",
    "model, tokenizer = load_model_and_tokenizer(local_dir, s3_key, bucket_name)\n",
    "predictions = run_inference(model, tokenizer, text_list)\n",
    "\n",
    "# Print results\n",
    "results = postprocess_results(text_list, predictions, reviews_list)\n",
    "\n",
    "for result in results:\n",
    "    print(f\"Review: {result['review']}\")\n",
    "    print(f\"Prediction: {result['prediction']}\")\n",
    "    print(f\"Actual: {result['actual']}\")\n",
    "    print(\"-\" * 40)\n"
   ]
  },
  {
   "cell_type": "code",
   "execution_count": 17,
   "metadata": {},
   "outputs": [
    {
     "name": "stdout",
     "output_type": "stream",
     "text": [
      "{'label': 'POSITIVE', 'score': 0.9999480247497559}\n",
      "label\n",
      "score\n"
     ]
    }
   ],
   "source": [
    "# text_list = [\"The service was outstanding!\", \"Not worth the price.\"]\n",
    "\n",
    "{\n",
    "  \"text_list\": [\"The service was outstanding!\", \"Not worth the price.\"]\n",
    "}\n",
    "\n",
    "endpoint_name = 'hf-text-reviews-0103'\n",
    "sagemaker_client = boto3.client('sagemaker-runtime')\n",
    "\n",
    "response = sagemaker_client.invoke_endpoint(\n",
    "    EndpointName=endpoint_name,\n",
    "    Body=json.dumps({\"text\": text_list}),\n",
    "    ContentType=\"application/json\"\n",
    ")\n",
    "\n",
    "# Decode the response\n",
    "\n",
    "response_body = json.loads(response[\"Body\"].read().decode(\"utf-8\"))\n",
    "print(response_body)\n",
    "\n",
    "for response in response_body:\n",
    "  print(response)"
   ]
  }
 ],
 "metadata": {
  "kernelspec": {
   "display_name": "base",
   "language": "python",
   "name": "python3"
  },
  "language_info": {
   "codemirror_mode": {
    "name": "ipython",
    "version": 3
   },
   "file_extension": ".py",
   "mimetype": "text/x-python",
   "name": "python",
   "nbconvert_exporter": "python",
   "pygments_lexer": "ipython3",
   "version": "3.11.10"
  }
 },
 "nbformat": 4,
 "nbformat_minor": 2
}
