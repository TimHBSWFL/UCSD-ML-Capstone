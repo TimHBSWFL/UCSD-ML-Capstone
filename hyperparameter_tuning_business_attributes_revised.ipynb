{
  "nbformat": 4,
  "nbformat_minor": 0,
  "metadata": {
    "colab": {
      "provenance": [],
      "authorship_tag": "ABX9TyPM/cKFVEKdYxWybJp4vRA/",
      "include_colab_link": true
    },
    "kernelspec": {
      "name": "python3",
      "display_name": "Python 3"
    },
    "language_info": {
      "name": "python"
    }
  },
  "cells": [
    {
      "cell_type": "markdown",
      "metadata": {
        "id": "view-in-github",
        "colab_type": "text"
      },
      "source": [
        "<a href=\"https://colab.research.google.com/github/TimHBSWFL/UCSD-ML-Capstone/blob/main/hyperparameter_tuning_business_attributes.ipynb\" target=\"_parent\"><img src=\"https://colab.research.google.com/assets/colab-badge.svg\" alt=\"Open In Colab\"/></a>"
      ]
    },
    {
      "cell_type": "code",
      "source": [
        "!pip install optuna"
      ],
      "metadata": {
        "colab": {
          "base_uri": "https://localhost:8080/"
        },
        "id": "zp0OrbIsiA8Q",
        "outputId": "ff3b4833-873d-4e55-fffb-01d58b19c6e2"
      },
      "execution_count": 1,
      "outputs": [
        {
          "output_type": "stream",
          "name": "stdout",
          "text": [
            "Collecting optuna\n",
            "  Downloading optuna-4.1.0-py3-none-any.whl.metadata (16 kB)\n",
            "Collecting alembic>=1.5.0 (from optuna)\n",
            "  Downloading alembic-1.14.0-py3-none-any.whl.metadata (7.4 kB)\n",
            "Collecting colorlog (from optuna)\n",
            "  Downloading colorlog-6.9.0-py3-none-any.whl.metadata (10 kB)\n",
            "Requirement already satisfied: numpy in /usr/local/lib/python3.10/dist-packages (from optuna) (1.26.4)\n",
            "Requirement already satisfied: packaging>=20.0 in /usr/local/lib/python3.10/dist-packages (from optuna) (24.2)\n",
            "Requirement already satisfied: sqlalchemy>=1.4.2 in /usr/local/lib/python3.10/dist-packages (from optuna) (2.0.36)\n",
            "Requirement already satisfied: tqdm in /usr/local/lib/python3.10/dist-packages (from optuna) (4.66.6)\n",
            "Requirement already satisfied: PyYAML in /usr/local/lib/python3.10/dist-packages (from optuna) (6.0.2)\n",
            "Collecting Mako (from alembic>=1.5.0->optuna)\n",
            "  Downloading Mako-1.3.6-py3-none-any.whl.metadata (2.9 kB)\n",
            "Requirement already satisfied: typing-extensions>=4 in /usr/local/lib/python3.10/dist-packages (from alembic>=1.5.0->optuna) (4.12.2)\n",
            "Requirement already satisfied: greenlet!=0.4.17 in /usr/local/lib/python3.10/dist-packages (from sqlalchemy>=1.4.2->optuna) (3.1.1)\n",
            "Requirement already satisfied: MarkupSafe>=0.9.2 in /usr/local/lib/python3.10/dist-packages (from Mako->alembic>=1.5.0->optuna) (3.0.2)\n",
            "Downloading optuna-4.1.0-py3-none-any.whl (364 kB)\n",
            "\u001b[2K   \u001b[90m━━━━━━━━━━━━━━━━━━━━━━━━━━━━━━━━━━━━━━━━\u001b[0m \u001b[32m364.4/364.4 kB\u001b[0m \u001b[31m6.8 MB/s\u001b[0m eta \u001b[36m0:00:00\u001b[0m\n",
            "\u001b[?25hDownloading alembic-1.14.0-py3-none-any.whl (233 kB)\n",
            "\u001b[2K   \u001b[90m━━━━━━━━━━━━━━━━━━━━━━━━━━━━━━━━━━━━━━━━\u001b[0m \u001b[32m233.5/233.5 kB\u001b[0m \u001b[31m15.9 MB/s\u001b[0m eta \u001b[36m0:00:00\u001b[0m\n",
            "\u001b[?25hDownloading colorlog-6.9.0-py3-none-any.whl (11 kB)\n",
            "Downloading Mako-1.3.6-py3-none-any.whl (78 kB)\n",
            "\u001b[2K   \u001b[90m━━━━━━━━━━━━━━━━━━━━━━━━━━━━━━━━━━━━━━━━\u001b[0m \u001b[32m78.6/78.6 kB\u001b[0m \u001b[31m2.2 MB/s\u001b[0m eta \u001b[36m0:00:00\u001b[0m\n",
            "\u001b[?25hInstalling collected packages: Mako, colorlog, alembic, optuna\n",
            "Successfully installed Mako-1.3.6 alembic-1.14.0 colorlog-6.9.0 optuna-4.1.0\n"
          ]
        }
      ]
    },
    {
      "cell_type": "code",
      "source": [
        "!pip install datasets"
      ],
      "metadata": {
        "colab": {
          "base_uri": "https://localhost:8080/"
        },
        "id": "t4OhyK9LiOti",
        "outputId": "f03f806a-050c-46e2-d746-a6018b4b3388"
      },
      "execution_count": 2,
      "outputs": [
        {
          "output_type": "stream",
          "name": "stdout",
          "text": [
            "Collecting datasets\n",
            "  Downloading datasets-3.1.0-py3-none-any.whl.metadata (20 kB)\n",
            "Requirement already satisfied: filelock in /usr/local/lib/python3.10/dist-packages (from datasets) (3.16.1)\n",
            "Requirement already satisfied: numpy>=1.17 in /usr/local/lib/python3.10/dist-packages (from datasets) (1.26.4)\n",
            "Requirement already satisfied: pyarrow>=15.0.0 in /usr/local/lib/python3.10/dist-packages (from datasets) (17.0.0)\n",
            "Collecting dill<0.3.9,>=0.3.0 (from datasets)\n",
            "  Downloading dill-0.3.8-py3-none-any.whl.metadata (10 kB)\n",
            "Requirement already satisfied: pandas in /usr/local/lib/python3.10/dist-packages (from datasets) (2.2.2)\n",
            "Requirement already satisfied: requests>=2.32.2 in /usr/local/lib/python3.10/dist-packages (from datasets) (2.32.3)\n",
            "Requirement already satisfied: tqdm>=4.66.3 in /usr/local/lib/python3.10/dist-packages (from datasets) (4.66.6)\n",
            "Collecting xxhash (from datasets)\n",
            "  Downloading xxhash-3.5.0-cp310-cp310-manylinux_2_17_x86_64.manylinux2014_x86_64.whl.metadata (12 kB)\n",
            "Collecting multiprocess<0.70.17 (from datasets)\n",
            "  Downloading multiprocess-0.70.16-py310-none-any.whl.metadata (7.2 kB)\n",
            "Collecting fsspec<=2024.9.0,>=2023.1.0 (from fsspec[http]<=2024.9.0,>=2023.1.0->datasets)\n",
            "  Downloading fsspec-2024.9.0-py3-none-any.whl.metadata (11 kB)\n",
            "Requirement already satisfied: aiohttp in /usr/local/lib/python3.10/dist-packages (from datasets) (3.11.2)\n",
            "Requirement already satisfied: huggingface-hub>=0.23.0 in /usr/local/lib/python3.10/dist-packages (from datasets) (0.26.2)\n",
            "Requirement already satisfied: packaging in /usr/local/lib/python3.10/dist-packages (from datasets) (24.2)\n",
            "Requirement already satisfied: pyyaml>=5.1 in /usr/local/lib/python3.10/dist-packages (from datasets) (6.0.2)\n",
            "Requirement already satisfied: aiohappyeyeballs>=2.3.0 in /usr/local/lib/python3.10/dist-packages (from aiohttp->datasets) (2.4.3)\n",
            "Requirement already satisfied: aiosignal>=1.1.2 in /usr/local/lib/python3.10/dist-packages (from aiohttp->datasets) (1.3.1)\n",
            "Requirement already satisfied: attrs>=17.3.0 in /usr/local/lib/python3.10/dist-packages (from aiohttp->datasets) (24.2.0)\n",
            "Requirement already satisfied: frozenlist>=1.1.1 in /usr/local/lib/python3.10/dist-packages (from aiohttp->datasets) (1.5.0)\n",
            "Requirement already satisfied: multidict<7.0,>=4.5 in /usr/local/lib/python3.10/dist-packages (from aiohttp->datasets) (6.1.0)\n",
            "Requirement already satisfied: propcache>=0.2.0 in /usr/local/lib/python3.10/dist-packages (from aiohttp->datasets) (0.2.0)\n",
            "Requirement already satisfied: yarl<2.0,>=1.17.0 in /usr/local/lib/python3.10/dist-packages (from aiohttp->datasets) (1.17.2)\n",
            "Requirement already satisfied: async-timeout<6.0,>=4.0 in /usr/local/lib/python3.10/dist-packages (from aiohttp->datasets) (4.0.3)\n",
            "Requirement already satisfied: typing-extensions>=3.7.4.3 in /usr/local/lib/python3.10/dist-packages (from huggingface-hub>=0.23.0->datasets) (4.12.2)\n",
            "Requirement already satisfied: charset-normalizer<4,>=2 in /usr/local/lib/python3.10/dist-packages (from requests>=2.32.2->datasets) (3.4.0)\n",
            "Requirement already satisfied: idna<4,>=2.5 in /usr/local/lib/python3.10/dist-packages (from requests>=2.32.2->datasets) (3.10)\n",
            "Requirement already satisfied: urllib3<3,>=1.21.1 in /usr/local/lib/python3.10/dist-packages (from requests>=2.32.2->datasets) (2.2.3)\n",
            "Requirement already satisfied: certifi>=2017.4.17 in /usr/local/lib/python3.10/dist-packages (from requests>=2.32.2->datasets) (2024.8.30)\n",
            "Requirement already satisfied: python-dateutil>=2.8.2 in /usr/local/lib/python3.10/dist-packages (from pandas->datasets) (2.8.2)\n",
            "Requirement already satisfied: pytz>=2020.1 in /usr/local/lib/python3.10/dist-packages (from pandas->datasets) (2024.2)\n",
            "Requirement already satisfied: tzdata>=2022.7 in /usr/local/lib/python3.10/dist-packages (from pandas->datasets) (2024.2)\n",
            "Requirement already satisfied: six>=1.5 in /usr/local/lib/python3.10/dist-packages (from python-dateutil>=2.8.2->pandas->datasets) (1.16.0)\n",
            "Downloading datasets-3.1.0-py3-none-any.whl (480 kB)\n",
            "\u001b[2K   \u001b[90m━━━━━━━━━━━━━━━━━━━━━━━━━━━━━━━━━━━━━━━━\u001b[0m \u001b[32m480.6/480.6 kB\u001b[0m \u001b[31m8.4 MB/s\u001b[0m eta \u001b[36m0:00:00\u001b[0m\n",
            "\u001b[?25hDownloading dill-0.3.8-py3-none-any.whl (116 kB)\n",
            "\u001b[2K   \u001b[90m━━━━━━━━━━━━━━━━━━━━━━━━━━━━━━━━━━━━━━━━\u001b[0m \u001b[32m116.3/116.3 kB\u001b[0m \u001b[31m6.3 MB/s\u001b[0m eta \u001b[36m0:00:00\u001b[0m\n",
            "\u001b[?25hDownloading fsspec-2024.9.0-py3-none-any.whl (179 kB)\n",
            "\u001b[2K   \u001b[90m━━━━━━━━━━━━━━━━━━━━━━━━━━━━━━━━━━━━━━━━\u001b[0m \u001b[32m179.3/179.3 kB\u001b[0m \u001b[31m7.3 MB/s\u001b[0m eta \u001b[36m0:00:00\u001b[0m\n",
            "\u001b[?25hDownloading multiprocess-0.70.16-py310-none-any.whl (134 kB)\n",
            "\u001b[2K   \u001b[90m━━━━━━━━━━━━━━━━━━━━━━━━━━━━━━━━━━━━━━━━\u001b[0m \u001b[32m134.8/134.8 kB\u001b[0m \u001b[31m7.9 MB/s\u001b[0m eta \u001b[36m0:00:00\u001b[0m\n",
            "\u001b[?25hDownloading xxhash-3.5.0-cp310-cp310-manylinux_2_17_x86_64.manylinux2014_x86_64.whl (194 kB)\n",
            "\u001b[2K   \u001b[90m━━━━━━━━━━━━━━━━━━━━━━━━━━━━━━━━━━━━━━━━\u001b[0m \u001b[32m194.1/194.1 kB\u001b[0m \u001b[31m15.8 MB/s\u001b[0m eta \u001b[36m0:00:00\u001b[0m\n",
            "\u001b[?25hInstalling collected packages: xxhash, fsspec, dill, multiprocess, datasets\n",
            "  Attempting uninstall: fsspec\n",
            "    Found existing installation: fsspec 2024.10.0\n",
            "    Uninstalling fsspec-2024.10.0:\n",
            "      Successfully uninstalled fsspec-2024.10.0\n",
            "\u001b[31mERROR: pip's dependency resolver does not currently take into account all the packages that are installed. This behaviour is the source of the following dependency conflicts.\n",
            "gcsfs 2024.10.0 requires fsspec==2024.10.0, but you have fsspec 2024.9.0 which is incompatible.\u001b[0m\u001b[31m\n",
            "\u001b[0mSuccessfully installed datasets-3.1.0 dill-0.3.8 fsspec-2024.9.0 multiprocess-0.70.16 xxhash-3.5.0\n"
          ]
        }
      ]
    },
    {
      "cell_type": "code",
      "execution_count": 3,
      "metadata": {
        "id": "bd1yy_wcGJUU"
      },
      "outputs": [],
      "source": [
        "import optuna\n",
        "import pandas as pd\n",
        "import numpy as np\n",
        "from sklearn.model_selection import train_test_split\n",
        "from sklearn.preprocessing import StandardScaler\n",
        "from xgboost import XGBClassifier\n",
        "from sklearn.metrics import accuracy_score, classification_report, mean_squared_error, r2_score\n",
        "from xgboost import XGBRegressor\n",
        "import xgboost as xgb"
      ]
    },
    {
      "cell_type": "code",
      "source": [
        "from google.colab import drive\n",
        "drive.mount('/content/drive')"
      ],
      "metadata": {
        "colab": {
          "base_uri": "https://localhost:8080/"
        },
        "id": "Z-8qbWkLG-OK",
        "outputId": "abbf0dc6-63da-46e0-b38d-53fc19001f51"
      },
      "execution_count": 4,
      "outputs": [
        {
          "output_type": "stream",
          "name": "stdout",
          "text": [
            "Mounted at /content/drive\n"
          ]
        }
      ]
    },
    {
      "cell_type": "code",
      "source": [
        "filename = \"FL_Restaurants_Business Attributes_Edited\" + \".csv\"\n",
        "directory = '/content/drive/My Drive/Capstone Data Collection/'\n",
        "\n",
        "path = directory + filename\n",
        "\n",
        "chunk_iterator = pd.read_csv(path, chunksize=10000)\n",
        "\n",
        "chunks = []\n",
        "\n",
        "for chunk in chunk_iterator:\n",
        "  chunks.append(chunk)\n",
        "\n",
        "df = pd.concat(chunks, ignore_index=True)\n",
        "df.shape"
      ],
      "metadata": {
        "colab": {
          "base_uri": "https://localhost:8080/"
        },
        "id": "LtxnGACHG-M0",
        "outputId": "ad4abaaa-d9fc-47c2-a40e-531ad0172c56"
      },
      "execution_count": 13,
      "outputs": [
        {
          "output_type": "execute_result",
          "data": {
            "text/plain": [
              "(8723, 166)"
            ]
          },
          "metadata": {},
          "execution_count": 13
        }
      ]
    },
    {
      "cell_type": "code",
      "source": [
        "df2 = df.copy()"
      ],
      "metadata": {
        "id": "L13EtQA0jnt1"
      },
      "execution_count": 14,
      "outputs": []
    },
    {
      "cell_type": "markdown",
      "source": [
        "XGBoost Regressor Hyperparameter Tuning"
      ],
      "metadata": {
        "id": "F4N-fw9Yoynd"
      }
    },
    {
      "cell_type": "code",
      "source": [
        "X = df.drop(columns=['stars'])\n",
        "y = df['stars']\n",
        "\n",
        "X_train, X_test, y_train, y_test = train_test_split(X, y, test_size=0.2, random_state=42)\n",
        "\n",
        "\n",
        "scaler = StandardScaler()\n",
        "\n",
        "X_train_scaled = scaler.fit_transform(X_train)\n",
        "X_test_scaled = scaler.transform(X_test)\n",
        "\n",
        "def objective(trial):\n",
        "    params = {\n",
        "      \"n_estimators\": trial.suggest_int(\"n_estimators\", 50, 500),\n",
        "      \"max_depth\": trial.suggest_int(\"max_depth\", 3, 15),\n",
        "      \"learning_rate\": trial.suggest_float(\"learning_rate\", 0.01, 0.3, log=True),\n",
        "      \"subsample\": trial.suggest_float(\"subsample\", 0.6, 1.0),\n",
        "      \"colsample_bytree\": trial.suggest_float(\"colsample_bytree\", 0.6, 1.0),\n",
        "      \"random_state\": 42,\n",
        "      \"objective\": \"reg:squarederror\"\n",
        "  }\n",
        "\n",
        "    model = XGBRegressor(**params)\n",
        "    model.fit(X_train_scaled, y_train)\n",
        "\n",
        "    y_pred = model.predict(X_test_scaled)\n",
        "    y_pred_rounded = np.round(y_pred * 2) / 2\n",
        "\n",
        "    mse = mean_squared_error(y_test, y_pred_rounded)\n",
        "    return mse\n",
        "\n",
        "\n",
        "study = optuna.create_study(direction=\"minimize\")\n",
        "study.optimize(objective, n_trials=50)\n",
        "\n",
        "print(\"Best Parameters:\", study.best_params)\n",
        "print(\"Best MSE:\", study.best_value)\n"
      ],
      "metadata": {
        "colab": {
          "base_uri": "https://localhost:8080/"
        },
        "id": "K1nbRqq2nVV9",
        "outputId": "794a0085-e35f-457a-cae4-0ea5fbeb2444"
      },
      "execution_count": 15,
      "outputs": [
        {
          "output_type": "stream",
          "name": "stderr",
          "text": [
            "[I 2024-11-29 21:51:02,520] A new study created in memory with name: no-name-3118025a-6839-4742-ba69-61c7bb841c9a\n",
            "[I 2024-11-29 21:51:08,767] Trial 0 finished with value: 0.014326647564469915 and parameters: {'n_estimators': 248, 'max_depth': 9, 'learning_rate': 0.11528045403735948, 'subsample': 0.8906725354004891, 'colsample_bytree': 0.6753077670087334}. Best is trial 0 with value: 0.014326647564469915.\n",
            "[I 2024-11-29 21:51:09,701] Trial 1 finished with value: 0.012320916905444125 and parameters: {'n_estimators': 364, 'max_depth': 4, 'learning_rate': 0.08078950017227297, 'subsample': 0.7501871032303858, 'colsample_bytree': 0.7001288918378585}. Best is trial 1 with value: 0.012320916905444125.\n",
            "[I 2024-11-29 21:51:10,580] Trial 2 finished with value: 0.01489971346704871 and parameters: {'n_estimators': 122, 'max_depth': 9, 'learning_rate': 0.2565082822291618, 'subsample': 0.6730897656057443, 'colsample_bytree': 0.7156584836843521}. Best is trial 1 with value: 0.012320916905444125.\n",
            "[I 2024-11-29 21:51:12,648] Trial 3 finished with value: 0.013610315186246419 and parameters: {'n_estimators': 203, 'max_depth': 11, 'learning_rate': 0.12472354815890035, 'subsample': 0.7419389106812757, 'colsample_bytree': 0.9450258177782103}. Best is trial 1 with value: 0.012320916905444125.\n",
            "[I 2024-11-29 21:51:14,657] Trial 4 finished with value: 0.05114613180515759 and parameters: {'n_estimators': 133, 'max_depth': 13, 'learning_rate': 0.016041561469166528, 'subsample': 0.7300228731672591, 'colsample_bytree': 0.648839111992249}. Best is trial 1 with value: 0.012320916905444125.\n",
            "[I 2024-11-29 21:51:19,575] Trial 5 finished with value: 0.014183381088825215 and parameters: {'n_estimators': 474, 'max_depth': 6, 'learning_rate': 0.12620547817604613, 'subsample': 0.8310928244217064, 'colsample_bytree': 0.8597669995111357}. Best is trial 1 with value: 0.012320916905444125.\n",
            "[I 2024-11-29 21:51:20,385] Trial 6 finished with value: 0.014613180515759312 and parameters: {'n_estimators': 92, 'max_depth': 9, 'learning_rate': 0.03849876393652002, 'subsample': 0.7216296438671206, 'colsample_bytree': 0.7822658779321584}. Best is trial 1 with value: 0.012320916905444125.\n",
            "[I 2024-11-29 21:51:21,068] Trial 7 finished with value: 0.012607449856733524 and parameters: {'n_estimators': 215, 'max_depth': 5, 'learning_rate': 0.19761735868512448, 'subsample': 0.717709418251657, 'colsample_bytree': 0.8103167698660572}. Best is trial 1 with value: 0.012320916905444125.\n",
            "[I 2024-11-29 21:51:23,599] Trial 8 finished with value: 0.014326647564469915 and parameters: {'n_estimators': 460, 'max_depth': 9, 'learning_rate': 0.15862701163262893, 'subsample': 0.997362765998243, 'colsample_bytree': 0.8519540124143523}. Best is trial 1 with value: 0.012320916905444125.\n",
            "[I 2024-11-29 21:51:24,346] Trial 9 finished with value: 0.012893982808022923 and parameters: {'n_estimators': 365, 'max_depth': 3, 'learning_rate': 0.28207232461205684, 'subsample': 0.8395210028092749, 'colsample_bytree': 0.8621689689324905}. Best is trial 1 with value: 0.012320916905444125.\n",
            "[I 2024-11-29 21:51:34,001] Trial 10 finished with value: 0.01504297994269341 and parameters: {'n_estimators': 347, 'max_depth': 15, 'learning_rate': 0.054460948627483116, 'subsample': 0.6061078941914145, 'colsample_bytree': 0.6001131286417287}. Best is trial 1 with value: 0.012320916905444125.\n",
            "[I 2024-11-29 21:51:34,814] Trial 11 finished with value: 0.012750716332378223 and parameters: {'n_estimators': 339, 'max_depth': 3, 'learning_rate': 0.027709163361420302, 'subsample': 0.647397655357865, 'colsample_bytree': 0.7622935669607813}. Best is trial 1 with value: 0.012320916905444125.\n",
            "[I 2024-11-29 21:51:35,815] Trial 12 finished with value: 0.013180515759312322 and parameters: {'n_estimators': 270, 'max_depth': 6, 'learning_rate': 0.08389848386022013, 'subsample': 0.7773225707224639, 'colsample_bytree': 0.7256650037191174}. Best is trial 1 with value: 0.012320916905444125.\n",
            "[I 2024-11-29 21:51:36,648] Trial 13 finished with value: 0.013180515759312322 and parameters: {'n_estimators': 200, 'max_depth': 6, 'learning_rate': 0.0683207053332171, 'subsample': 0.6825988603368244, 'colsample_bytree': 0.9686984705611223}. Best is trial 1 with value: 0.012320916905444125.\n",
            "[I 2024-11-29 21:51:37,910] Trial 14 finished with value: 0.013896848137535816 and parameters: {'n_estimators': 403, 'max_depth': 5, 'learning_rate': 0.187791368632397, 'subsample': 0.7843096648281768, 'colsample_bytree': 0.8030571449712947}. Best is trial 1 with value: 0.012320916905444125.\n",
            "[I 2024-11-29 21:51:38,702] Trial 15 finished with value: 0.012607449856733524 and parameters: {'n_estimators': 292, 'max_depth': 4, 'learning_rate': 0.04347823809063237, 'subsample': 0.9015587600332184, 'colsample_bytree': 0.9134470254658347}. Best is trial 1 with value: 0.012320916905444125.\n",
            "[I 2024-11-29 21:51:39,611] Trial 16 finished with value: 0.012607449856733524 and parameters: {'n_estimators': 181, 'max_depth': 7, 'learning_rate': 0.07819937296772835, 'subsample': 0.619383416756851, 'colsample_bytree': 0.8139698251981641}. Best is trial 1 with value: 0.012320916905444125.\n",
            "[I 2024-11-29 21:51:41,646] Trial 17 finished with value: 0.013610315186246419 and parameters: {'n_estimators': 421, 'max_depth': 7, 'learning_rate': 0.012684991011836679, 'subsample': 0.7051512921310843, 'colsample_bytree': 0.7288489745237858}. Best is trial 1 with value: 0.012320916905444125.\n",
            "[I 2024-11-29 21:51:43,000] Trial 18 finished with value: 0.012607449856733524 and parameters: {'n_estimators': 306, 'max_depth': 4, 'learning_rate': 0.19685135156401617, 'subsample': 0.7655133687512887, 'colsample_bytree': 0.6762547900410041}. Best is trial 1 with value: 0.012320916905444125.\n",
            "[I 2024-11-29 21:51:46,101] Trial 19 finished with value: 0.012607449856733524 and parameters: {'n_estimators': 248, 'max_depth': 5, 'learning_rate': 0.02304213156953053, 'subsample': 0.8282997755900136, 'colsample_bytree': 0.9109999267402032}. Best is trial 1 with value: 0.012320916905444125.\n",
            "[I 2024-11-29 21:51:49,470] Trial 20 finished with value: 0.013180515759312322 and parameters: {'n_estimators': 389, 'max_depth': 7, 'learning_rate': 0.09876071023016274, 'subsample': 0.8917213812786822, 'colsample_bytree': 0.6105989381702162}. Best is trial 1 with value: 0.012320916905444125.\n",
            "[I 2024-11-29 21:51:50,287] Trial 21 finished with value: 0.012607449856733524 and parameters: {'n_estimators': 309, 'max_depth': 4, 'learning_rate': 0.046785297814904, 'subsample': 0.9718805695225835, 'colsample_bytree': 0.900791135158632}. Best is trial 1 with value: 0.012320916905444125.\n",
            "[I 2024-11-29 21:51:51,020] Trial 22 finished with value: 0.012607449856733524 and parameters: {'n_estimators': 302, 'max_depth': 3, 'learning_rate': 0.03103399541905482, 'subsample': 0.9299482542675279, 'colsample_bytree': 0.9189628012125296}. Best is trial 1 with value: 0.012320916905444125.\n",
            "[I 2024-11-29 21:51:51,706] Trial 23 finished with value: 0.012177650429799427 and parameters: {'n_estimators': 235, 'max_depth': 4, 'learning_rate': 0.06560622042044727, 'subsample': 0.8632492863968123, 'colsample_bytree': 0.983429338945772}. Best is trial 23 with value: 0.012177650429799427.\n",
            "[I 2024-11-29 21:51:52,316] Trial 24 finished with value: 0.012464183381088826 and parameters: {'n_estimators': 165, 'max_depth': 5, 'learning_rate': 0.06390506559937673, 'subsample': 0.8598335160865269, 'colsample_bytree': 0.9825638935618324}. Best is trial 23 with value: 0.012177650429799427.\n",
            "[I 2024-11-29 21:51:52,655] Trial 25 finished with value: 0.013037249283667621 and parameters: {'n_estimators': 58, 'max_depth': 4, 'learning_rate': 0.058201782092380625, 'subsample': 0.8588771578022678, 'colsample_bytree': 0.9985358039441558}. Best is trial 23 with value: 0.012177650429799427.\n",
            "[I 2024-11-29 21:51:53,656] Trial 26 finished with value: 0.013467048710601719 and parameters: {'n_estimators': 159, 'max_depth': 8, 'learning_rate': 0.06532136714878584, 'subsample': 0.8071994349701727, 'colsample_bytree': 0.99145154044354}. Best is trial 23 with value: 0.012177650429799427.\n",
            "[I 2024-11-29 21:51:56,321] Trial 27 finished with value: 0.014613180515759312 and parameters: {'n_estimators': 237, 'max_depth': 12, 'learning_rate': 0.08926065414163253, 'subsample': 0.9322424007106276, 'colsample_bytree': 0.9537085795471932}. Best is trial 23 with value: 0.012177650429799427.\n",
            "[I 2024-11-29 21:51:56,941] Trial 28 finished with value: 0.012750716332378223 and parameters: {'n_estimators': 152, 'max_depth': 5, 'learning_rate': 0.03539220682442073, 'subsample': 0.8735910894967431, 'colsample_bytree': 0.9735676258547589}. Best is trial 23 with value: 0.012177650429799427.\n",
            "[I 2024-11-29 21:52:02,467] Trial 29 finished with value: 0.014756446991404012 and parameters: {'n_estimators': 247, 'max_depth': 10, 'learning_rate': 0.11263090209804177, 'subsample': 0.8110885412745341, 'colsample_bytree': 0.6845896306140613}. Best is trial 23 with value: 0.012177650429799427.\n",
            "[I 2024-11-29 21:52:08,272] Trial 30 finished with value: 0.013467048710601719 and parameters: {'n_estimators': 438, 'max_depth': 8, 'learning_rate': 0.05210312602301961, 'subsample': 0.9282350055267037, 'colsample_bytree': 0.8791686478485282}. Best is trial 23 with value: 0.012177650429799427.\n",
            "[I 2024-11-29 21:52:08,964] Trial 31 finished with value: 0.012464183381088826 and parameters: {'n_estimators': 222, 'max_depth': 5, 'learning_rate': 0.13537220663168964, 'subsample': 0.7617468734557689, 'colsample_bytree': 0.639725808643613}. Best is trial 23 with value: 0.012177650429799427.\n",
            "[I 2024-11-29 21:52:09,438] Trial 32 finished with value: 0.012320916905444125 and parameters: {'n_estimators': 171, 'max_depth': 3, 'learning_rate': 0.1511524621196837, 'subsample': 0.8670829703848791, 'colsample_bytree': 0.6607561746179174}. Best is trial 23 with value: 0.012177650429799427.\n",
            "[I 2024-11-29 21:52:09,789] Trial 33 finished with value: 0.012607449856733524 and parameters: {'n_estimators': 94, 'max_depth': 3, 'learning_rate': 0.07136100475800539, 'subsample': 0.8631277265121284, 'colsample_bytree': 0.6917898656478507}. Best is trial 23 with value: 0.012177650429799427.\n",
            "[I 2024-11-29 21:52:10,341] Trial 34 finished with value: 0.012750716332378223 and parameters: {'n_estimators': 172, 'max_depth': 4, 'learning_rate': 0.10835841764348787, 'subsample': 0.9052880062799123, 'colsample_bytree': 0.6351078032621413}. Best is trial 23 with value: 0.012177650429799427.\n",
            "[I 2024-11-29 21:52:10,845] Trial 35 finished with value: 0.012320916905444125 and parameters: {'n_estimators': 193, 'max_depth': 3, 'learning_rate': 0.09118121712330471, 'subsample': 0.8429847864983117, 'colsample_bytree': 0.7417036824055504}. Best is trial 23 with value: 0.012177650429799427.\n",
            "[I 2024-11-29 21:52:11,383] Trial 36 finished with value: 0.012034383954154728 and parameters: {'n_estimators': 200, 'max_depth': 3, 'learning_rate': 0.15228155915476052, 'subsample': 0.7495728707485861, 'colsample_bytree': 0.7458843432111124}. Best is trial 36 with value: 0.012034383954154728.\n",
            "[I 2024-11-29 21:52:16,107] Trial 37 finished with value: 0.012607449856733524 and parameters: {'n_estimators': 264, 'max_depth': 3, 'learning_rate': 0.23702787950518048, 'subsample': 0.7501726688010164, 'colsample_bytree': 0.7025288813810152}. Best is trial 36 with value: 0.012034383954154728.\n",
            "[I 2024-11-29 21:52:17,205] Trial 38 finished with value: 0.012464183381088826 and parameters: {'n_estimators': 221, 'max_depth': 4, 'learning_rate': 0.15411207808339134, 'subsample': 0.7923037907179868, 'colsample_bytree': 0.6548313149688783}. Best is trial 36 with value: 0.012034383954154728.\n",
            "[I 2024-11-29 21:52:17,768] Trial 39 finished with value: 0.012320916905444125 and parameters: {'n_estimators': 123, 'max_depth': 6, 'learning_rate': 0.14411630342906465, 'subsample': 0.7005929361988821, 'colsample_bytree': 0.7681153495420595}. Best is trial 36 with value: 0.012034383954154728.\n",
            "[I 2024-11-29 21:52:19,397] Trial 40 finished with value: 0.014756446991404012 and parameters: {'n_estimators': 145, 'max_depth': 11, 'learning_rate': 0.16945088072467315, 'subsample': 0.8200184345338536, 'colsample_bytree': 0.8332397194596229}. Best is trial 36 with value: 0.012034383954154728.\n",
            "[I 2024-11-29 21:52:19,893] Trial 41 finished with value: 0.012464183381088826 and parameters: {'n_estimators': 188, 'max_depth': 3, 'learning_rate': 0.09543112424470797, 'subsample': 0.8429098454405493, 'colsample_bytree': 0.7451820105052201}. Best is trial 36 with value: 0.012034383954154728.\n",
            "[I 2024-11-29 21:52:20,446] Trial 42 finished with value: 0.012177650429799427 and parameters: {'n_estimators': 211, 'max_depth': 3, 'learning_rate': 0.23722586031602436, 'subsample': 0.7374454575117093, 'colsample_bytree': 0.7117316889427464}. Best is trial 36 with value: 0.012034383954154728.\n",
            "[I 2024-11-29 21:52:20,832] Trial 43 finished with value: 0.012750716332378223 and parameters: {'n_estimators': 103, 'max_depth': 4, 'learning_rate': 0.24013859535388665, 'subsample': 0.7285535759639056, 'colsample_bytree': 0.6657742931622735}. Best is trial 36 with value: 0.012034383954154728.\n",
            "[I 2024-11-29 21:52:22,697] Trial 44 finished with value: 0.014326647564469915 and parameters: {'n_estimators': 210, 'max_depth': 14, 'learning_rate': 0.2993046310057843, 'subsample': 0.7443954591269455, 'colsample_bytree': 0.7091121669354413}. Best is trial 36 with value: 0.012034383954154728.\n",
            "[I 2024-11-29 21:52:23,457] Trial 45 finished with value: 0.012464183381088826 and parameters: {'n_estimators': 336, 'max_depth': 3, 'learning_rate': 0.22432587482221494, 'subsample': 0.6969932473011395, 'colsample_bytree': 0.7521161705679016}. Best is trial 36 with value: 0.012034383954154728.\n",
            "[I 2024-11-29 21:52:24,276] Trial 46 finished with value: 0.012893982808022923 and parameters: {'n_estimators': 272, 'max_depth': 4, 'learning_rate': 0.12469464614315226, 'subsample': 0.6668298490487916, 'colsample_bytree': 0.7769821891047318}. Best is trial 36 with value: 0.012034383954154728.\n",
            "[I 2024-11-29 21:52:25,198] Trial 47 finished with value: 0.012464183381088826 and parameters: {'n_estimators': 234, 'max_depth': 6, 'learning_rate': 0.17318505199447332, 'subsample': 0.7229088742346572, 'colsample_bytree': 0.7199678728351873}. Best is trial 36 with value: 0.012034383954154728.\n",
            "[I 2024-11-29 21:52:28,201] Trial 48 finished with value: 0.012750716332378223 and parameters: {'n_estimators': 372, 'max_depth': 3, 'learning_rate': 0.20547585741690216, 'subsample': 0.7768622988711021, 'colsample_bytree': 0.6232182583428842}. Best is trial 36 with value: 0.012034383954154728.\n",
            "[I 2024-11-29 21:52:30,771] Trial 49 finished with value: 0.01332378223495702 and parameters: {'n_estimators': 477, 'max_depth': 5, 'learning_rate': 0.2559266672180376, 'subsample': 0.7991453074780327, 'colsample_bytree': 0.6597908888020915}. Best is trial 36 with value: 0.012034383954154728.\n"
          ]
        },
        {
          "output_type": "stream",
          "name": "stdout",
          "text": [
            "Best Parameters: {'n_estimators': 200, 'max_depth': 3, 'learning_rate': 0.15228155915476052, 'subsample': 0.7495728707485861, 'colsample_bytree': 0.7458843432111124}\n",
            "Best MSE: 0.012034383954154728\n"
          ]
        }
      ]
    },
    {
      "cell_type": "code",
      "source": [
        "\n",
        "best_params = study.best_params\n",
        "\n",
        "print(\"Best Parameters from Optuna:\", best_params)\n",
        "\n",
        "\n",
        "X = df.drop(columns=['stars'])\n",
        "y = df['stars']\n",
        "\n",
        "X_train, X_test, y_train, y_test = train_test_split(X, y, test_size=0.2, random_state=42)\n",
        "\n",
        "scaler = StandardScaler()\n",
        "X_train_scaled = scaler.fit_transform(X_train)\n",
        "X_test_scaled = scaler.transform(X_test)\n",
        "\n",
        "\n",
        "rg_model = XGBRegressor(\n",
        "    objective='reg:squarederror',\n",
        "    **best_params\n",
        ")\n",
        "\n",
        "rg_model.fit(X_train_scaled, y_train)\n",
        "\n",
        "y_pred = rg_model.predict(X_test_scaled)\n",
        "\n",
        "y_pred_rounded = np.round(y_pred * 2) / 2\n",
        "\n",
        "mse = mean_squared_error(y_test, y_pred_rounded)\n",
        "r2 = r2_score(y_test, y_pred_rounded)\n",
        "\n",
        "print(\"Original Predictions:\", y_pred)\n",
        "print(\"Rounded Predictions:\", y_pred_rounded)\n",
        "print(f\"Mean Squared Error: {mse}\")\n",
        "print(f\"R^2 Score: {r2}\")\n",
        "\n",
        "accuracy = np.mean(y_pred_rounded == y_test.values)\n",
        "print(f\"Accuracy: {accuracy * 100:.2f}%\")\n"
      ],
      "metadata": {
        "colab": {
          "base_uri": "https://localhost:8080/"
        },
        "id": "AJvsC1EPnUND",
        "outputId": "a273d134-2e4f-4131-d190-43372d2c6845"
      },
      "execution_count": 16,
      "outputs": [
        {
          "output_type": "stream",
          "name": "stdout",
          "text": [
            "Best Parameters from Optuna: {'n_estimators': 200, 'max_depth': 3, 'learning_rate': 0.15228155915476052, 'subsample': 0.7495728707485861, 'colsample_bytree': 0.7458843432111124}\n",
            "Original Predictions: [1.9054453 4.77953   4.5043216 ... 2.5497093 4.020626  4.4218073]\n",
            "Rounded Predictions: [2.  5.  4.5 ... 2.5 4.  4.5]\n",
            "Mean Squared Error: 0.012320916905444125\n",
            "R^2 Score: 0.9825460302366446\n",
            "Accuracy: 95.07%\n"
          ]
        }
      ]
    },
    {
      "cell_type": "code",
      "source": [
        "from joblib import dump\n",
        "\n",
        "model_directory = '/content/drive/My Drive/Capstone Data Collection/models/xgb_regressor_model.joblib'\n",
        "scaler_path = '/content/drive/My Drive/Capstone Data Collection/models/scaler.joblib'\n",
        "\n",
        "dump(rg_model, model_directory)\n",
        "dump(scaler, scaler_path)\n",
        "\n",
        "print(f\"Model saved successfully to {model_directory}\")\n",
        "print(f\"Scaler saved successfully to {scaler_path}\")"
      ],
      "metadata": {
        "colab": {
          "base_uri": "https://localhost:8080/"
        },
        "id": "w4KPHIxn6gDq",
        "outputId": "cbdb5f2a-dfeb-4395-fcff-8244d18bee93"
      },
      "execution_count": 17,
      "outputs": [
        {
          "output_type": "stream",
          "name": "stdout",
          "text": [
            "Model saved successfully to /content/drive/My Drive/Capstone Data Collection/models/xgb_regressor_model.joblib\n",
            "Scaler saved successfully to /content/drive/My Drive/Capstone Data Collection/models/scaler.joblib\n"
          ]
        }
      ]
    },
    {
      "cell_type": "markdown",
      "source": [
        "XGBoost Classifier Hyperparameter Tuning"
      ],
      "metadata": {
        "id": "b-C7mHElo8qG"
      }
    },
    {
      "cell_type": "code",
      "source": [
        "rating_mapping = {1: 0, 1.5: 1, 2: 2, 2.5: 3, 3: 4, 3.5: 5, 4: 6, 4.5: 7, 5: 8}\n",
        "df2['rating_class'] = df2['stars'].map(rating_mapping)\n",
        "\n",
        "X = df2.drop(columns=['stars', 'rating_class'])\n",
        "y = df2['rating_class']\n",
        "\n",
        "X_train, X_test, y_train, y_test = train_test_split(X, y, test_size=0.2, random_state=42)\n",
        "\n",
        "\n",
        "clf_scaler = StandardScaler()\n",
        "\n",
        "X_train_scaled = clf_scaler.fit_transform(X_train)\n",
        "X_test_scaled = clf_scaler.transform(X_test)"
      ],
      "metadata": {
        "id": "dfVqr2MSVOo1"
      },
      "execution_count": 18,
      "outputs": []
    },
    {
      "cell_type": "code",
      "source": [
        "def objective(trial):\n",
        "    params = {\n",
        "        \"objective\": \"multi:softmax\",\n",
        "        \"num_class\": 9,\n",
        "        \"max_depth\": trial.suggest_int(\"max_depth\", 3, 15),\n",
        "        \"learning_rate\": trial.suggest_float(\"learning_rate\", 0.01, 0.3, log=True),\n",
        "        \"n_estimators\": trial.suggest_int(\"n_estimators\", 50, 500),\n",
        "        \"subsample\": trial.suggest_float(\"subsample\", 0.6, 1.0),\n",
        "        \"colsample_bytree\": trial.suggest_float(\"colsample_bytree\", 0.6, 1.0),\n",
        "        \"eval_metric\": \"mlogloss\",\n",
        "    }\n",
        "\n",
        "\n",
        "    clf_model = XGBClassifier(**params)\n",
        "\n",
        "    clf_model.fit(X_train_scaled, y_train)\n",
        "\n",
        "    y_pred = clf_model.predict(X_test_scaled)\n",
        "\n",
        "\n",
        "    accuracy = accuracy_score(y_test, y_pred)\n",
        "\n",
        "    return accuracy\n",
        "\n",
        "\n",
        "study = optuna.create_study(direction=\"maximize\")\n",
        "study.optimize(objective, n_trials=50)\n",
        "\n",
        "\n",
        "best_params = study.best_params\n",
        "print(\"Best Parameters from Optuna:\", best_params)\n"
      ],
      "metadata": {
        "colab": {
          "base_uri": "https://localhost:8080/"
        },
        "id": "G-3uZOAhXDBP",
        "outputId": "1d88c948-a04f-40af-9921-0feb2f4e68e6"
      },
      "execution_count": 19,
      "outputs": [
        {
          "output_type": "stream",
          "name": "stderr",
          "text": [
            "[I 2024-11-29 21:56:37,662] A new study created in memory with name: no-name-c0384299-d14a-4619-8e21-dbb8abcd3673\n",
            "[I 2024-11-29 21:56:41,023] Trial 0 finished with value: 0.9415472779369628 and parameters: {'max_depth': 4, 'learning_rate': 0.281090812555558, 'n_estimators': 147, 'subsample': 0.9549943160725486, 'colsample_bytree': 0.7088444359853587}. Best is trial 0 with value: 0.9415472779369628.\n",
            "[I 2024-11-29 21:56:48,222] Trial 1 finished with value: 0.9484240687679083 and parameters: {'max_depth': 12, 'learning_rate': 0.029583340721666122, 'n_estimators': 107, 'subsample': 0.8680765139547704, 'colsample_bytree': 0.6382051924952287}. Best is trial 1 with value: 0.9484240687679083.\n",
            "[I 2024-11-29 21:56:59,509] Trial 2 finished with value: 0.9461318051575931 and parameters: {'max_depth': 3, 'learning_rate': 0.08519848946590901, 'n_estimators': 418, 'subsample': 0.8446366486040602, 'colsample_bytree': 0.7335733973846059}. Best is trial 1 with value: 0.9484240687679083.\n",
            "[I 2024-11-29 21:57:20,491] Trial 3 finished with value: 0.9489971346704871 and parameters: {'max_depth': 9, 'learning_rate': 0.014608805695576701, 'n_estimators': 422, 'subsample': 0.9330341156800793, 'colsample_bytree': 0.7070542042044565}. Best is trial 3 with value: 0.9489971346704871.\n",
            "[I 2024-11-29 21:57:33,222] Trial 4 finished with value: 0.9438395415472779 and parameters: {'max_depth': 7, 'learning_rate': 0.22230678670150947, 'n_estimators': 393, 'subsample': 0.8165965774289723, 'colsample_bytree': 0.8578138478318844}. Best is trial 3 with value: 0.9489971346704871.\n",
            "[I 2024-11-29 21:57:52,340] Trial 5 finished with value: 0.9455587392550143 and parameters: {'max_depth': 12, 'learning_rate': 0.10420165558392368, 'n_estimators': 481, 'subsample': 0.8174798145953313, 'colsample_bytree': 0.9016946907771604}. Best is trial 3 with value: 0.9489971346704871.\n",
            "[I 2024-11-29 21:58:00,624] Trial 6 finished with value: 0.9478510028653295 and parameters: {'max_depth': 14, 'learning_rate': 0.013939362216110314, 'n_estimators': 140, 'subsample': 0.716443630795694, 'colsample_bytree': 0.6944863263565623}. Best is trial 3 with value: 0.9489971346704871.\n",
            "[I 2024-11-29 21:58:04,661] Trial 7 finished with value: 0.9455587392550143 and parameters: {'max_depth': 10, 'learning_rate': 0.17650776064620288, 'n_estimators': 139, 'subsample': 0.8239581704119573, 'colsample_bytree': 0.8364889663476183}. Best is trial 3 with value: 0.9489971346704871.\n",
            "[I 2024-11-29 21:58:11,474] Trial 8 finished with value: 0.9484240687679083 and parameters: {'max_depth': 14, 'learning_rate': 0.020676704523316745, 'n_estimators': 89, 'subsample': 0.9913250658983037, 'colsample_bytree': 0.6920638640527152}. Best is trial 3 with value: 0.9489971346704871.\n",
            "[I 2024-11-29 21:58:20,723] Trial 9 finished with value: 0.9501432664756447 and parameters: {'max_depth': 14, 'learning_rate': 0.023861026822493036, 'n_estimators': 273, 'subsample': 0.6404152430224452, 'colsample_bytree': 0.6643191100815553}. Best is trial 9 with value: 0.9501432664756447.\n",
            "[I 2024-11-29 21:58:33,088] Trial 10 finished with value: 0.9472779369627508 and parameters: {'max_depth': 15, 'learning_rate': 0.042896214732042894, 'n_estimators': 270, 'subsample': 0.6151714882992183, 'colsample_bytree': 0.6013168471628709}. Best is trial 9 with value: 0.9501432664756447.\n",
            "[I 2024-11-29 21:58:44,306] Trial 11 finished with value: 0.9478510028653295 and parameters: {'max_depth': 8, 'learning_rate': 0.011090953572350216, 'n_estimators': 289, 'subsample': 0.7125205783654315, 'colsample_bytree': 0.76761593617184}. Best is trial 9 with value: 0.9501432664756447.\n",
            "[I 2024-11-29 21:58:54,803] Trial 12 finished with value: 0.9495702005730658 and parameters: {'max_depth': 6, 'learning_rate': 0.02124777944130405, 'n_estimators': 277, 'subsample': 0.6017734324252723, 'colsample_bytree': 0.969415905461201}. Best is trial 9 with value: 0.9501432664756447.\n",
            "[I 2024-11-29 21:59:00,717] Trial 13 finished with value: 0.9478510028653295 and parameters: {'max_depth': 6, 'learning_rate': 0.031140207498368103, 'n_estimators': 254, 'subsample': 0.6003252026675814, 'colsample_bytree': 0.9577367831175886}. Best is trial 9 with value: 0.9501432664756447.\n",
            "[I 2024-11-29 21:59:08,857] Trial 14 finished with value: 0.9495702005730658 and parameters: {'max_depth': 5, 'learning_rate': 0.021015865029754062, 'n_estimators': 219, 'subsample': 0.674169358066014, 'colsample_bytree': 0.9927049326880357}. Best is trial 9 with value: 0.9501432664756447.\n",
            "[I 2024-11-29 21:59:22,072] Trial 15 finished with value: 0.9484240687679083 and parameters: {'max_depth': 11, 'learning_rate': 0.0538976653985994, 'n_estimators': 334, 'subsample': 0.6763324665889259, 'colsample_bytree': 0.9154360917282833}. Best is trial 9 with value: 0.9501432664756447.\n",
            "[I 2024-11-29 21:59:28,820] Trial 16 finished with value: 0.9478510028653295 and parameters: {'max_depth': 7, 'learning_rate': 0.024353360146611838, 'n_estimators': 206, 'subsample': 0.7577183696248582, 'colsample_bytree': 0.8128718650211428}. Best is trial 9 with value: 0.9501432664756447.\n",
            "[I 2024-11-29 21:59:51,545] Trial 17 finished with value: 0.9478510028653295 and parameters: {'max_depth': 5, 'learning_rate': 0.03797846909895474, 'n_estimators': 345, 'subsample': 0.6440082496788784, 'colsample_bytree': 0.7683612217032043}. Best is trial 9 with value: 0.9501432664756447.\n",
            "[I 2024-11-29 22:00:09,417] Trial 18 finished with value: 0.9467048710601719 and parameters: {'max_depth': 9, 'learning_rate': 0.07542522929569545, 'n_estimators': 310, 'subsample': 0.7609374136572449, 'colsample_bytree': 0.6478975147021476}. Best is trial 9 with value: 0.9501432664756447.\n",
            "[I 2024-11-29 22:00:25,035] Trial 19 finished with value: 0.9484240687679083 and parameters: {'max_depth': 13, 'learning_rate': 0.016983038744711514, 'n_estimators': 198, 'subsample': 0.6469646615539895, 'colsample_bytree': 0.8791174391425246}. Best is trial 9 with value: 0.9501432664756447.\n",
            "[I 2024-11-29 22:00:35,182] Trial 20 finished with value: 0.9501432664756447 and parameters: {'max_depth': 3, 'learning_rate': 0.011273049166191878, 'n_estimators': 361, 'subsample': 0.724415689915892, 'colsample_bytree': 0.9405718000522022}. Best is trial 9 with value: 0.9501432664756447.\n",
            "[I 2024-11-29 22:00:45,429] Trial 21 finished with value: 0.9501432664756447 and parameters: {'max_depth': 3, 'learning_rate': 0.010749329968179242, 'n_estimators': 368, 'subsample': 0.7182361823271839, 'colsample_bytree': 0.9468274618006848}. Best is trial 9 with value: 0.9501432664756447.\n",
            "[I 2024-11-29 22:00:52,280] Trial 22 finished with value: 0.9501432664756447 and parameters: {'max_depth': 3, 'learning_rate': 0.011112424723989411, 'n_estimators': 367, 'subsample': 0.7608407712178151, 'colsample_bytree': 0.9322609202652564}. Best is trial 9 with value: 0.9501432664756447.\n",
            "[I 2024-11-29 22:01:04,904] Trial 23 finished with value: 0.9495702005730658 and parameters: {'max_depth': 4, 'learning_rate': 0.011185460083799484, 'n_estimators': 437, 'subsample': 0.7080553718615907, 'colsample_bytree': 0.9957413310158707}. Best is trial 9 with value: 0.9501432664756447.\n",
            "[I 2024-11-29 22:01:17,535] Trial 24 finished with value: 0.9484240687679083 and parameters: {'max_depth': 3, 'learning_rate': 0.014837511158657427, 'n_estimators': 481, 'subsample': 0.7369267861042513, 'colsample_bytree': 0.9456040858945112}. Best is trial 9 with value: 0.9501432664756447.\n",
            "[I 2024-11-29 22:01:29,586] Trial 25 finished with value: 0.9501432664756447 and parameters: {'max_depth': 5, 'learning_rate': 0.010382617939344842, 'n_estimators': 384, 'subsample': 0.6762897907478655, 'colsample_bytree': 0.8864010815081469}. Best is trial 9 with value: 0.9501432664756447.\n",
            "[I 2024-11-29 22:01:36,384] Trial 26 finished with value: 0.9495702005730658 and parameters: {'max_depth': 4, 'learning_rate': 0.015138691086513424, 'n_estimators': 334, 'subsample': 0.7893978810461332, 'colsample_bytree': 0.7917635250898485}. Best is trial 9 with value: 0.9501432664756447.\n",
            "[I 2024-11-29 22:01:46,144] Trial 27 finished with value: 0.9455587392550143 and parameters: {'max_depth': 8, 'learning_rate': 0.028085031615764876, 'n_estimators': 248, 'subsample': 0.6519898044003193, 'colsample_bytree': 0.8430960671385899}. Best is trial 9 with value: 0.9501432664756447.\n",
            "[I 2024-11-29 22:02:25,538] Trial 28 finished with value: 0.9472779369627508 and parameters: {'max_depth': 11, 'learning_rate': 0.01743794547934301, 'n_estimators': 445, 'subsample': 0.6958947038644065, 'colsample_bytree': 0.9293615619154904}. Best is trial 9 with value: 0.9501432664756447.\n",
            "[I 2024-11-29 22:02:39,266] Trial 29 finished with value: 0.9449856733524356 and parameters: {'max_depth': 15, 'learning_rate': 0.03733663974470712, 'n_estimators': 302, 'subsample': 0.7830555384553743, 'colsample_bytree': 0.6521741248716839}. Best is trial 9 with value: 0.9501432664756447.\n",
            "[I 2024-11-29 22:02:40,336] Trial 30 finished with value: 0.9501432664756447 and parameters: {'max_depth': 4, 'learning_rate': 0.012732153711168072, 'n_estimators': 50, 'subsample': 0.7329607444256231, 'colsample_bytree': 0.8688670424655207}. Best is trial 9 with value: 0.9501432664756447.\n",
            "[I 2024-11-29 22:02:47,303] Trial 31 finished with value: 0.9501432664756447 and parameters: {'max_depth': 3, 'learning_rate': 0.010979422902785288, 'n_estimators': 365, 'subsample': 0.749439710323682, 'colsample_bytree': 0.9348389734774926}. Best is trial 9 with value: 0.9501432664756447.\n",
            "[I 2024-11-29 22:02:57,438] Trial 32 finished with value: 0.9501432664756447 and parameters: {'max_depth': 3, 'learning_rate': 0.018219875615369932, 'n_estimators': 377, 'subsample': 0.6295048768307707, 'colsample_bytree': 0.9005427134984818}. Best is trial 9 with value: 0.9501432664756447.\n",
            "[I 2024-11-29 22:03:11,276] Trial 33 finished with value: 0.9495702005730658 and parameters: {'max_depth': 4, 'learning_rate': 0.010308785266982626, 'n_estimators': 357, 'subsample': 0.8907443419510948, 'colsample_bytree': 0.984964846579134}. Best is trial 9 with value: 0.9501432664756447.\n",
            "[I 2024-11-29 22:03:22,192] Trial 34 finished with value: 0.9501432664756447 and parameters: {'max_depth': 3, 'learning_rate': 0.012712159062851938, 'n_estimators': 402, 'subsample': 0.7651196018178087, 'colsample_bytree': 0.9589062216814802}. Best is trial 9 with value: 0.9501432664756447.\n",
            "[I 2024-11-29 22:03:36,364] Trial 35 finished with value: 0.9467048710601719 and parameters: {'max_depth': 6, 'learning_rate': 0.025564811325522286, 'n_estimators': 413, 'subsample': 0.6873819221196015, 'colsample_bytree': 0.7346181835339015}. Best is trial 9 with value: 0.9501432664756447.\n",
            "[I 2024-11-29 22:03:47,319] Trial 36 finished with value: 0.9484240687679083 and parameters: {'max_depth': 5, 'learning_rate': 0.01297309591403773, 'n_estimators': 319, 'subsample': 0.8540134735775141, 'colsample_bytree': 0.6112871828547396}. Best is trial 9 with value: 0.9501432664756447.\n",
            "[I 2024-11-29 22:03:54,137] Trial 37 finished with value: 0.9495702005730658 and parameters: {'max_depth': 3, 'learning_rate': 0.01689990981650814, 'n_estimators': 361, 'subsample': 0.7283227307785414, 'colsample_bytree': 0.918818641702961}. Best is trial 9 with value: 0.9501432664756447.\n",
            "[I 2024-11-29 22:04:09,063] Trial 38 finished with value: 0.9438395415472779 and parameters: {'max_depth': 7, 'learning_rate': 0.15773372179590414, 'n_estimators': 466, 'subsample': 0.8005308837700919, 'colsample_bytree': 0.6693464550087466}. Best is trial 9 with value: 0.9501432664756447.\n",
            "[I 2024-11-29 22:04:19,888] Trial 39 finished with value: 0.9461318051575931 and parameters: {'max_depth': 12, 'learning_rate': 0.05863987028636342, 'n_estimators': 241, 'subsample': 0.6586195619414899, 'colsample_bytree': 0.8196441872213797}. Best is trial 9 with value: 0.9501432664756447.\n",
            "[I 2024-11-29 22:04:28,849] Trial 40 finished with value: 0.9489971346704871 and parameters: {'max_depth': 10, 'learning_rate': 0.020405715748938773, 'n_estimators': 180, 'subsample': 0.7780514668957943, 'colsample_bytree': 0.7294916625051029}. Best is trial 9 with value: 0.9501432664756447.\n",
            "[I 2024-11-29 22:04:36,915] Trial 41 finished with value: 0.9489971346704871 and parameters: {'max_depth': 5, 'learning_rate': 0.010138635071436104, 'n_estimators': 380, 'subsample': 0.6988611721943245, 'colsample_bytree': 0.8934201311840471}. Best is trial 9 with value: 0.9501432664756447.\n",
            "[I 2024-11-29 22:04:48,312] Trial 42 finished with value: 0.9512893982808023 and parameters: {'max_depth': 4, 'learning_rate': 0.012662505336105573, 'n_estimators': 400, 'subsample': 0.6680223808878537, 'colsample_bytree': 0.8821970262420972}. Best is trial 42 with value: 0.9512893982808023.\n",
            "[I 2024-11-29 22:05:00,219] Trial 43 finished with value: 0.9501432664756447 and parameters: {'max_depth': 4, 'learning_rate': 0.013203284862611032, 'n_estimators': 423, 'subsample': 0.6244663862106797, 'colsample_bytree': 0.8570301814228456}. Best is trial 42 with value: 0.9512893982808023.\n",
            "[I 2024-11-29 22:05:11,218] Trial 44 finished with value: 0.9501432664756447 and parameters: {'max_depth': 3, 'learning_rate': 0.012582681835736579, 'n_estimators': 397, 'subsample': 0.7174270335236761, 'colsample_bytree': 0.9411854687497418}. Best is trial 42 with value: 0.9512893982808023.\n",
            "[I 2024-11-29 22:05:24,972] Trial 45 finished with value: 0.9489971346704871 and parameters: {'max_depth': 4, 'learning_rate': 0.013942897492990335, 'n_estimators': 498, 'subsample': 0.670259054201723, 'colsample_bytree': 0.9766663415246949}. Best is trial 42 with value: 0.9512893982808023.\n",
            "[I 2024-11-29 22:05:38,975] Trial 46 finished with value: 0.9467048710601719 and parameters: {'max_depth': 14, 'learning_rate': 0.015943548011176315, 'n_estimators': 325, 'subsample': 0.8978281825776231, 'colsample_bytree': 0.9213766476537227}. Best is trial 42 with value: 0.9512893982808023.\n",
            "[I 2024-11-29 22:05:44,418] Trial 47 finished with value: 0.9489971346704871 and parameters: {'max_depth': 3, 'learning_rate': 0.023117843239479897, 'n_estimators': 289, 'subsample': 0.7412623423651191, 'colsample_bytree': 0.9049041826811799}. Best is trial 42 with value: 0.9512893982808023.\n",
            "[I 2024-11-29 22:06:00,695] Trial 48 finished with value: 0.9472779369627508 and parameters: {'max_depth': 6, 'learning_rate': 0.019095503908338776, 'n_estimators': 430, 'subsample': 0.8097295028608136, 'colsample_bytree': 0.9587545991821896}. Best is trial 42 with value: 0.9512893982808023.\n",
            "[I 2024-11-29 22:06:10,063] Trial 49 finished with value: 0.9489971346704871 and parameters: {'max_depth': 5, 'learning_rate': 0.030882355811021934, 'n_estimators': 268, 'subsample': 0.837616729675847, 'colsample_bytree': 0.9452315795073982}. Best is trial 42 with value: 0.9512893982808023.\n"
          ]
        },
        {
          "output_type": "stream",
          "name": "stdout",
          "text": [
            "Best Parameters from Optuna: {'max_depth': 4, 'learning_rate': 0.012662505336105573, 'n_estimators': 400, 'subsample': 0.6680223808878537, 'colsample_bytree': 0.8821970262420972}\n"
          ]
        }
      ]
    },
    {
      "cell_type": "code",
      "source": [
        "best_model = XGBClassifier(**best_params)\n",
        "\n",
        "\n",
        "best_model.fit(X_train_scaled, y_train)\n",
        "\n",
        "y_pred = best_model.predict(X_test_scaled)\n",
        "\n",
        "\n",
        "accuracy = accuracy_score(y_test, y_pred)\n",
        "print(f\"Accuracy of the optimized model: {accuracy * 100:.2f}%\")"
      ],
      "metadata": {
        "colab": {
          "base_uri": "https://localhost:8080/"
        },
        "id": "6BxiNp0dphog",
        "outputId": "d82e0788-002c-48d3-92ed-23c0c8635296"
      },
      "execution_count": 20,
      "outputs": [
        {
          "output_type": "stream",
          "name": "stdout",
          "text": [
            "Accuracy of the optimized model: 95.13%\n"
          ]
        }
      ]
    },
    {
      "cell_type": "code",
      "source": [
        "\n",
        "model_directory = '/content/drive/My Drive/Capstone Data Collection/models/xgb_classifier_model.joblib'\n",
        "scaler_path = '/content/drive/My Drive/Capstone Data Collection/models/clf_scaler.joblib'\n",
        "\n",
        "dump(best_model, model_directory)\n",
        "dump(clf_scaler, scaler_path)\n",
        "\n",
        "print(f\"Model saved successfully to {model_directory}\")\n",
        "print(f\"Scaler saved successfully to {scaler_path}\")\n"
      ],
      "metadata": {
        "colab": {
          "base_uri": "https://localhost:8080/"
        },
        "id": "KoOIub6d3vAF",
        "outputId": "2989155a-ea66-4ec9-e652-47e2f08d23e9"
      },
      "execution_count": 21,
      "outputs": [
        {
          "output_type": "stream",
          "name": "stdout",
          "text": [
            "Model saved successfully to /content/drive/My Drive/Capstone Data Collection/models/xgb_classifier_model.joblib\n",
            "Scaler saved successfully to /content/drive/My Drive/Capstone Data Collection/models/clf_scaler.joblib\n"
          ]
        }
      ]
    }
  ]
}
