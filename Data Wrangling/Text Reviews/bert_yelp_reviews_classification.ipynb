{
 "cells": [
  {
   "cell_type": "code",
   "execution_count": 2,
   "metadata": {},
   "outputs": [],
   "source": [
    "import pandas as pd\n",
    "from transformers import pipeline\n",
    "from transformers import AutoTokenizer, AutoModelForSequenceClassification"
   ]
  },
  {
   "cell_type": "code",
   "execution_count": 3,
   "metadata": {},
   "outputs": [
    {
     "name": "stderr",
     "output_type": "stream",
     "text": [
      "c:\\Users\\tokud\\anaconda3\\lib\\site-packages\\transformers\\tokenization_utils_base.py:1601: FutureWarning: `clean_up_tokenization_spaces` was not set. It will be set to `True` by default. This behavior will be depracted in transformers v4.45, and will be then set to `False` by default. For more details check this issue: https://github.com/huggingface/transformers/issues/31884\n",
      "  warnings.warn(\n"
     ]
    }
   ],
   "source": [
    "model_name = \"nlptown/bert-base-multilingual-uncased-sentiment\"\n",
    "tokenizer = AutoTokenizer.from_pretrained(model_name)\n",
    "model = AutoModelForSequenceClassification.from_pretrained(model_name)\n",
    "\n",
    "classifier = pipeline(\"text-classification\", model=model, tokenizer=tokenizer)"
   ]
  },
  {
   "cell_type": "code",
   "execution_count": 4,
   "metadata": {},
   "outputs": [
    {
     "data": {
      "text/plain": [
       "(792133, 24)"
      ]
     },
     "execution_count": 4,
     "metadata": {},
     "output_type": "execute_result"
    }
   ],
   "source": [
    "filename = \"FL_Reviews_Edited\" + \".csv\"\n",
    "path = \"C:/Users/tokud/OneDrive/Documents/Machine Learning - UCSD Extension Springboard Course/Capstone/Datasets/\" + filename\n",
    "\n",
    "chunk_iterator = pd.read_csv(path, chunksize=10000)\n",
    "\n",
    "chunks = []\n",
    "\n",
    "for chunk in chunk_iterator:\n",
    "  chunks.append(chunk)\n",
    "\n",
    "df_reviews = pd.concat(chunks, ignore_index=True)\n",
    "df_reviews.shape"
   ]
  },
  {
   "cell_type": "code",
   "execution_count": 5,
   "metadata": {},
   "outputs": [
    {
     "data": {
      "text/html": [
       "<div><div id=450daeff-05c1-4802-9391-113a01a6c051 style=\"display:none; background-color:#9D6CFF; color:white; width:200px; height:30px; padding-left:5px; border-radius:4px; flex-direction:row; justify-content:space-around; align-items:center;\" onmouseover=\"this.style.backgroundColor='#BA9BF8'\" onmouseout=\"this.style.backgroundColor='#9D6CFF'\" onclick=\"window.commands?.execute('create-mitosheet-from-dataframe-output');\">See Full Dataframe in Mito</div> <script> if (window.commands.hasCommand('create-mitosheet-from-dataframe-output')) document.getElementById('450daeff-05c1-4802-9391-113a01a6c051').style.display = 'flex' </script> <table border=\"1\" class=\"dataframe\">\n",
       "  <thead>\n",
       "    <tr style=\"text-align: right;\">\n",
       "      <th></th>\n",
       "      <th>business_id</th>\n",
       "      <th>name</th>\n",
       "      <th>city_updated</th>\n",
       "      <th>stars_business</th>\n",
       "      <th>review_count</th>\n",
       "      <th>stars_reviews</th>\n",
       "      <th>text</th>\n",
       "    </tr>\n",
       "  </thead>\n",
       "  <tbody>\n",
       "    <tr>\n",
       "      <th>0</th>\n",
       "      <td>eEOYSgkmpB90uNA7lDOMRA</td>\n",
       "      <td>Vietnamese Food Truck</td>\n",
       "      <td>Tampa</td>\n",
       "      <td>4.0</td>\n",
       "      <td>10</td>\n",
       "      <td>5</td>\n",
       "      <td>I eat pho about 4 times a week and from a specific restaurant, as I have tried just about every other Vietnamese restaurant in the Tampa bay area, and have found this specific one to be the best. After trying The Vietnamese Food Truck's Pho, for the first time today, I was absolutely blown away. It is the perfect balance of salty, savory and thai-basil infused flavor. Without a doubt, this is my new favorite place for pho.</td>\n",
       "    </tr>\n",
       "    <tr>\n",
       "      <th>1</th>\n",
       "      <td>eEOYSgkmpB90uNA7lDOMRA</td>\n",
       "      <td>Vietnamese Food Truck</td>\n",
       "      <td>Tampa</td>\n",
       "      <td>4.0</td>\n",
       "      <td>10</td>\n",
       "      <td>5</td>\n",
       "      <td>I've been in Wesley Chapel area for about 2 years and this is the first decent bowl of Pho I've had.  Tampa is quite some distance to grab some.  Being Vietnamese and growing up in the states I know how hard  and labor intensive this is to make without a full on kitchen.  This husband and wife team are amazingly sweet.  I will definitely get an bowl every chance I get.  I purchase it not assembled so please excuse my lack of sleep presentation skills!!!</td>\n",
       "    </tr>\n",
       "    <tr>\n",
       "      <th>2</th>\n",
       "      <td>eEOYSgkmpB90uNA7lDOMRA</td>\n",
       "      <td>Vietnamese Food Truck</td>\n",
       "      <td>Tampa</td>\n",
       "      <td>4.0</td>\n",
       "      <td>10</td>\n",
       "      <td>3</td>\n",
       "      <td>Good tasted good - but I'm a bit confused as to how a Vietnamese Good trick serves Vietnamese egg rolls with a mayo-like sauce?? I love Vietnamese food, and have always had fish sauce as one of the condiments. The egg rolls on their own was ok, I even tried the mayo sauce - (not great). Next time - I'll stick with authentic Vietnamese restaurants. But to be fair, the food was standard . I'd actually try it again...if they had the right sauces, of course!</td>\n",
       "    </tr>\n",
       "    <tr>\n",
       "      <th>3</th>\n",
       "      <td>eEOYSgkmpB90uNA7lDOMRA</td>\n",
       "      <td>Vietnamese Food Truck</td>\n",
       "      <td>Tampa</td>\n",
       "      <td>4.0</td>\n",
       "      <td>10</td>\n",
       "      <td>4</td>\n",
       "      <td>Ordered the chicken wings.  They were hot, fresh, and super crispy. Drenched in a honey sauce, that surprisingly, tasted good on the fries that came with the wings.  Fantastic!</td>\n",
       "    </tr>\n",
       "    <tr>\n",
       "      <th>4</th>\n",
       "      <td>eEOYSgkmpB90uNA7lDOMRA</td>\n",
       "      <td>Vietnamese Food Truck</td>\n",
       "      <td>Tampa</td>\n",
       "      <td>4.0</td>\n",
       "      <td>10</td>\n",
       "      <td>1</td>\n",
       "      <td>How can an order of pho take an 1 hour and 15 minutes to make!!!!! No thank you. They had no system for getting the food out. People were flustered and they over sold on items. Terrible. Lesson learned. drive to pho Quyen, it will be faster and cheaper.</td>\n",
       "    </tr>\n",
       "  </tbody>\n",
       "</table></div>"
      ],
      "text/plain": [
       "              business_id                   name city_updated  stars_business  \\\n",
       "0  eEOYSgkmpB90uNA7lDOMRA  Vietnamese Food Truck        Tampa             4.0   \n",
       "1  eEOYSgkmpB90uNA7lDOMRA  Vietnamese Food Truck        Tampa             4.0   \n",
       "2  eEOYSgkmpB90uNA7lDOMRA  Vietnamese Food Truck        Tampa             4.0   \n",
       "3  eEOYSgkmpB90uNA7lDOMRA  Vietnamese Food Truck        Tampa             4.0   \n",
       "4  eEOYSgkmpB90uNA7lDOMRA  Vietnamese Food Truck        Tampa             4.0   \n",
       "\n",
       "   review_count  stars_reviews  \\\n",
       "0            10              5   \n",
       "1            10              5   \n",
       "2            10              3   \n",
       "3            10              4   \n",
       "4            10              1   \n",
       "\n",
       "                                                text  \n",
       "0  I eat pho about 4 times a week and from a spec...  \n",
       "1  I've been in Wesley Chapel area for about 2 ye...  \n",
       "2  Good tasted good - but I'm a bit confused as t...  \n",
       "3  Ordered the chicken wings.  They were hot, fre...  \n",
       "4  How can an order of pho take an 1 hour and 15 ...  "
      ]
     },
     "execution_count": 5,
     "metadata": {},
     "output_type": "execute_result"
    }
   ],
   "source": [
    "selected_fields = ['business_id', 'name', 'city_updated', 'stars_business', 'review_count', 'stars_reviews', 'text']\n",
    "\n",
    "df_subset = df_reviews[selected_fields]\n",
    "df_subset.head()"
   ]
  },
  {
   "cell_type": "code",
   "execution_count": 6,
   "metadata": {},
   "outputs": [
    {
     "name": "stderr",
     "output_type": "stream",
     "text": [
      "C:\\Users\\tokud\\AppData\\Local\\Temp/ipykernel_25728/1121993432.py:15: SettingWithCopyWarning: \n",
      "A value is trying to be set on a copy of a slice from a DataFrame.\n",
      "Try using .loc[row_indexer,col_indexer] = value instead\n",
      "\n",
      "See the caveats in the documentation: https://pandas.pydata.org/pandas-docs/stable/user_guide/indexing.html#returning-a-view-versus-a-copy\n",
      "  df_subset['truncated_reviews'] = truncated_reviews\n"
     ]
    },
    {
     "data": {
      "text/html": [
       "<div><div id=53efa6a0-ecaf-459a-a21f-725e51aa87b5 style=\"display:none; background-color:#9D6CFF; color:white; width:200px; height:30px; padding-left:5px; border-radius:4px; flex-direction:row; justify-content:space-around; align-items:center;\" onmouseover=\"this.style.backgroundColor='#BA9BF8'\" onmouseout=\"this.style.backgroundColor='#9D6CFF'\" onclick=\"window.commands?.execute('create-mitosheet-from-dataframe-output');\">See Full Dataframe in Mito</div> <script> if (window.commands.hasCommand('create-mitosheet-from-dataframe-output')) document.getElementById('53efa6a0-ecaf-459a-a21f-725e51aa87b5').style.display = 'flex' </script> <table border=\"1\" class=\"dataframe\">\n",
       "  <thead>\n",
       "    <tr style=\"text-align: right;\">\n",
       "      <th></th>\n",
       "      <th>text</th>\n",
       "      <th>truncated_reviews</th>\n",
       "    </tr>\n",
       "  </thead>\n",
       "  <tbody>\n",
       "    <tr>\n",
       "      <th>0</th>\n",
       "      <td>I eat pho about 4 times a week and from a specific restaurant, as I have tried just about every other Vietnamese restaurant in the Tampa bay area, and have found this specific one to be the best. After trying The Vietnamese Food Truck's Pho, for the first time today, I was absolutely blown away. It is the perfect balance of salty, savory and thai-basil infused flavor. Without a doubt, this is my new favorite place for pho.</td>\n",
       "      <td>[tensor(101), tensor(151), tensor(39999), tensor(14061), tensor(10935), tensor(125), tensor(11471), tensor(143), tensor(14463), tensor(10110), tensor(10195), tensor(143), tensor(18974), tensor(21688), tensor(117), tensor(10146), tensor(151), tensor(10574), tensor(26806), tensor(12125), tensor(10935), tensor(13667), tensor(10675), tensor(55936), tensor(21688), tensor(10104), tensor(10103), tensor(36721), tensor(11836), tensor(10793), tensor(117), tensor(10110), tensor(10574), tensor(11973), tensor(10372), tensor(18974), tensor(10399), tensor(10114), tensor(10346), tensor(10103), tensor(11146), tensor(119), tensor(10515), tensor(30517), tensor(10103), tensor(55936), tensor(15225), tensor(38325), tensor(112), tensor(161), tensor(14061), tensor(117), tensor(10139), tensor(10103), tensor(10403), tensor(10573), tensor(13980), tensor(117), tensor(151), tensor(10140), tensor(35925), tensor(10563), tensor(50368), tensor(10115), tensor(13795), tensor(119), tensor(10197), tensor(10127), tensor(10103), tensor(23021), tensor(31117), tensor(10108), tensor(20474), tensor(10158), tensor(117), tensor(21026), tensor(11160), tensor(10110), tensor(14224), tensor(118), tensor(55415), tensor(56551), tensor(36538), tensor(19341), tensor(27553), tensor(10131), tensor(119), tensor(13208), tensor(143), tensor(55572), tensor(117), tensor(10372), tensor(10127), tensor(11153), tensor(10246), tensor(35380), tensor(11125), tensor(10139), tensor(14061), tensor(119), ...]</td>\n",
       "    </tr>\n",
       "    <tr>\n",
       "      <th>1</th>\n",
       "      <td>I've been in Wesley Chapel area for about 2 years and this is the first decent bowl of Pho I've had.  Tampa is quite some distance to grab some.  Being Vietnamese and growing up in the states I know how hard  and labor intensive this is to make without a full on kitchen.  This husband and wife team are amazingly sweet.  I will definitely get an bowl every chance I get.  I purchase it not assembled so please excuse my lack of sleep presentation skills!!!</td>\n",
       "      <td>[tensor(101), tensor(151), tensor(112), tensor(10312), tensor(10662), tensor(10104), tensor(35859), tensor(24916), tensor(10793), tensor(10139), tensor(10935), tensor(123), tensor(10868), tensor(10110), tensor(10372), tensor(10127), tensor(10103), tensor(10403), tensor(32937), tensor(11604), tensor(21170), tensor(10108), tensor(14061), tensor(151), tensor(112), tensor(10312), tensor(10407), tensor(119), tensor(36721), tensor(10127), tensor(29977), tensor(10970), tensor(17631), tensor(10114), tensor(50470), tensor(10970), tensor(119), tensor(11352), tensor(55936), tensor(10110), tensor(23148), tensor(10700), tensor(10104), tensor(10103), tensor(10821), tensor(151), tensor(16332), tensor(12548), tensor(15282), tensor(10110), tensor(19106), tensor(62422), tensor(10372), tensor(10127), tensor(10114), tensor(12696), tensor(13208), tensor(143), tensor(12851), tensor(10125), tensor(43954), tensor(119), tensor(10372), tensor(19137), tensor(10110), tensor(14131), tensor(10820), tensor(10320), tensor(39854), tensor(10563), tensor(19355), tensor(119), tensor(151), tensor(11229), tensor(69923), tensor(27393), tensor(13168), tensor(10144), tensor(21170), tensor(13667), tensor(20035), tensor(151), tensor(13168), tensor(119), tensor(151), tensor(33831), tensor(10197), tensor(10497), tensor(78863), tensor(10297), tensor(38881), tensor(11460), tensor(14112), tensor(10111), tensor(11153), tensor(23051), tensor(10108), tensor(32524), tensor(33289), tensor(30504), ...]</td>\n",
       "    </tr>\n",
       "    <tr>\n",
       "      <th>2</th>\n",
       "      <td>Good tasted good - but I'm a bit confused as to how a Vietnamese Good trick serves Vietnamese egg rolls with a mayo-like sauce?? I love Vietnamese food, and have always had fish sauce as one of the condiments. The egg rolls on their own was ok, I even tried the mayo sauce - (not great). Next time - I'll stick with authentic Vietnamese restaurants. But to be fair, the food was standard . I'd actually try it again...if they had the right sauces, of course!</td>\n",
       "      <td>[tensor(101), tensor(12050), tensor(44960), tensor(10163), tensor(12050), tensor(118), tensor(10502), tensor(151), tensor(112), tensor(155), tensor(143), tensor(16464), tensor(61614), tensor(10146), tensor(10114), tensor(12548), tensor(143), tensor(55936), tensor(12050), tensor(45054), tensor(24580), tensor(55936), tensor(38102), tensor(43283), tensor(10171), tensor(143), tensor(12231), tensor(118), tensor(11531), tensor(69764), tensor(136), tensor(136), tensor(151), tensor(11157), tensor(55936), tensor(15225), tensor(117), tensor(10110), tensor(10574), tensor(17503), tensor(10407), tensor(18047), tensor(69764), tensor(10146), tensor(10399), tensor(10108), tensor(10103), tensor(10173), tensor(69769), tensor(24617), tensor(119), tensor(10103), tensor(38102), tensor(43283), tensor(10125), tensor(10487), tensor(12530), tensor(10140), tensor(13563), tensor(117), tensor(151), tensor(12818), tensor(26806), tensor(10103), tensor(12231), tensor(69764), tensor(118), tensor(113), tensor(10497), tensor(11838), tensor(114), tensor(119), tensor(12878), tensor(10573), tensor(118), tensor(151), tensor(112), tensor(17361), tensor(40754), tensor(10171), tensor(39253), tensor(88635), tensor(10261), tensor(55936), tensor(35685), tensor(119), tensor(10502), tensor(10114), tensor(10346), tensor(20077), tensor(117), tensor(10103), tensor(15225), tensor(10140), tensor(13145), tensor(119), tensor(151), tensor(112), tensor(146), tensor(23785), ...]</td>\n",
       "    </tr>\n",
       "    <tr>\n",
       "      <th>3</th>\n",
       "      <td>Ordered the chicken wings.  They were hot, fresh, and super crispy. Drenched in a honey sauce, that surprisingly, tasted good on the fries that came with the wings.  Fantastic!</td>\n",
       "      <td>[tensor(101), tensor(23608), tensor(10103), tensor(48465), tensor(23242), tensor(119), tensor(10578), tensor(10342), tensor(13392), tensor(117), tensor(31522), tensor(117), tensor(10110), tensor(12278), tensor(24590), tensor(10310), tensor(18331), tensor(119), tensor(26359), tensor(48807), tensor(10163), tensor(10104), tensor(143), tensor(38242), tensor(69764), tensor(117), tensor(10203), tensor(10344), tensor(42068), tensor(56493), tensor(117), tensor(44960), tensor(10163), tensor(12050), tensor(10125), tensor(10103), tensor(59135), tensor(10203), tensor(13430), tensor(10171), tensor(10103), tensor(23242), tensor(119), tensor(47088), tensor(106), tensor(102), tensor(0), tensor(0), tensor(0), tensor(0), tensor(0), tensor(0), tensor(0), tensor(0), tensor(0), tensor(0), tensor(0), tensor(0), tensor(0), tensor(0), tensor(0), tensor(0), tensor(0), tensor(0), tensor(0), tensor(0), tensor(0), tensor(0), tensor(0), tensor(0), tensor(0), tensor(0), tensor(0), tensor(0), tensor(0), tensor(0), tensor(0), tensor(0), tensor(0), tensor(0), tensor(0), tensor(0), tensor(0), tensor(0), tensor(0), tensor(0), tensor(0), tensor(0), tensor(0), tensor(0), tensor(0), tensor(0), tensor(0), tensor(0), tensor(0), tensor(0), tensor(0), tensor(0), tensor(0), tensor(0), ...]</td>\n",
       "    </tr>\n",
       "    <tr>\n",
       "      <th>4</th>\n",
       "      <td>How can an order of pho take an 1 hour and 15 minutes to make!!!!! No thank you. They had no system for getting the food out. People were flustered and they over sold on items. Terrible. Lesson learned. drive to pho Quyen, it will be faster and cheaper.</td>\n",
       "      <td>[tensor(101), tensor(12548), tensor(10743), tensor(10144), tensor(11970), tensor(10108), tensor(14061), tensor(11622), tensor(10144), tensor(122), tensor(19141), tensor(10110), tensor(10217), tensor(15021), tensor(10114), tensor(12696), tensor(106), tensor(106), tensor(106), tensor(106), tensor(106), tensor(10181), tensor(67715), tensor(10855), tensor(119), tensor(10578), tensor(10407), tensor(10181), tensor(10472), tensor(10139), tensor(27948), tensor(10103), tensor(15225), tensor(10871), tensor(119), tensor(11227), tensor(10342), tensor(19341), tensor(34165), tensor(15713), tensor(10110), tensor(10578), tensor(10323), tensor(15434), tensor(10125), tensor(31805), tensor(119), tensor(50334), tensor(119), tensor(76833), tensor(35052), tensor(119), tensor(15834), tensor(10114), tensor(14061), tensor(16663), tensor(117), tensor(10197), tensor(11229), tensor(10346), tensor(51524), tensor(10110), tensor(78026), tensor(10177), tensor(119), tensor(102), tensor(0), tensor(0), tensor(0), tensor(0), tensor(0), tensor(0), tensor(0), tensor(0), tensor(0), tensor(0), tensor(0), tensor(0), tensor(0), tensor(0), tensor(0), tensor(0), tensor(0), tensor(0), tensor(0), tensor(0), tensor(0), tensor(0), tensor(0), tensor(0), tensor(0), tensor(0), tensor(0), tensor(0), tensor(0), tensor(0), tensor(0), tensor(0), tensor(0), tensor(0), ...]</td>\n",
       "    </tr>\n",
       "  </tbody>\n",
       "</table></div>"
      ],
      "text/plain": [
       "                                                text  \\\n",
       "0  I eat pho about 4 times a week and from a spec...   \n",
       "1  I've been in Wesley Chapel area for about 2 ye...   \n",
       "2  Good tasted good - but I'm a bit confused as t...   \n",
       "3  Ordered the chicken wings.  They were hot, fre...   \n",
       "4  How can an order of pho take an 1 hour and 15 ...   \n",
       "\n",
       "                                   truncated_reviews  \n",
       "0  [tensor(101), tensor(151), tensor(39999), tens...  \n",
       "1  [tensor(101), tensor(151), tensor(112), tensor...  \n",
       "2  [tensor(101), tensor(12050), tensor(44960), te...  \n",
       "3  [tensor(101), tensor(23608), tensor(10103), te...  \n",
       "4  [tensor(101), tensor(12548), tensor(10743), te...  "
      ]
     },
     "execution_count": 6,
     "metadata": {},
     "output_type": "execute_result"
    }
   ],
   "source": [
    "batch_size = 64\n",
    "\n",
    "def batch_truncate_reviews(reviews):\n",
    "    inputs = classifier.tokenizer(reviews, truncation=True, max_length=512, padding=True, return_tensors='pt')\n",
    "    return inputs\n",
    "\n",
    "truncated_reviews = []\n",
    "\n",
    "for start in range(0, len(df_subset), batch_size):\n",
    "    end = min(start + batch_size, len(df_subset))\n",
    "    batch_reviews = df_subset['text'][start:end].tolist()\n",
    "    inputs = batch_truncate_reviews(batch_reviews)\n",
    "    truncated_reviews.extend(inputs['input_ids'])\n",
    "\n",
    "df_subset['truncated_reviews'] = truncated_reviews\n",
    "\n",
    "df_subset[['text', 'truncated_reviews']].head()"
   ]
  },
  {
   "cell_type": "code",
   "execution_count": 7,
   "metadata": {},
   "outputs": [
    {
     "name": "stderr",
     "output_type": "stream",
     "text": [
      "C:\\Users\\tokud\\AppData\\Local\\Temp/ipykernel_25728/3745662519.py:11: SettingWithCopyWarning: \n",
      "A value is trying to be set on a copy of a slice from a DataFrame.\n",
      "Try using .loc[row_indexer,col_indexer] = value instead\n",
      "\n",
      "See the caveats in the documentation: https://pandas.pydata.org/pandas-docs/stable/user_guide/indexing.html#returning-a-view-versus-a-copy\n",
      "  df_subset['decoded_reviews'] = decoded_reviews\n"
     ]
    },
    {
     "data": {
      "text/html": [
       "<div><div id=04dfa96a-3f78-4f2e-9a8b-b32b650d15f5 style=\"display:none; background-color:#9D6CFF; color:white; width:200px; height:30px; padding-left:5px; border-radius:4px; flex-direction:row; justify-content:space-around; align-items:center;\" onmouseover=\"this.style.backgroundColor='#BA9BF8'\" onmouseout=\"this.style.backgroundColor='#9D6CFF'\" onclick=\"window.commands?.execute('create-mitosheet-from-dataframe-output');\">See Full Dataframe in Mito</div> <script> if (window.commands.hasCommand('create-mitosheet-from-dataframe-output')) document.getElementById('04dfa96a-3f78-4f2e-9a8b-b32b650d15f5').style.display = 'flex' </script> <table border=\"1\" class=\"dataframe\">\n",
       "  <thead>\n",
       "    <tr style=\"text-align: right;\">\n",
       "      <th></th>\n",
       "      <th>text</th>\n",
       "      <th>truncated_reviews</th>\n",
       "      <th>decoded_reviews</th>\n",
       "    </tr>\n",
       "  </thead>\n",
       "  <tbody>\n",
       "    <tr>\n",
       "      <th>0</th>\n",
       "      <td>I eat pho about 4 times a week and from a specific restaurant, as I have tried just about every other Vietnamese restaurant in the Tampa bay area, and have found this specific one to be the best. After trying The Vietnamese Food Truck's Pho, for the first time today, I was absolutely blown away. It is the perfect balance of salty, savory and thai-basil infused flavor. Without a doubt, this is my new favorite place for pho.</td>\n",
       "      <td>[tensor(101), tensor(151), tensor(39999), tensor(14061), tensor(10935), tensor(125), tensor(11471), tensor(143), tensor(14463), tensor(10110), tensor(10195), tensor(143), tensor(18974), tensor(21688), tensor(117), tensor(10146), tensor(151), tensor(10574), tensor(26806), tensor(12125), tensor(10935), tensor(13667), tensor(10675), tensor(55936), tensor(21688), tensor(10104), tensor(10103), tensor(36721), tensor(11836), tensor(10793), tensor(117), tensor(10110), tensor(10574), tensor(11973), tensor(10372), tensor(18974), tensor(10399), tensor(10114), tensor(10346), tensor(10103), tensor(11146), tensor(119), tensor(10515), tensor(30517), tensor(10103), tensor(55936), tensor(15225), tensor(38325), tensor(112), tensor(161), tensor(14061), tensor(117), tensor(10139), tensor(10103), tensor(10403), tensor(10573), tensor(13980), tensor(117), tensor(151), tensor(10140), tensor(35925), tensor(10563), tensor(50368), tensor(10115), tensor(13795), tensor(119), tensor(10197), tensor(10127), tensor(10103), tensor(23021), tensor(31117), tensor(10108), tensor(20474), tensor(10158), tensor(117), tensor(21026), tensor(11160), tensor(10110), tensor(14224), tensor(118), tensor(55415), tensor(56551), tensor(36538), tensor(19341), tensor(27553), tensor(10131), tensor(119), tensor(13208), tensor(143), tensor(55572), tensor(117), tensor(10372), tensor(10127), tensor(11153), tensor(10246), tensor(35380), tensor(11125), tensor(10139), tensor(14061), tensor(119), ...]</td>\n",
       "      <td>i eat pho about 4 times a week and from a specific restaurant, as i have tried just about every other vietnamese restaurant in the tampa bay area, and have found this specific one to be the best. after trying the vietnamese food truck's pho, for the first time today, i was absolutely blown away. it is the perfect balance of salty, savory and thai - basil infused flavor. without a doubt, this is my new favorite place for pho.</td>\n",
       "    </tr>\n",
       "    <tr>\n",
       "      <th>1</th>\n",
       "      <td>I've been in Wesley Chapel area for about 2 years and this is the first decent bowl of Pho I've had.  Tampa is quite some distance to grab some.  Being Vietnamese and growing up in the states I know how hard  and labor intensive this is to make without a full on kitchen.  This husband and wife team are amazingly sweet.  I will definitely get an bowl every chance I get.  I purchase it not assembled so please excuse my lack of sleep presentation skills!!!</td>\n",
       "      <td>[tensor(101), tensor(151), tensor(112), tensor(10312), tensor(10662), tensor(10104), tensor(35859), tensor(24916), tensor(10793), tensor(10139), tensor(10935), tensor(123), tensor(10868), tensor(10110), tensor(10372), tensor(10127), tensor(10103), tensor(10403), tensor(32937), tensor(11604), tensor(21170), tensor(10108), tensor(14061), tensor(151), tensor(112), tensor(10312), tensor(10407), tensor(119), tensor(36721), tensor(10127), tensor(29977), tensor(10970), tensor(17631), tensor(10114), tensor(50470), tensor(10970), tensor(119), tensor(11352), tensor(55936), tensor(10110), tensor(23148), tensor(10700), tensor(10104), tensor(10103), tensor(10821), tensor(151), tensor(16332), tensor(12548), tensor(15282), tensor(10110), tensor(19106), tensor(62422), tensor(10372), tensor(10127), tensor(10114), tensor(12696), tensor(13208), tensor(143), tensor(12851), tensor(10125), tensor(43954), tensor(119), tensor(10372), tensor(19137), tensor(10110), tensor(14131), tensor(10820), tensor(10320), tensor(39854), tensor(10563), tensor(19355), tensor(119), tensor(151), tensor(11229), tensor(69923), tensor(27393), tensor(13168), tensor(10144), tensor(21170), tensor(13667), tensor(20035), tensor(151), tensor(13168), tensor(119), tensor(151), tensor(33831), tensor(10197), tensor(10497), tensor(78863), tensor(10297), tensor(38881), tensor(11460), tensor(14112), tensor(10111), tensor(11153), tensor(23051), tensor(10108), tensor(32524), tensor(33289), tensor(30504), ...]</td>\n",
       "      <td>i've been in wesley chapel area for about 2 years and this is the first decent bowl of pho i've had. tampa is quite some distance to grab some. being vietnamese and growing up in the states i know how hard and labor intensive this is to make without a full on kitchen. this husband and wife team are amazingly sweet. i will definitely get an bowl every chance i get. i purchase it not assembled so please excuse my lack of sleep presentation skills!!!</td>\n",
       "    </tr>\n",
       "    <tr>\n",
       "      <th>2</th>\n",
       "      <td>Good tasted good - but I'm a bit confused as to how a Vietnamese Good trick serves Vietnamese egg rolls with a mayo-like sauce?? I love Vietnamese food, and have always had fish sauce as one of the condiments. The egg rolls on their own was ok, I even tried the mayo sauce - (not great). Next time - I'll stick with authentic Vietnamese restaurants. But to be fair, the food was standard . I'd actually try it again...if they had the right sauces, of course!</td>\n",
       "      <td>[tensor(101), tensor(12050), tensor(44960), tensor(10163), tensor(12050), tensor(118), tensor(10502), tensor(151), tensor(112), tensor(155), tensor(143), tensor(16464), tensor(61614), tensor(10146), tensor(10114), tensor(12548), tensor(143), tensor(55936), tensor(12050), tensor(45054), tensor(24580), tensor(55936), tensor(38102), tensor(43283), tensor(10171), tensor(143), tensor(12231), tensor(118), tensor(11531), tensor(69764), tensor(136), tensor(136), tensor(151), tensor(11157), tensor(55936), tensor(15225), tensor(117), tensor(10110), tensor(10574), tensor(17503), tensor(10407), tensor(18047), tensor(69764), tensor(10146), tensor(10399), tensor(10108), tensor(10103), tensor(10173), tensor(69769), tensor(24617), tensor(119), tensor(10103), tensor(38102), tensor(43283), tensor(10125), tensor(10487), tensor(12530), tensor(10140), tensor(13563), tensor(117), tensor(151), tensor(12818), tensor(26806), tensor(10103), tensor(12231), tensor(69764), tensor(118), tensor(113), tensor(10497), tensor(11838), tensor(114), tensor(119), tensor(12878), tensor(10573), tensor(118), tensor(151), tensor(112), tensor(17361), tensor(40754), tensor(10171), tensor(39253), tensor(88635), tensor(10261), tensor(55936), tensor(35685), tensor(119), tensor(10502), tensor(10114), tensor(10346), tensor(20077), tensor(117), tensor(10103), tensor(15225), tensor(10140), tensor(13145), tensor(119), tensor(151), tensor(112), tensor(146), tensor(23785), ...]</td>\n",
       "      <td>good tasted good - but i'm a bit confused as to how a vietnamese good trick serves vietnamese egg rolls with a mayo - like sauce?? i love vietnamese food, and have always had fish sauce as one of the condiments. the egg rolls on their own was ok, i even tried the mayo sauce - ( not great ). next time - i'll stick with authentic vietnamese restaurants. but to be fair, the food was standard. i'd actually try it again... if they had the right sauces, of course!</td>\n",
       "    </tr>\n",
       "    <tr>\n",
       "      <th>3</th>\n",
       "      <td>Ordered the chicken wings.  They were hot, fresh, and super crispy. Drenched in a honey sauce, that surprisingly, tasted good on the fries that came with the wings.  Fantastic!</td>\n",
       "      <td>[tensor(101), tensor(23608), tensor(10103), tensor(48465), tensor(23242), tensor(119), tensor(10578), tensor(10342), tensor(13392), tensor(117), tensor(31522), tensor(117), tensor(10110), tensor(12278), tensor(24590), tensor(10310), tensor(18331), tensor(119), tensor(26359), tensor(48807), tensor(10163), tensor(10104), tensor(143), tensor(38242), tensor(69764), tensor(117), tensor(10203), tensor(10344), tensor(42068), tensor(56493), tensor(117), tensor(44960), tensor(10163), tensor(12050), tensor(10125), tensor(10103), tensor(59135), tensor(10203), tensor(13430), tensor(10171), tensor(10103), tensor(23242), tensor(119), tensor(47088), tensor(106), tensor(102), tensor(0), tensor(0), tensor(0), tensor(0), tensor(0), tensor(0), tensor(0), tensor(0), tensor(0), tensor(0), tensor(0), tensor(0), tensor(0), tensor(0), tensor(0), tensor(0), tensor(0), tensor(0), tensor(0), tensor(0), tensor(0), tensor(0), tensor(0), tensor(0), tensor(0), tensor(0), tensor(0), tensor(0), tensor(0), tensor(0), tensor(0), tensor(0), tensor(0), tensor(0), tensor(0), tensor(0), tensor(0), tensor(0), tensor(0), tensor(0), tensor(0), tensor(0), tensor(0), tensor(0), tensor(0), tensor(0), tensor(0), tensor(0), tensor(0), tensor(0), tensor(0), tensor(0), tensor(0), tensor(0), ...]</td>\n",
       "      <td>ordered the chicken wings. they were hot, fresh, and super crispy. drenched in a honey sauce, that surprisingly, tasted good on the fries that came with the wings. fantastic!</td>\n",
       "    </tr>\n",
       "    <tr>\n",
       "      <th>4</th>\n",
       "      <td>How can an order of pho take an 1 hour and 15 minutes to make!!!!! No thank you. They had no system for getting the food out. People were flustered and they over sold on items. Terrible. Lesson learned. drive to pho Quyen, it will be faster and cheaper.</td>\n",
       "      <td>[tensor(101), tensor(12548), tensor(10743), tensor(10144), tensor(11970), tensor(10108), tensor(14061), tensor(11622), tensor(10144), tensor(122), tensor(19141), tensor(10110), tensor(10217), tensor(15021), tensor(10114), tensor(12696), tensor(106), tensor(106), tensor(106), tensor(106), tensor(106), tensor(10181), tensor(67715), tensor(10855), tensor(119), tensor(10578), tensor(10407), tensor(10181), tensor(10472), tensor(10139), tensor(27948), tensor(10103), tensor(15225), tensor(10871), tensor(119), tensor(11227), tensor(10342), tensor(19341), tensor(34165), tensor(15713), tensor(10110), tensor(10578), tensor(10323), tensor(15434), tensor(10125), tensor(31805), tensor(119), tensor(50334), tensor(119), tensor(76833), tensor(35052), tensor(119), tensor(15834), tensor(10114), tensor(14061), tensor(16663), tensor(117), tensor(10197), tensor(11229), tensor(10346), tensor(51524), tensor(10110), tensor(78026), tensor(10177), tensor(119), tensor(102), tensor(0), tensor(0), tensor(0), tensor(0), tensor(0), tensor(0), tensor(0), tensor(0), tensor(0), tensor(0), tensor(0), tensor(0), tensor(0), tensor(0), tensor(0), tensor(0), tensor(0), tensor(0), tensor(0), tensor(0), tensor(0), tensor(0), tensor(0), tensor(0), tensor(0), tensor(0), tensor(0), tensor(0), tensor(0), tensor(0), tensor(0), tensor(0), tensor(0), tensor(0), ...]</td>\n",
       "      <td>how can an order of pho take an 1 hour and 15 minutes to make!!!!! no thank you. they had no system for getting the food out. people were flustered and they over sold on items. terrible. lesson learned. drive to pho quyen, it will be faster and cheaper.</td>\n",
       "    </tr>\n",
       "  </tbody>\n",
       "</table></div>"
      ],
      "text/plain": [
       "                                                text  \\\n",
       "0  I eat pho about 4 times a week and from a spec...   \n",
       "1  I've been in Wesley Chapel area for about 2 ye...   \n",
       "2  Good tasted good - but I'm a bit confused as t...   \n",
       "3  Ordered the chicken wings.  They were hot, fre...   \n",
       "4  How can an order of pho take an 1 hour and 15 ...   \n",
       "\n",
       "                                   truncated_reviews  \\\n",
       "0  [tensor(101), tensor(151), tensor(39999), tens...   \n",
       "1  [tensor(101), tensor(151), tensor(112), tensor...   \n",
       "2  [tensor(101), tensor(12050), tensor(44960), te...   \n",
       "3  [tensor(101), tensor(23608), tensor(10103), te...   \n",
       "4  [tensor(101), tensor(12548), tensor(10743), te...   \n",
       "\n",
       "                                     decoded_reviews  \n",
       "0  i eat pho about 4 times a week and from a spec...  \n",
       "1  i've been in wesley chapel area for about 2 ye...  \n",
       "2  good tasted good - but i'm a bit confused as t...  \n",
       "3  ordered the chicken wings. they were hot, fres...  \n",
       "4  how can an order of pho take an 1 hour and 15 ...  "
      ]
     },
     "execution_count": 7,
     "metadata": {},
     "output_type": "execute_result"
    }
   ],
   "source": [
    "batch_size = 64\n",
    "decoded_reviews = []\n",
    "\n",
    "for start in range(0, len(df_subset), batch_size):\n",
    "    end = min(start + batch_size, len(df_subset))\n",
    "    batch_token_ids = df_subset['truncated_reviews'][start:end].tolist()\n",
    "    \n",
    "    batch_decoded = [tokenizer.decode(token_ids, skip_special_tokens=True) for token_ids in batch_token_ids]\n",
    "    decoded_reviews.extend(batch_decoded)\n",
    "\n",
    "df_subset['decoded_reviews'] = decoded_reviews\n",
    "\n",
    "df_subset[['text', 'truncated_reviews', 'decoded_reviews']].head()"
   ]
  },
  {
   "cell_type": "code",
   "execution_count": 8,
   "metadata": {},
   "outputs": [
    {
     "name": "stderr",
     "output_type": "stream",
     "text": [
      "c:\\Users\\tokud\\anaconda3\\lib\\site-packages\\pandas\\core\\frame.py:4906: SettingWithCopyWarning: \n",
      "A value is trying to be set on a copy of a slice from a DataFrame\n",
      "\n",
      "See the caveats in the documentation: https://pandas.pydata.org/pandas-docs/stable/user_guide/indexing.html#returning-a-view-versus-a-copy\n",
      "  return super().drop(\n"
     ]
    },
    {
     "data": {
      "text/plain": [
       "Index(['business_id', 'name', 'city_updated', 'stars_business', 'review_count',\n",
       "       'stars_reviews', 'text', 'decoded_reviews'],\n",
       "      dtype='object')"
      ]
     },
     "execution_count": 8,
     "metadata": {},
     "output_type": "execute_result"
    }
   ],
   "source": [
    "columns_to_drop = ['truncated_reviews']\n",
    "\n",
    "df_subset.drop(columns=columns_to_drop, inplace=True)\n",
    "df_subset.columns"
   ]
  },
  {
   "cell_type": "code",
   "execution_count": 9,
   "metadata": {},
   "outputs": [],
   "source": [
    "filename = \"decoded_yelp_reviews\" + \".csv\"\n",
    "out_path = \"C:/Users/tokud/OneDrive/Documents/Machine Learning - UCSD Extension Springboard Course/Capstone/Datasets/\" + filename\n",
    "\n",
    "df_subset.to_csv(out_path, index=False)"
   ]
  },
  {
   "cell_type": "code",
   "execution_count": 24,
   "metadata": {},
   "outputs": [
    {
     "data": {
      "text/plain": [
       "(1186, 8)"
      ]
     },
     "execution_count": 24,
     "metadata": {},
     "output_type": "execute_result"
    }
   ],
   "source": [
    "percentage = 0.0025\n",
    "\n",
    "# df_sample = df_subset.sample(frac=percentage, random_state=42)\n",
    "\n",
    "df_sample = df_subset[df_subset['stars_reviews'].isin([1,5])]\n",
    "df_sample = df_sample.sample(frac=percentage, random_state=42)\n",
    "\n",
    "df_sample.shape"
   ]
  },
  {
   "cell_type": "code",
   "execution_count": 25,
   "metadata": {},
   "outputs": [
    {
     "name": "stdout",
     "output_type": "stream",
     "text": [
      "Processed batch 1 of 10\n",
      "Processed batch 6 of 10\n"
     ]
    }
   ],
   "source": [
    "predicted_star_ratings = []\n",
    "\n",
    "batch_size = 128\n",
    "\n",
    "for start in range(0, len(df_sample), batch_size):\n",
    "    end = min(start + batch_size, len(df_sample))\n",
    "    \n",
    "    batch_reviews = df_sample['decoded_reviews'][start:end].tolist()\n",
    "\n",
    "    batch_predictions = classifier(batch_reviews)\n",
    "    \n",
    "    batch_ratings = [int(pred['label'][0]) for pred in batch_predictions]\n",
    "    predicted_star_ratings.extend(batch_ratings)\n",
    "    \n",
    "    # print(f\"Processed batch {start // batch_size + 1} of {len(df_sample) // batch_size + 1}\")\n",
    "\n",
    "    if start // batch_size % 5 == 0:\n",
    "        print(f\"Processed batch {start // batch_size + 1} of {len(df_sample) // batch_size + 1}\")\n",
    "\n",
    "\n",
    "df_sample['predicted_star_rating'] = predicted_star_ratings"
   ]
  },
  {
   "cell_type": "code",
   "execution_count": 26,
   "metadata": {},
   "outputs": [
    {
     "data": {
      "text/plain": [
       "Index(['business_id', 'name', 'city_updated', 'stars_business', 'review_count',\n",
       "       'stars_reviews', 'text', 'decoded_reviews', 'predicted_star_rating'],\n",
       "      dtype='object')"
      ]
     },
     "execution_count": 26,
     "metadata": {},
     "output_type": "execute_result"
    }
   ],
   "source": [
    "df_sample.columns"
   ]
  },
  {
   "cell_type": "code",
   "execution_count": 27,
   "metadata": {},
   "outputs": [
    {
     "name": "stdout",
     "output_type": "stream",
     "text": [
      "Mean Absolute Error (MAE): 0.3077571669477234\n"
     ]
    }
   ],
   "source": [
    "from sklearn.metrics import mean_absolute_error\n",
    "\n",
    "mae = mean_absolute_error(df_sample['stars_reviews'], df_sample['predicted_star_rating'])\n",
    "print(\"Mean Absolute Error (MAE):\", mae)"
   ]
  },
  {
   "cell_type": "code",
   "execution_count": 28,
   "metadata": {},
   "outputs": [
    {
     "name": "stdout",
     "output_type": "stream",
     "text": [
      "Accuracy: 0.7765598650927488\n"
     ]
    }
   ],
   "source": [
    "accuracy = (df_sample['stars_reviews'] == df_sample['predicted_star_rating']).mean()\n",
    "print(\"Accuracy:\", accuracy)"
   ]
  },
  {
   "cell_type": "code",
   "execution_count": 29,
   "metadata": {},
   "outputs": [
    {
     "data": {
      "image/png": "[encoded data removed]",
      "text/plain": [
       "<Figure size 432x288 with 2 Axes>"
      ]
     },
     "metadata": {
      "needs_background": "light"
     },
     "output_type": "display_data"
    }
   ],
   "source": [
    "from sklearn.metrics import confusion_matrix\n",
    "import seaborn as sns\n",
    "import matplotlib.pyplot as plt\n",
    "\n",
    "conf_matrix = confusion_matrix(df_sample['stars_reviews'], df_sample['predicted_star_rating'])\n",
    "sns.heatmap(conf_matrix, annot=True, cmap=\"Blues\", fmt=\"d\", xticklabels=[1, 2, 3, 4, 5], yticklabels=[1, 2, 3, 4, 5])\n",
    "plt.xlabel(\"Predicted Rating\")\n",
    "plt.ylabel(\"Actual Rating\")\n",
    "plt.title(\"Confusion Matrix of Star Rating Predictions\")\n",
    "plt.show()"
   ]
  },
  {
   "cell_type": "code",
   "execution_count": 31,
   "metadata": {},
   "outputs": [
    {
     "data": {
      "text/html": [
       "<div><div id=47ec39ab-b4de-4493-b67e-0569665b278c style=\"display:none; background-color:#9D6CFF; color:white; width:200px; height:30px; padding-left:5px; border-radius:4px; flex-direction:row; justify-content:space-around; align-items:center;\" onmouseover=\"this.style.backgroundColor='#BA9BF8'\" onmouseout=\"this.style.backgroundColor='#9D6CFF'\" onclick=\"window.commands?.execute('create-mitosheet-from-dataframe-output');\">See Full Dataframe in Mito</div> <script> if (window.commands.hasCommand('create-mitosheet-from-dataframe-output')) document.getElementById('47ec39ab-b4de-4493-b67e-0569665b278c').style.display = 'flex' </script> <table border=\"1\" class=\"dataframe\">\n",
       "  <thead>\n",
       "    <tr style=\"text-align: right;\">\n",
       "      <th></th>\n",
       "      <th>business_id</th>\n",
       "      <th>name</th>\n",
       "      <th>city_updated</th>\n",
       "      <th>stars_business</th>\n",
       "      <th>review_count</th>\n",
       "      <th>stars_reviews</th>\n",
       "      <th>text</th>\n",
       "      <th>decoded_reviews</th>\n",
       "      <th>predicted_star_rating</th>\n",
       "    </tr>\n",
       "  </thead>\n",
       "  <tbody>\n",
       "    <tr>\n",
       "      <th>131172</th>\n",
       "      <td>emKtu_pZ-Oij9dXra8tXYg</td>\n",
       "      <td>Oak &amp; Stone - St. Petersburg</td>\n",
       "      <td>Saint Petersburg</td>\n",
       "      <td>4.0</td>\n",
       "      <td>447</td>\n",
       "      <td>1</td>\n",
       "      <td>ICE COLD PIZZA LIVES HERE!\\n\\nDon't get the GF Greek! It comes out refrigerator COLD!! I mean raw, crisp red onion, semi-frozen feta, crunchy red peppers and spinach.\\nLiterally like a cold salad on top of the crust! \\n\\nI asked for them to warm it up and it came out cold AGAIN!!! Then the waiter said,\" it was just how they did it, it was their creative take on it\".  All this and if you ask for roasted garlic (or anything) they charge you $2.00 for like six cloves.</td>\n",
       "      <td>ice cold pizza lives here! don't get the gf greek! it comes out refrigerator cold!! i mean raw, crisp red onion, semi - frozen feta, crunchy red peppers and spinach. literally like a cold salad on top of the crust! i asked for them to warm it up and it came out cold again!!! then the waiter said, \" it was just how they did it, it was their creative take on it \". all this and if you ask for roasted garlic ( or anything ) they charge you $ 2. 00 for like six cloves.</td>\n",
       "      <td>5</td>\n",
       "    </tr>\n",
       "    <tr>\n",
       "      <th>743115</th>\n",
       "      <td>uhkd7al0Z4FV7MtDNRXnlA</td>\n",
       "      <td>Rubio's Coastal Grill</td>\n",
       "      <td>Tampa</td>\n",
       "      <td>4.0</td>\n",
       "      <td>231</td>\n",
       "      <td>1</td>\n",
       "      <td>This has been one of my favorite places for take out and has never disappointed me until today. Ordered a Mango Avo Salad for myself and a Chipotle Orange Salad Bowl with additional proteins. The staff informed me after I paid and ordered that they were out of Mango for my salad and they said they'd put oranges instead per my request. Upon getting home 25 minutes away, my salad bowl consisted of - and I kid you not- Greens, a few tortilla strips, and 3 mandarin orange slices. Was missing avocado, missing the brown rice, and missing the quinoa (the reason I chose this bowl). The other bowl- Chipotle Orange (my girlfriend chose bc she was craving your elotes corn) did not contain any corn. $30 for two salad bowls is a splurge and is totally worth it if all the ingredients find there way in there. Not sure what happened tonight. We will not be returning.</td>\n",
       "      <td>this has been one of my favorite places for take out and has never disappointed me until today. ordered a mango avo salad for myself and a chipotle orange salad bowl with additional proteins. the staff informed me after i paid and ordered that they were out of mango for my salad and they said they'd put oranges instead per my request. upon getting home 25 minutes away, my salad bowl consisted of - and i kid you not - greens, a few tortilla strips, and 3 mandarin orange slices. was missing avocado, missing the brown rice, and missing the quinoa ( the reason i chose this bowl ). the other bowl - chipotle orange ( my girlfriend chose bc she was craving your elotes corn ) did not contain any corn. $ 30 for two salad bowls is a splurge and is totally worth it if all the ingredients find there way in there. not sure what happened tonight. we will not be returning.</td>\n",
       "      <td>5</td>\n",
       "    </tr>\n",
       "    <tr>\n",
       "      <th>710408</th>\n",
       "      <td>uFu73KlTXu9fonjMkMwYvQ</td>\n",
       "      <td>Luke's Sports Shack Bar &amp; Grill</td>\n",
       "      <td>Largo</td>\n",
       "      <td>3.5</td>\n",
       "      <td>65</td>\n",
       "      <td>1</td>\n",
       "      <td>Went to The Sports Shack tonight and sat in a booth with my two teenage kiddos.  Sat there for 5 minutes while the waitresses chit chatted with the bartender off and on while glancing at us!  We got up to leave and still nothing...didn't even notice we came and went.  That's a great location to open a restaurant!</td>\n",
       "      <td>went to the sports shack tonight and sat in a booth with my two teenage kiddos. sat there for 5 minutes while the waitresses chit chatted with the bartender off and on while glancing at us! we got up to leave and still nothing... didn't even notice we came and went. that's a great location to open a restaurant!</td>\n",
       "      <td>5</td>\n",
       "    </tr>\n",
       "    <tr>\n",
       "      <th>419819</th>\n",
       "      <td>NJ6unjwQCbCEmurnFllnMQ</td>\n",
       "      <td>Little Caesars Pizza</td>\n",
       "      <td>Tampa</td>\n",
       "      <td>2.0</td>\n",
       "      <td>7</td>\n",
       "      <td>1</td>\n",
       "      <td>NASTY!! Drove all the way to this location to get the pizza I grew up on in Michigan only to have a hair in the crust!!</td>\n",
       "      <td>nasty!! drove all the way to this location to get the pizza i grew up on in michigan only to have a hair in the crust!!</td>\n",
       "      <td>5</td>\n",
       "    </tr>\n",
       "    <tr>\n",
       "      <th>593317</th>\n",
       "      <td>5Y4HAjtn0c0TY0aX4XME6w</td>\n",
       "      <td>WingHouse Bar &amp; Grill</td>\n",
       "      <td>Palm Harbor</td>\n",
       "      <td>3.0</td>\n",
       "      <td>105</td>\n",
       "      <td>1</td>\n",
       "      <td>We went, for the first time.  Here are my thoughts:\\n\\n\\nBoneless \"wings\" - are NOT \"boneless \"wings\" - they are chicken nuggets.  I get it - boneless \"wings\" sounds better than chicken nuggets, but they are NOT the same thing.  I would have kicked up a fuss, but my hubby hates when I do that, so I just keep quiet!   \\n\\nBeen to Hooters many times, and their boneless \"wings\" are boneless \"wings\".\\n\\nI must say, your tater tots are the best!!</td>\n",
       "      <td>we went, for the first time. here are my thoughts : boneless \" wings \" - are not \" boneless \" wings \" - they are chicken nuggets. i get it - boneless \" wings \" sounds better than chicken nuggets, but they are not the same thing. i would have kicked up a fuss, but my hubby hates when i do that, so i just keep quiet! been to hooters many times, and their boneless \" wings \" are boneless \" wings \". i must say, your tater tots are the best!!</td>\n",
       "      <td>5</td>\n",
       "    </tr>\n",
       "  </tbody>\n",
       "</table></div>"
      ],
      "text/plain": [
       "                   business_id                             name  \\\n",
       "131172  emKtu_pZ-Oij9dXra8tXYg     Oak & Stone - St. Petersburg   \n",
       "743115  uhkd7al0Z4FV7MtDNRXnlA            Rubio's Coastal Grill   \n",
       "710408  uFu73KlTXu9fonjMkMwYvQ  Luke's Sports Shack Bar & Grill   \n",
       "419819  NJ6unjwQCbCEmurnFllnMQ             Little Caesars Pizza   \n",
       "593317  5Y4HAjtn0c0TY0aX4XME6w            WingHouse Bar & Grill   \n",
       "\n",
       "            city_updated  stars_business  review_count  stars_reviews  \\\n",
       "131172  Saint Petersburg             4.0           447              1   \n",
       "743115             Tampa             4.0           231              1   \n",
       "710408             Largo             3.5            65              1   \n",
       "419819             Tampa             2.0             7              1   \n",
       "593317       Palm Harbor             3.0           105              1   \n",
       "\n",
       "                                                     text  \\\n",
       "131172  ICE COLD PIZZA LIVES HERE!\\n\\nDon't get the GF...   \n",
       "743115  This has been one of my favorite places for ta...   \n",
       "710408  Went to The Sports Shack tonight and sat in a ...   \n",
       "419819  NASTY!! Drove all the way to this location to ...   \n",
       "593317  We went, for the first time.  Here are my thou...   \n",
       "\n",
       "                                          decoded_reviews  \\\n",
       "131172  ice cold pizza lives here! don't get the gf gr...   \n",
       "743115  this has been one of my favorite places for ta...   \n",
       "710408  went to the sports shack tonight and sat in a ...   \n",
       "419819  nasty!! drove all the way to this location to ...   \n",
       "593317  we went, for the first time. here are my thoug...   \n",
       "\n",
       "        predicted_star_rating  \n",
       "131172                      5  \n",
       "743115                      5  \n",
       "710408                      5  \n",
       "419819                      5  \n",
       "593317                      5  "
      ]
     },
     "execution_count": 31,
     "metadata": {},
     "output_type": "execute_result"
    }
   ],
   "source": [
    "one_predicted_ratings = df_sample[df_sample['predicted_star_rating'] == 5]\n",
    "one_predicted_ratings = one_predicted_ratings[one_predicted_ratings['stars_reviews'] == 1]\n",
    "one_predicted_ratings[0:11]"
   ]
  }
 ],
 "metadata": {
  "kernelspec": {
   "display_name": "base",
   "language": "python",
   "name": "python3"
  },
  "language_info": {
   "codemirror_mode": {
    "name": "ipython",
    "version": 3
   },
   "file_extension": ".py",
   "mimetype": "text/x-python",
   "name": "python",
   "nbconvert_exporter": "python",
   "pygments_lexer": "ipython3",
   "version": "3.9.7"
  }
 },
 "nbformat": 4,
 "nbformat_minor": 2
}
