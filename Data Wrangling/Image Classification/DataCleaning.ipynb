{
 "cells": [
  {
   "cell_type": "code",
   "execution_count": 21,
   "metadata": {},
   "outputs": [],
   "source": [
    "import pandas as pd"
   ]
  },
  {
   "cell_type": "markdown",
   "metadata": {},
   "source": [
    "Download all 6.9 million Yelp Reviews"
   ]
  },
  {
   "cell_type": "code",
   "execution_count": 2,
   "metadata": {},
   "outputs": [
    {
     "data": {
      "text/plain": [
       "(6990280, 9)"
      ]
     },
     "execution_count": 2,
     "metadata": {},
     "output_type": "execute_result"
    }
   ],
   "source": [
    "filename = \"yelp_academic_dataset_review\" + \".json\"\n",
    "path = \"C:/Users/tokud/OneDrive/Documents/Machine Learning - UCSD Extension Springboard Course/Capstone/Datasets/\" + filename\n",
    "\n",
    "df_review = pd.read_json(path, lines=True, chunksize=100000)\n",
    "\n",
    "chunks = []\n",
    "\n",
    "for i, chunk in enumerate(df_review):\n",
    "    chunks.append(chunk)\n",
    "    # if i == 9:\n",
    "    #     break\n",
    "    \n",
    "chunk_review = pd.concat(chunks, ignore_index=True)\n",
    "\n",
    "chunk_review.shape"
   ]
  },
  {
   "cell_type": "markdown",
   "metadata": {},
   "source": [
    "Download all 150K Yelp Businesses"
   ]
  },
  {
   "cell_type": "code",
   "execution_count": 3,
   "metadata": {},
   "outputs": [
    {
     "data": {
      "text/plain": [
       "(150346, 14)"
      ]
     },
     "execution_count": 3,
     "metadata": {},
     "output_type": "execute_result"
    }
   ],
   "source": [
    "filename = \"yelp_academic_dataset_business\" + \".json\"\n",
    "path = \"C:/Users/tokud/OneDrive/Documents/Machine Learning - UCSD Extension Springboard Course/Capstone/Datasets/\" + filename\n",
    "\n",
    "df_business = pd.read_json(path, lines=True, chunksize=100000)\n",
    "\n",
    "business_chunks = []\n",
    "\n",
    "for i, chunk in enumerate(df_business):\n",
    "    business_chunks.append(chunk)\n",
    "    \n",
    "    # if i == 9:\n",
    "    #     break\n",
    "    \n",
    "chunk_business = pd.concat(business_chunks, ignore_index=True)\n",
    "\n",
    "chunk_business.shape"
   ]
  },
  {
   "cell_type": "code",
   "execution_count": 4,
   "metadata": {},
   "outputs": [
    {
     "name": "stdout",
     "output_type": "stream",
     "text": [
      "PA     34039\n",
      "FL     26330\n",
      "TN     12056\n",
      "IN     11247\n",
      "MO     10913\n",
      "LA      9924\n",
      "AZ      9912\n",
      "NJ      8536\n",
      "NV      7715\n",
      "AB      5573\n",
      "CA      5203\n",
      "ID      4467\n",
      "DE      2265\n",
      "IL      2145\n",
      "TX         4\n",
      "CO         3\n",
      "WA         2\n",
      "HI         2\n",
      "MA         2\n",
      "NC         1\n",
      "UT         1\n",
      "MT         1\n",
      "MI         1\n",
      "SD         1\n",
      "XMS        1\n",
      "VI         1\n",
      "VT         1\n",
      "Name: state, dtype: int64\n"
     ]
    }
   ],
   "source": [
    "states = chunk_business['state'].value_counts()\n",
    "print(states)"
   ]
  },
  {
   "cell_type": "markdown",
   "metadata": {},
   "source": [
    "Filter by state of Florida"
   ]
  },
  {
   "cell_type": "code",
   "execution_count": 5,
   "metadata": {},
   "outputs": [
    {
     "data": {
      "text/plain": [
       "(26330, 14)"
      ]
     },
     "execution_count": 5,
     "metadata": {},
     "output_type": "execute_result"
    }
   ],
   "source": [
    "fl_business = chunk_business[chunk_business['state'] == 'FL']\n",
    "fl_business.shape"
   ]
  },
  {
   "cell_type": "code",
   "execution_count": 6,
   "metadata": {},
   "outputs": [
    {
     "name": "stdout",
     "output_type": "stream",
     "text": [
      "Beauty & Spas, Nail Salons                            166\n",
      "Nail Salons, Beauty & Spas                            140\n",
      "Restaurants, Pizza                                    124\n",
      "Restaurants, Chinese                                  113\n",
      "Pizza, Restaurants                                    102\n",
      "Chinese, Restaurants                                   94\n",
      "Mexican, Restaurants                                   90\n",
      "Beauty & Spas, Hair Salons                             83\n",
      "Restaurants, Mexican                                   82\n",
      "Food, Coffee & Tea                                     73\n",
      "Hair Salons, Beauty & Spas                             70\n",
      "Grocery, Food                                          67\n",
      "Barbers, Beauty & Spas                                 65\n",
      "Hotels, Hotels & Travel, Event Planning & Services     64\n",
      "Automotive, Auto Repair                                63\n",
      "Pets, Veterinarians                                    63\n",
      "Auto Repair, Automotive                                62\n",
      "Apartments, Home Services, Real Estate                 62\n",
      "Coffee & Tea, Food                                     60\n",
      "Ice Cream & Frozen Yogurt, Food                        58\n",
      "Hotels & Travel, Event Planning & Services, Hotels     57\n",
      "Hotels & Travel, Hotels, Event Planning & Services     55\n",
      "Real Estate, Home Services, Apartments                 54\n",
      "Italian, Restaurants                                   54\n",
      "Home Services, Apartments, Real Estate                 54\n",
      "Name: categories, dtype: int64\n"
     ]
    }
   ],
   "source": [
    "categories = fl_business['categories'].value_counts()\n",
    "print(categories[0:25])"
   ]
  },
  {
   "cell_type": "markdown",
   "metadata": {},
   "source": [
    "Filtering for Florida Restaurants Only"
   ]
  },
  {
   "cell_type": "code",
   "execution_count": 7,
   "metadata": {},
   "outputs": [
    {
     "data": {
      "text/plain": [
       "(8731, 14)"
      ]
     },
     "execution_count": 7,
     "metadata": {},
     "output_type": "execute_result"
    }
   ],
   "source": [
    "fl_restaurants = fl_business[fl_business['categories'].str.contains('restaurants', case=False, na=False)]\n",
    "fl_restaurants.shape"
   ]
  },
  {
   "cell_type": "markdown",
   "metadata": {},
   "source": [
    "Merging Florida Restaurants df with Reviews df"
   ]
  },
  {
   "cell_type": "code",
   "execution_count": 8,
   "metadata": {},
   "outputs": [
    {
     "data": {
      "text/plain": [
       "(792133, 22)"
      ]
     },
     "execution_count": 8,
     "metadata": {},
     "output_type": "execute_result"
    }
   ],
   "source": [
    "merged_df = pd.merge(fl_restaurants, chunk_review, on='business_id', how='inner', suffixes=('_business', '_reviews'))\n",
    "merged_df.shape"
   ]
  },
  {
   "cell_type": "code",
   "execution_count": 20,
   "metadata": {},
   "outputs": [],
   "source": [
    "filename = \"FL_Restaurants_Reviews\" + \".csv\"\n",
    "out_path = \"C:/Users/tokud/OneDrive/Documents/Machine Learning - UCSD Extension Springboard Course/Capstone/Datasets/\" + filename\n",
    "\n",
    "merged_df.to_csv(out_path, index=False)"
   ]
  },
  {
   "cell_type": "code",
   "execution_count": 9,
   "metadata": {},
   "outputs": [
    {
     "name": "stdout",
     "output_type": "stream",
     "text": [
      "<class 'pandas.core.frame.DataFrame'>\n",
      "Int64Index: 792133 entries, 0 to 792132\n",
      "Data columns (total 22 columns):\n",
      " #   Column          Non-Null Count   Dtype         \n",
      "---  ------          --------------   -----         \n",
      " 0   business_id     792133 non-null  object        \n",
      " 1   name            792133 non-null  object        \n",
      " 2   address         792133 non-null  object        \n",
      " 3   city            792133 non-null  object        \n",
      " 4   state           792133 non-null  object        \n",
      " 5   postal_code     792133 non-null  object        \n",
      " 6   latitude        792133 non-null  float64       \n",
      " 7   longitude       792133 non-null  float64       \n",
      " 8   stars_business  792133 non-null  float64       \n",
      " 9   review_count    792133 non-null  int64         \n",
      " 10  is_open         792133 non-null  int64         \n",
      " 11  attributes      791260 non-null  object        \n",
      " 12  categories      792133 non-null  object        \n",
      " 13  hours           770229 non-null  object        \n",
      " 14  review_id       792133 non-null  object        \n",
      " 15  user_id         792133 non-null  object        \n",
      " 16  stars_reviews   792133 non-null  int64         \n",
      " 17  useful          792133 non-null  int64         \n",
      " 18  funny           792133 non-null  int64         \n",
      " 19  cool            792133 non-null  int64         \n",
      " 20  text            792133 non-null  object        \n",
      " 21  date            792133 non-null  datetime64[ns]\n",
      "dtypes: datetime64[ns](1), float64(3), int64(6), object(12)\n",
      "memory usage: 139.0+ MB\n"
     ]
    }
   ],
   "source": [
    "merged_df.info()"
   ]
  },
  {
   "cell_type": "code",
   "execution_count": 10,
   "metadata": {},
   "outputs": [
    {
     "name": "stdout",
     "output_type": "stream",
     "text": [
      "Mexican, Restaurants                                                                                                                                                                                              8384\n",
      "Restaurants, Mexican                                                                                                                                                                                              6363\n",
      "Restaurants, Pizza                                                                                                                                                                                                5403\n",
      "Pizza, Restaurants                                                                                                                                                                                                5191\n",
      "Italian, Restaurants                                                                                                                                                                                              4866\n",
      "Seafood, Restaurants                                                                                                                                                                                              4599\n",
      "Restaurants, Italian                                                                                                                                                                                              4431\n",
      "Restaurants, Seafood                                                                                                                                                                                              4224\n",
      "Restaurants, Chinese                                                                                                                                                                                              3796\n",
      "Burgers, Bars, Restaurants, American (Traditional), Vegan, Asian Fusion, Cocktail Bars, Breakfast & Brunch, Soul Food, Sandwiches, American (New), Gastropubs, Comfort Food, Nightlife, Wine Bars, Delis          3388\n",
      "Chinese, Restaurants                                                                                                                                                                                              3304\n",
      "American (New), Restaurants                                                                                                                                                                                       3252\n",
      "Breweries, Food, American (New), Beer, Wine & Spirits, Restaurants, Seafood                                                                                                                                       3179\n",
      "Arts & Entertainment, Steakhouses, Restaurants                                                                                                                                                                    3028\n",
      "Latin American, Restaurants, Spanish, American (Traditional), Cuban                                                                                                                                               2916\n",
      "Italian, Restaurants, Pizza                                                                                                                                                                                       2618\n",
      "Restaurants, Thai                                                                                                                                                                                                 2498\n",
      "Barbeque, Restaurants                                                                                                                                                                                             2437\n",
      "Sandwiches, American (Traditional), Restaurants, Seafood                                                                                                                                                          2335\n",
      "Thai, Restaurants                                                                                                                                                                                                 2328\n",
      "Restaurants, Greek                                                                                                                                                                                                2025\n",
      "Restaurants, American (New), Coffee & Tea, Books, Mags, Music & Video, Breakfast & Brunch, Food, American (Traditional), Event Planning & Services, Bookstores, Cafes, Diners, Venues & Event Spaces, Shopping    1938\n",
      "Restaurants, American (Traditional), Tapas/Small Plates, Seafood, Breakfast & Brunch, American (New)                                                                                                              1869\n",
      "Spanish, Cafes, Cuban, Latin American, Juice Bars & Smoothies, Food, Coffee & Tea, Restaurants                                                                                                                    1812\n",
      "Restaurants, Breakfast & Brunch                                                                                                                                                                                   1776\n",
      "Name: categories, dtype: int64\n"
     ]
    }
   ],
   "source": [
    "categories = merged_df['categories'].value_counts()\n",
    "print(categories[0:25])"
   ]
  },
  {
   "cell_type": "markdown",
   "metadata": {},
   "source": [
    "Top 25 Most Reviewed Restaurants in Tampa Bay Area"
   ]
  },
  {
   "cell_type": "code",
   "execution_count": 12,
   "metadata": {},
   "outputs": [
    {
     "name": "stdout",
     "output_type": "stream",
     "text": [
      "Columbia Restaurant         4032\n",
      "Datz                        3577\n",
      "McDonald's                  3340\n",
      "First Watch                 3230\n",
      "Ulele                       3179\n",
      "Bern's Steak House          3028\n",
      "Taco Bus                    2679\n",
      "Noble Crust                 2360\n",
      "Frenchy's Rockaway Grill    2335\n",
      "Capital Tacos               2323\n",
      "Ford's Garage               2305\n",
      "Chick-fil-A                 2148\n",
      "Chipotle Mexican Grill      2035\n",
      "Bodega                      2029\n",
      "Chili's                     1965\n",
      "Oxford Exchange             1938\n",
      "Lolis Mexican Cravings      1889\n",
      "Tijuana Flats               1882\n",
      "Bonefish Grill              1875\n",
      "Clear Sky Cafe              1869\n",
      "Acropolis Greek Taverna     1847\n",
      "Outback Steakhouse          1819\n",
      "Panera Bread                1756\n",
      "Buffalo Wild Wings          1637\n",
      "Bahama Breeze               1637\n",
      "Name: name, dtype: int64\n"
     ]
    }
   ],
   "source": [
    "business_names = merged_df['name'].value_counts()\n",
    "print(business_names[0:25])"
   ]
  },
  {
   "cell_type": "markdown",
   "metadata": {},
   "source": [
    "Download All 200K Photo Information Dataset"
   ]
  },
  {
   "cell_type": "code",
   "execution_count": 13,
   "metadata": {},
   "outputs": [
    {
     "data": {
      "text/plain": [
       "(200100, 4)"
      ]
     },
     "execution_count": 13,
     "metadata": {},
     "output_type": "execute_result"
    }
   ],
   "source": [
    "filename = \"photos\" + \".csv\"\n",
    "path = \"C:/Users/tokud/OneDrive/Documents/Machine Learning - UCSD Extension Springboard Course/Capstone/Datasets/\" + filename\n",
    "\n",
    "df_photos = pd.read_csv(path, chunksize=100000)\n",
    "\n",
    "photos_chunks = []\n",
    "\n",
    "for i, chunk in enumerate(df_photos):\n",
    "    photos_chunks.append(chunk)\n",
    "    \n",
    "    # if i == 9:\n",
    "    #     break\n",
    "    \n",
    "chunk_photos = pd.concat(photos_chunks, ignore_index=True)\n",
    "\n",
    "chunk_photos.shape"
   ]
  },
  {
   "cell_type": "code",
   "execution_count": 14,
   "metadata": {},
   "outputs": [
    {
     "data": {
      "text/html": [
       "<div><div id=b69afc85-7820-4c05-802b-82f01d7476f4 style=\"display:none; background-color:#9D6CFF; color:white; width:200px; height:30px; padding-left:5px; border-radius:4px; flex-direction:row; justify-content:space-around; align-items:center;\" onmouseover=\"this.style.backgroundColor='#BA9BF8'\" onmouseout=\"this.style.backgroundColor='#9D6CFF'\" onclick=\"window.commands?.execute('create-mitosheet-from-dataframe-output');\">See Full Dataframe in Mito</div> <script> if (window.commands.hasCommand('create-mitosheet-from-dataframe-output')) document.getElementById('b69afc85-7820-4c05-802b-82f01d7476f4').style.display = 'flex' </script> <table border=\"1\" class=\"dataframe\">\n",
       "  <thead>\n",
       "    <tr style=\"text-align: right;\">\n",
       "      <th></th>\n",
       "      <th>photo_id</th>\n",
       "      <th>business_id</th>\n",
       "      <th>caption</th>\n",
       "      <th>label</th>\n",
       "    </tr>\n",
       "  </thead>\n",
       "  <tbody>\n",
       "    <tr>\n",
       "      <th>0</th>\n",
       "      <td>zsvj7vloL4L5jhYyPIuVwg</td>\n",
       "      <td>Nk-SJhPlDBkAZvfsADtccA</td>\n",
       "      <td>Nice rock artwork everywhere and craploads of taps.</td>\n",
       "      <td>inside</td>\n",
       "    </tr>\n",
       "    <tr>\n",
       "      <th>1</th>\n",
       "      <td>HCUdRJHHm_e0OCTlZetGLg</td>\n",
       "      <td>yVZtL5MmrpiivyCIrVkGgA</td>\n",
       "      <td>NaN</td>\n",
       "      <td>outside</td>\n",
       "    </tr>\n",
       "    <tr>\n",
       "      <th>2</th>\n",
       "      <td>vkr8T0scuJmGVvN2HJelEA</td>\n",
       "      <td>_ab50qdWOk0DdB6XOrBitw</td>\n",
       "      <td>oyster shooter</td>\n",
       "      <td>drink</td>\n",
       "    </tr>\n",
       "    <tr>\n",
       "      <th>3</th>\n",
       "      <td>pve7D6NUrafHW3EAORubyw</td>\n",
       "      <td>SZU9c8V2GuREDN5KgyHFJw</td>\n",
       "      <td>Shrimp scampi</td>\n",
       "      <td>food</td>\n",
       "    </tr>\n",
       "    <tr>\n",
       "      <th>4</th>\n",
       "      <td>H52Er-uBg6rNrHcReWTD2w</td>\n",
       "      <td>Gzur0f0XMkrVxIwYJvOt2g</td>\n",
       "      <td>NaN</td>\n",
       "      <td>food</td>\n",
       "    </tr>\n",
       "  </tbody>\n",
       "</table></div>"
      ],
      "text/plain": [
       "                 photo_id             business_id  \\\n",
       "0  zsvj7vloL4L5jhYyPIuVwg  Nk-SJhPlDBkAZvfsADtccA   \n",
       "1  HCUdRJHHm_e0OCTlZetGLg  yVZtL5MmrpiivyCIrVkGgA   \n",
       "2  vkr8T0scuJmGVvN2HJelEA  _ab50qdWOk0DdB6XOrBitw   \n",
       "3  pve7D6NUrafHW3EAORubyw  SZU9c8V2GuREDN5KgyHFJw   \n",
       "4  H52Er-uBg6rNrHcReWTD2w  Gzur0f0XMkrVxIwYJvOt2g   \n",
       "\n",
       "                                             caption    label  \n",
       "0  Nice rock artwork everywhere and craploads of ...   inside  \n",
       "1                                                NaN  outside  \n",
       "2                                     oyster shooter    drink  \n",
       "3                                      Shrimp scampi     food  \n",
       "4                                                NaN     food  "
      ]
     },
     "execution_count": 14,
     "metadata": {},
     "output_type": "execute_result"
    }
   ],
   "source": [
    "chunk_photos.head()"
   ]
  },
  {
   "cell_type": "code",
   "execution_count": 15,
   "metadata": {},
   "outputs": [
    {
     "name": "stdout",
     "output_type": "stream",
     "text": [
      "food       108152\n",
      "inside      56031\n",
      "outside     18569\n",
      "drink       15670\n",
      "menu         1678\n",
      "Name: label, dtype: int64\n"
     ]
    }
   ],
   "source": [
    "labels = chunk_photos['label'].value_counts()\n",
    "print(labels)"
   ]
  },
  {
   "cell_type": "markdown",
   "metadata": {},
   "source": [
    "Merge Florida Restaurant df with Photo Info df. Total of 30.4K rows"
   ]
  },
  {
   "cell_type": "code",
   "execution_count": 16,
   "metadata": {},
   "outputs": [
    {
     "data": {
      "text/plain": [
       "(30410, 17)"
      ]
     },
     "execution_count": 16,
     "metadata": {},
     "output_type": "execute_result"
    }
   ],
   "source": [
    "merged_photos_df = pd.merge(fl_restaurants, chunk_photos, on='business_id', how='inner')\n",
    "merged_photos_df.shape"
   ]
  },
  {
   "cell_type": "code",
   "execution_count": 17,
   "metadata": {},
   "outputs": [
    {
     "name": "stdout",
     "output_type": "stream",
     "text": [
      "<class 'pandas.core.frame.DataFrame'>\n",
      "Int64Index: 30410 entries, 0 to 30409\n",
      "Data columns (total 17 columns):\n",
      " #   Column        Non-Null Count  Dtype  \n",
      "---  ------        --------------  -----  \n",
      " 0   business_id   30410 non-null  object \n",
      " 1   name          30410 non-null  object \n",
      " 2   address       30410 non-null  object \n",
      " 3   city          30410 non-null  object \n",
      " 4   state         30410 non-null  object \n",
      " 5   postal_code   30410 non-null  object \n",
      " 6   latitude      30410 non-null  float64\n",
      " 7   longitude     30410 non-null  float64\n",
      " 8   stars         30410 non-null  float64\n",
      " 9   review_count  30410 non-null  int64  \n",
      " 10  is_open       30410 non-null  int64  \n",
      " 11  attributes    30368 non-null  object \n",
      " 12  categories    30410 non-null  object \n",
      " 13  hours         29819 non-null  object \n",
      " 14  photo_id      30410 non-null  object \n",
      " 15  caption       15237 non-null  object \n",
      " 16  label         30410 non-null  object \n",
      "dtypes: float64(3), int64(2), object(12)\n",
      "memory usage: 4.2+ MB\n"
     ]
    }
   ],
   "source": [
    "merged_photos_df.info()"
   ]
  },
  {
   "cell_type": "code",
   "execution_count": 19,
   "metadata": {},
   "outputs": [],
   "source": [
    "filename = \"FL_Restaurants_Photos\" + \".csv\"\n",
    "out_path = \"C:/Users/tokud/OneDrive/Documents/Machine Learning - UCSD Extension Springboard Course/Capstone/Datasets/\" + filename\n",
    "\n",
    "merged_photos_df.to_csv(out_path, index=False)"
   ]
  },
  {
   "cell_type": "markdown",
   "metadata": {},
   "source": [
    "Create set of Photo IDs and iterate through Extracted Images Directory which includes all 200K images and match with Photo ID list and then copy photos to Florida Photos Directory. The resulting output includes 30,410 images which matches the number of rows in the merged_photos_df and will be all the relevant Florida photos available."
   ]
  },
  {
   "cell_type": "code",
   "execution_count": 18,
   "metadata": {},
   "outputs": [],
   "source": [
    "import os\n",
    "import shutil\n",
    "\n",
    "photos_dir = \"C:/Users/tokud/OneDrive/Documents/Machine Learning - UCSD Extension Springboard Course/Capstone/Photos/extracted_images\"\n",
    "output_dir = \"C:/Users/tokud/OneDrive/Documents/Machine Learning - UCSD Extension Springboard Course/Capstone/Datasets/Florida Photos/\"\n",
    "\n",
    "if not os.path.exists(output_dir):\n",
    "    os.makedirs(output_dir)\n",
    "\n",
    "photo_ids = set(merged_photos_df['photo_id'].tolist())  \n",
    "\n",
    "\n",
    "for image_file in os.listdir(photos_dir):\n",
    "    if image_file.endswith('.jpg'):\n",
    "\n",
    "        photo_id = os.path.splitext(image_file)[0]\n",
    "        \n",
    "        if photo_id in photo_ids:\n",
    "            src_path = os.path.join(photos_dir, image_file)\n",
    "            dest_path = os.path.join(output_dir, image_file)\n",
    "            \n",
    "            shutil.copy(src_path, dest_path)\n",
    "            \n"
   ]
  }
 ],
 "metadata": {
  "kernelspec": {
   "display_name": "base",
   "language": "python",
   "name": "python3"
  },
  "language_info": {
   "codemirror_mode": {
    "name": "ipython",
    "version": 3
   },
   "file_extension": ".py",
   "mimetype": "text/x-python",
   "name": "python",
   "nbconvert_exporter": "python",
   "pygments_lexer": "ipython3",
   "version": "3.9.7"
  }
 },
 "nbformat": 4,
 "nbformat_minor": 2
}
