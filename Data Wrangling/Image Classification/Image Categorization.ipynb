{
 "cells": [
  {
   "cell_type": "code",
   "execution_count": 1,
   "metadata": {},
   "outputs": [],
   "source": [
    "import os\n",
    "import ast\n",
    "import shutil\n",
    "import pandas as pd"
   ]
  },
  {
   "cell_type": "code",
   "execution_count": 2,
   "metadata": {},
   "outputs": [
    {
     "data": {
      "text/plain": [
       "(30410, 17)"
      ]
     },
     "execution_count": 2,
     "metadata": {},
     "output_type": "execute_result"
    }
   ],
   "source": [
    "filename = \"FL_Restaurants_Photos\" + \".csv\"\n",
    "path = \"C:/Users/tokud/OneDrive/Documents/Machine Learning - UCSD Extension Springboard Course/Capstone/Datasets/\" + filename\n",
    "\n",
    "merged_photos_df = pd.read_csv(path)\n",
    "merged_photos_df.shape"
   ]
  },
  {
   "cell_type": "code",
   "execution_count": 3,
   "metadata": {},
   "outputs": [
    {
     "name": "stdout",
     "output_type": "stream",
     "text": [
      "['outside', 'food', 'inside', 'menu', 'drink']\n"
     ]
    }
   ],
   "source": [
    "label_list = merged_photos_df['label'].unique().tolist()\n",
    "print(label_list)"
   ]
  },
  {
   "cell_type": "code",
   "execution_count": 4,
   "metadata": {},
   "outputs": [],
   "source": [
    "def upscale_attribute(attributes_str):\n",
    "    try:\n",
    "        attributes = ast.literal_eval(attributes_str)\n",
    "\n",
    "        if 'Ambience' in attributes and attributes['Ambience']:\n",
    "            ambience = ast.literal_eval(attributes['Ambience'])\n",
    "            \n",
    "            if isinstance(ambience, dict):\n",
    "                upscale = ambience.get('upscale') is True\n",
    "                classy = ambience.get('classy') is True\n",
    "                return upscale and classy\n",
    "    except (ValueError, SyntaxError, TypeError):\n",
    "        pass\n",
    "    return \n",
    "\n",
    "\n",
    "def fastfood_attribute(attributes_str):\n",
    "    if pd.isna(attributes_str):\n",
    "        return False\n",
    "    try:\n",
    "        attributes = ast.literal_eval(attributes_str)\n",
    "        \n",
    "        if attributes.get('RestaurantsTableService') == 'False' and attributes.get('DriveThru') == 'True':\n",
    "            return True\n",
    "    except (ValueError, SyntaxError, TypeError):\n",
    "        pass\n",
    "    return False \n",
    "\n",
    "\n",
    "def delivery_attribute(attributes_str):\n",
    "    if pd.isna(attributes_str):\n",
    "        return False\n",
    "    try:\n",
    "        attributes = ast.literal_eval(attributes_str)\n",
    "        \n",
    "        if attributes.get('RestaurantsTableService') == 'False' and attributes.get('RestaurantsDelivery') == 'True':\n",
    "            return True\n",
    "    except (ValueError, SyntaxError, TypeError):\n",
    "        pass\n",
    "    return False \n",
    "\n",
    "\n",
    "def no_table_service(attributes_str):\n",
    "    if pd.isna(attributes_str):\n",
    "        return False\n",
    "    try:\n",
    "        attributes = ast.literal_eval(attributes_str)\n",
    "        \n",
    "        if attributes.get('RestaurantsTableService') == 'False':\n",
    "            return True\n",
    "    except (ValueError, SyntaxError, TypeError):\n",
    "        pass\n",
    "    return False"
   ]
  },
  {
   "cell_type": "code",
   "execution_count": 5,
   "metadata": {},
   "outputs": [],
   "source": [
    "functions_list = ['upscale_attribute', 'fastfood_attribute', 'delivery_attribute', 'no_table_service']"
   ]
  },
  {
   "cell_type": "code",
   "execution_count": 6,
   "metadata": {},
   "outputs": [],
   "source": [
    "function_mapping = {\n",
    "    'upscale_attribute': upscale_attribute,\n",
    "    'fastfood_attribute': fastfood_attribute,\n",
    "    'delivery_attribute': delivery_attribute,\n",
    "    'no_table_service': no_table_service\n",
    "}"
   ]
  },
  {
   "cell_type": "code",
   "execution_count": 7,
   "metadata": {},
   "outputs": [
    {
     "name": "stderr",
     "output_type": "stream",
     "text": [
      "C:\\Users\\tokud\\AppData\\Local\\Temp/ipykernel_19868/2145337974.py:9: SettingWithCopyWarning: \n",
      "A value is trying to be set on a copy of a slice from a DataFrame.\n",
      "Try using .loc[row_indexer,col_indexer] = value instead\n",
      "\n",
      "See the caveats in the documentation: https://pandas.pydata.org/pandas-docs/stable/user_guide/indexing.html#returning-a-view-versus-a-copy\n",
      "  df_labels[f\"{function_name}_result\"] = df_labels['attributes'].apply(function)\n"
     ]
    }
   ],
   "source": [
    "results_dict = {}\n",
    "\n",
    "for label in label_list:\n",
    "    \n",
    "    df_labels = merged_photos_df[merged_photos_df['label'] == label]\n",
    "    \n",
    "    for function_name in functions_list:\n",
    "        function = function_mapping[function_name]\n",
    "        df_labels[f\"{function_name}_result\"] = df_labels['attributes'].apply(function)\n",
    "            \n",
    "        df_filtered = df_labels[df_labels[f\"{function_name}_result\"] == True].copy()\n",
    "\n",
    "        if not df_filtered.empty:\n",
    "            key = f\"{label}_{function_name}\"\n",
    "            results_dict[key] = df_filtered          "
   ]
  },
  {
   "cell_type": "code",
   "execution_count": 8,
   "metadata": {},
   "outputs": [
    {
     "name": "stdout",
     "output_type": "stream",
     "text": [
      "outside_upscale_attribute: (74, 18)\n",
      "outside_fastfood_attribute: (32, 19)\n",
      "outside_delivery_attribute: (276, 20)\n",
      "outside_no_table_service: (512, 21)\n",
      "food_upscale_attribute: (536, 18)\n",
      "food_fastfood_attribute: (434, 19)\n",
      "food_delivery_attribute: (2364, 20)\n",
      "food_no_table_service: (2986, 21)\n",
      "inside_upscale_attribute: (320, 18)\n",
      "inside_fastfood_attribute: (75, 19)\n",
      "inside_delivery_attribute: (714, 20)\n",
      "inside_no_table_service: (1161, 21)\n",
      "menu_upscale_attribute: (3, 18)\n",
      "menu_fastfood_attribute: (2, 19)\n",
      "menu_delivery_attribute: (48, 20)\n",
      "menu_no_table_service: (70, 21)\n",
      "drink_upscale_attribute: (82, 18)\n",
      "drink_fastfood_attribute: (32, 19)\n",
      "drink_delivery_attribute: (168, 20)\n",
      "drink_no_table_service: (282, 21)\n"
     ]
    }
   ],
   "source": [
    "for key, df in results_dict.items():\n",
    "    print(f\"{key}: {df.shape}\")"
   ]
  },
  {
   "cell_type": "code",
   "execution_count": 9,
   "metadata": {},
   "outputs": [
    {
     "data": {
      "text/plain": [
       "(1015, 18)"
      ]
     },
     "execution_count": 9,
     "metadata": {},
     "output_type": "execute_result"
    }
   ],
   "source": [
    "upscale_list = ['outside_upscale_attribute', 'food_upscale_attribute', 'inside_upscale_attribute', 'menu_upscale_attribute', 'drink_upscale_attribute']\n",
    "\n",
    "upscale_dataframes = []\n",
    "\n",
    "for i in upscale_list:\n",
    "    if i in results_dict:\n",
    "        df_upscale = results_dict[i]\n",
    "        upscale_dataframes.append(df_upscale)\n",
    "        \n",
    "df_upscale_photos = pd.concat(upscale_dataframes, ignore_index=True)\n",
    "df_upscale_photos.shape"
   ]
  },
  {
   "cell_type": "code",
   "execution_count": 10,
   "metadata": {},
   "outputs": [
    {
     "data": {
      "text/plain": [
       "4.0    482\n",
       "4.5    314\n",
       "3.5    186\n",
       "3.0     33\n",
       "Name: stars, dtype: int64"
      ]
     },
     "execution_count": 10,
     "metadata": {},
     "output_type": "execute_result"
    }
   ],
   "source": [
    "df_upscale_photos['stars'].value_counts()"
   ]
  },
  {
   "cell_type": "code",
   "execution_count": 11,
   "metadata": {},
   "outputs": [
    {
     "data": {
      "text/plain": [
       "(796, 18)"
      ]
     },
     "execution_count": 11,
     "metadata": {},
     "output_type": "execute_result"
    }
   ],
   "source": [
    "df_upscale_photos = df_upscale_photos[df_upscale_photos['stars'].isin([4, 4.5])]\n",
    "df_upscale_photos.shape"
   ]
  },
  {
   "cell_type": "code",
   "execution_count": 13,
   "metadata": {},
   "outputs": [
    {
     "data": {
      "text/html": [
       "<div><div id=656aad4b-51bb-4bea-93eb-fe2519e79c9d style=\"display:none; background-color:#9D6CFF; color:white; width:200px; height:30px; padding-left:5px; border-radius:4px; flex-direction:row; justify-content:space-around; align-items:center;\" onmouseover=\"this.style.backgroundColor='#BA9BF8'\" onmouseout=\"this.style.backgroundColor='#9D6CFF'\" onclick=\"window.commands?.execute('create-mitosheet-from-dataframe-output');\">See Full Dataframe in Mito</div> <script> if (window.commands.hasCommand('create-mitosheet-from-dataframe-output')) document.getElementById('656aad4b-51bb-4bea-93eb-fe2519e79c9d').style.display = 'flex' </script> <table border=\"1\" class=\"dataframe\">\n",
       "  <thead>\n",
       "    <tr style=\"text-align: right;\">\n",
       "      <th></th>\n",
       "      <th>photo_id</th>\n",
       "      <th>label</th>\n",
       "    </tr>\n",
       "  </thead>\n",
       "  <tbody>\n",
       "    <tr>\n",
       "      <th>9</th>\n",
       "      <td>7sVrf-VF50HGES_h8OQ46A</td>\n",
       "      <td>fine dining</td>\n",
       "    </tr>\n",
       "    <tr>\n",
       "      <th>10</th>\n",
       "      <td>1Zh80DfJ5okYm2S8wxePUA</td>\n",
       "      <td>fine dining</td>\n",
       "    </tr>\n",
       "    <tr>\n",
       "      <th>11</th>\n",
       "      <td>jBEueCghl2S_bFDuVux1lA</td>\n",
       "      <td>fine dining</td>\n",
       "    </tr>\n",
       "    <tr>\n",
       "      <th>12</th>\n",
       "      <td>NO3puIMIwXjNbstSXXXh0A</td>\n",
       "      <td>fine dining</td>\n",
       "    </tr>\n",
       "    <tr>\n",
       "      <th>13</th>\n",
       "      <td>K5wG2QbekQxLd8VmE0Hu2A</td>\n",
       "      <td>fine dining</td>\n",
       "    </tr>\n",
       "  </tbody>\n",
       "</table></div>"
      ],
      "text/plain": [
       "                  photo_id        label\n",
       "9   7sVrf-VF50HGES_h8OQ46A  fine dining\n",
       "10  1Zh80DfJ5okYm2S8wxePUA  fine dining\n",
       "11  jBEueCghl2S_bFDuVux1lA  fine dining\n",
       "12  NO3puIMIwXjNbstSXXXh0A  fine dining\n",
       "13  K5wG2QbekQxLd8VmE0Hu2A  fine dining"
      ]
     },
     "execution_count": 13,
     "metadata": {},
     "output_type": "execute_result"
    }
   ],
   "source": [
    "df_upscale_photos['label'] = \"fine dining\"\n",
    "df_upscale_photos[['photo_id', 'label']].head()"
   ]
  },
  {
   "cell_type": "code",
   "execution_count": 40,
   "metadata": {},
   "outputs": [],
   "source": [
    "photos_dir = \"C:/Users/tokud/OneDrive/Documents/Machine Learning - UCSD Extension Springboard Course/Capstone/Datasets/Florida Photos/\"\n",
    "output_dir = \"C:/Users/tokud/OneDrive/Documents/Machine Learning - UCSD Extension Springboard Course/Capstone/Photos/Upscale Images/\"\n",
    "\n",
    "if not os.path.exists(output_dir):\n",
    "    os.makedirs(output_dir)\n",
    "\n",
    "photo_ids = set(df_upscale_photos['photo_id'].tolist())  \n",
    "\n",
    "\n",
    "for image_file in os.listdir(photos_dir):\n",
    "    if image_file.endswith('.jpg'):\n",
    "\n",
    "        photo_id = os.path.splitext(image_file)[0]\n",
    "        \n",
    "        if photo_id in photo_ids:\n",
    "            src_path = os.path.join(photos_dir, image_file)\n",
    "            dest_path = os.path.join(output_dir, image_file)\n",
    "            \n",
    "            shutil.copy(src_path, dest_path)"
   ]
  },
  {
   "cell_type": "code",
   "execution_count": 14,
   "metadata": {},
   "outputs": [
    {
     "data": {
      "image/png": "[encoded data removed]",
      "text/plain": [
       "<Figure size 576x288 with 1 Axes>"
      ]
     },
     "metadata": {
      "needs_background": "light"
     },
     "output_type": "display_data"
    },
    {
     "data": {
      "image/png": "[encoded data removed]",
      "text/plain": [
       "<Figure size 576x288 with 1 Axes>"
      ]
     },
     "metadata": {
      "needs_background": "light"
     },
     "output_type": "display_data"
    }
   ],
   "source": [
    "numeric_columns = df_upscale_photos[['stars', 'review_count']]\n",
    "\n",
    "import seaborn as sns\n",
    "import matplotlib.pyplot as plt\n",
    "\n",
    "for c in numeric_columns:\n",
    "    plt.figure(figsize=(8, 4))\n",
    "    sns.histplot(df_upscale_photos[c], kde=True)\n",
    "    plt.title(f'Histogram of {c}')\n",
    "    plt.show()"
   ]
  },
  {
   "cell_type": "code",
   "execution_count": 15,
   "metadata": {},
   "outputs": [
    {
     "data": {
      "text/plain": [
       "(9156, 21)"
      ]
     },
     "execution_count": 15,
     "metadata": {},
     "output_type": "execute_result"
    }
   ],
   "source": [
    "fastfood_list = [\n",
    "'outside_fastfood_attribute',\n",
    "'outside_delivery_attribute',\n",
    "'outside_no_table_service',\n",
    "'food_fastfood_attribute',\n",
    "'food_delivery_attribute',\n",
    "'food_no_table_service',\n",
    "'inside_fastfood_attribute',\n",
    "'inside_delivery_attribute',\n",
    "'inside_no_table_service',\n",
    "'menu_fastfood_attribute',\n",
    "'menu_delivery_attribute',\n",
    "'menu_no_table_service',\n",
    "'drink_fastfood_attribute',\n",
    "'drink_delivery_attribute',\n",
    "'drink_no_table_service']\n",
    "\n",
    "fastfood_dataframes = []\n",
    "\n",
    "for i in fastfood_list:\n",
    "    if i in results_dict:\n",
    "        df_fastfood = results_dict[i]\n",
    "        fastfood_dataframes.append(df_fastfood)\n",
    "        \n",
    "df_fastfood_photos = pd.concat(fastfood_dataframes, ignore_index=True)\n",
    "df_fastfood_photos.shape"
   ]
  },
  {
   "cell_type": "code",
   "execution_count": 16,
   "metadata": {},
   "outputs": [
    {
     "data": {
      "text/plain": [
       "4.5    3545\n",
       "4.0    2374\n",
       "3.5    1186\n",
       "3.0     704\n",
       "5.0     513\n",
       "2.5     483\n",
       "2.0     269\n",
       "1.5      82\n",
       "Name: stars, dtype: int64"
      ]
     },
     "execution_count": 16,
     "metadata": {},
     "output_type": "execute_result"
    }
   ],
   "source": [
    "df_fastfood_photos['stars'].value_counts()"
   ]
  },
  {
   "cell_type": "code",
   "execution_count": 17,
   "metadata": {},
   "outputs": [
    {
     "data": {
      "text/html": [
       "<div><div id=c79d7cb7-81f9-4eaa-8668-bdb5be4a1443 style=\"display:none; background-color:#9D6CFF; color:white; width:200px; height:30px; padding-left:5px; border-radius:4px; flex-direction:row; justify-content:space-around; align-items:center;\" onmouseover=\"this.style.backgroundColor='#BA9BF8'\" onmouseout=\"this.style.backgroundColor='#9D6CFF'\" onclick=\"window.commands?.execute('create-mitosheet-from-dataframe-output');\">See Full Dataframe in Mito</div> <script> if (window.commands.hasCommand('create-mitosheet-from-dataframe-output')) document.getElementById('c79d7cb7-81f9-4eaa-8668-bdb5be4a1443').style.display = 'flex' </script> <table border=\"1\" class=\"dataframe\">\n",
       "  <thead>\n",
       "    <tr style=\"text-align: right;\">\n",
       "      <th></th>\n",
       "      <th>photo_id</th>\n",
       "      <th>label</th>\n",
       "    </tr>\n",
       "  </thead>\n",
       "  <tbody>\n",
       "    <tr>\n",
       "      <th>0</th>\n",
       "      <td>_x_Bd5TuGN2fN_aO_7aLEw</td>\n",
       "      <td>fast food</td>\n",
       "    </tr>\n",
       "    <tr>\n",
       "      <th>1</th>\n",
       "      <td>ZNwNBhlCICFwHIQz8DSa3A</td>\n",
       "      <td>fast food</td>\n",
       "    </tr>\n",
       "    <tr>\n",
       "      <th>2</th>\n",
       "      <td>dE1wy34zQnelHg6ONgRQww</td>\n",
       "      <td>fast food</td>\n",
       "    </tr>\n",
       "    <tr>\n",
       "      <th>3</th>\n",
       "      <td>n6pTHg6JLgnJYHuLKwhLfw</td>\n",
       "      <td>fast food</td>\n",
       "    </tr>\n",
       "    <tr>\n",
       "      <th>4</th>\n",
       "      <td>UFi0lSnl8ebMtV29e3CcLg</td>\n",
       "      <td>fast food</td>\n",
       "    </tr>\n",
       "  </tbody>\n",
       "</table></div>"
      ],
      "text/plain": [
       "                 photo_id      label\n",
       "0  _x_Bd5TuGN2fN_aO_7aLEw  fast food\n",
       "1  ZNwNBhlCICFwHIQz8DSa3A  fast food\n",
       "2  dE1wy34zQnelHg6ONgRQww  fast food\n",
       "3  n6pTHg6JLgnJYHuLKwhLfw  fast food\n",
       "4  UFi0lSnl8ebMtV29e3CcLg  fast food"
      ]
     },
     "execution_count": 17,
     "metadata": {},
     "output_type": "execute_result"
    }
   ],
   "source": [
    "df_fastfood_photos['label'] = \"fast food\"\n",
    "df_fastfood_photos[['photo_id', 'label']].head()"
   ]
  },
  {
   "cell_type": "code",
   "execution_count": 18,
   "metadata": {},
   "outputs": [
    {
     "data": {
      "text/plain": [
       "(834, 21)"
      ]
     },
     "execution_count": 18,
     "metadata": {},
     "output_type": "execute_result"
    }
   ],
   "source": [
    "lower_rated = df_fastfood_photos[df_fastfood_photos['stars'].isin([1.5, 2.0, 2.5])]\n",
    "lower_rated.shape"
   ]
  },
  {
   "cell_type": "code",
   "execution_count": 19,
   "metadata": {},
   "outputs": [
    {
     "data": {
      "text/plain": [
       "(1890, 21)"
      ]
     },
     "execution_count": 19,
     "metadata": {},
     "output_type": "execute_result"
    }
   ],
   "source": [
    "middle_rated = df_fastfood_photos[df_fastfood_photos['stars'].isin([3.0, 3.5])]\n",
    "middle_rated.shape"
   ]
  },
  {
   "cell_type": "code",
   "execution_count": 20,
   "metadata": {},
   "outputs": [
    {
     "data": {
      "text/plain": [
       "(6432, 21)"
      ]
     },
     "execution_count": 20,
     "metadata": {},
     "output_type": "execute_result"
    }
   ],
   "source": [
    "highly_rated = df_fastfood_photos[df_fastfood_photos['stars'].isin([4.0, 4.5, 5.0])]\n",
    "highly_rated.shape"
   ]
  },
  {
   "cell_type": "code",
   "execution_count": 56,
   "metadata": {},
   "outputs": [],
   "source": [
    "photos_dir = \"C:/Users/tokud/OneDrive/Documents/Machine Learning - UCSD Extension Springboard Course/Capstone/Datasets/Florida Photos/\"\n",
    "output_dir = \"C:/Users/tokud/OneDrive/Documents/Machine Learning - UCSD Extension Springboard Course/Capstone/Photos/Fastfood Images/Lower Rated/\"\n",
    "\n",
    "if not os.path.exists(output_dir):\n",
    "    os.makedirs(output_dir)\n",
    "\n",
    "photo_ids = set(lower_rated['photo_id'].tolist())  \n",
    "\n",
    "\n",
    "for image_file in os.listdir(photos_dir):\n",
    "    if image_file.endswith('.jpg'):\n",
    "\n",
    "        photo_id = os.path.splitext(image_file)[0]\n",
    "        \n",
    "        if photo_id in photo_ids:\n",
    "            src_path = os.path.join(photos_dir, image_file)\n",
    "            dest_path = os.path.join(output_dir, image_file)\n",
    "            \n",
    "            shutil.copy(src_path, dest_path)"
   ]
  },
  {
   "cell_type": "code",
   "execution_count": 23,
   "metadata": {},
   "outputs": [
    {
     "name": "stdout",
     "output_type": "stream",
     "text": [
      "Number of duplicate values in 'photo_id_column': 501\n",
      "Number of duplicate values in 'photo_id_column': 972\n",
      "Number of duplicate values in 'photo_id_column': 2672\n"
     ]
    }
   ],
   "source": [
    "df_list = ['lower_rated', 'middle_rated', 'highly_rated']\n",
    "\n",
    "df_mapping = {\n",
    "    'lower_rated': lower_rated,\n",
    "    'middle_rated': middle_rated,\n",
    "    'highly_rated': highly_rated\n",
    "}\n",
    "\n",
    "for i in df_list:\n",
    "    i = df_mapping[i]\n",
    "    duplicates_count = i['photo_id'].duplicated().sum()\n",
    "    print(f\"Number of duplicate values in 'photo_id_column': {duplicates_count}\")"
   ]
  },
  {
   "cell_type": "code",
   "execution_count": 60,
   "metadata": {},
   "outputs": [],
   "source": [
    "photos_dir = \"C:/Users/tokud/OneDrive/Documents/Machine Learning - UCSD Extension Springboard Course/Capstone/Datasets/Florida Photos/\"\n",
    "output_dir = \"C:/Users/tokud/OneDrive/Documents/Machine Learning - UCSD Extension Springboard Course/Capstone/Photos/Fastfood Images/Medium Rated/\"\n",
    "\n",
    "if not os.path.exists(output_dir):\n",
    "    os.makedirs(output_dir)\n",
    "\n",
    "photo_ids = set(middle_rated['photo_id'].tolist())  \n",
    "\n",
    "\n",
    "for image_file in os.listdir(photos_dir):\n",
    "    if image_file.endswith('.jpg'):\n",
    "\n",
    "        photo_id = os.path.splitext(image_file)[0]\n",
    "        \n",
    "        if photo_id in photo_ids:\n",
    "            src_path = os.path.join(photos_dir, image_file)\n",
    "            dest_path = os.path.join(output_dir, image_file)\n",
    "            \n",
    "            shutil.copy(src_path, dest_path)"
   ]
  },
  {
   "cell_type": "code",
   "execution_count": 61,
   "metadata": {},
   "outputs": [],
   "source": [
    "photos_dir = \"C:/Users/tokud/OneDrive/Documents/Machine Learning - UCSD Extension Springboard Course/Capstone/Datasets/Florida Photos/\"\n",
    "output_dir = \"C:/Users/tokud/OneDrive/Documents/Machine Learning - UCSD Extension Springboard Course/Capstone/Photos/Fastfood Images/Highly Rated/\"\n",
    "\n",
    "if not os.path.exists(output_dir):\n",
    "    os.makedirs(output_dir)\n",
    "\n",
    "photo_ids = set(highly_rated['photo_id'].tolist())  \n",
    "\n",
    "\n",
    "for image_file in os.listdir(photos_dir):\n",
    "    if image_file.endswith('.jpg'):\n",
    "\n",
    "        photo_id = os.path.splitext(image_file)[0]\n",
    "        \n",
    "        if photo_id in photo_ids:\n",
    "            src_path = os.path.join(photos_dir, image_file)\n",
    "            dest_path = os.path.join(output_dir, image_file)\n",
    "            \n",
    "            shutil.copy(src_path, dest_path)"
   ]
  },
  {
   "cell_type": "code",
   "execution_count": 27,
   "metadata": {},
   "outputs": [
    {
     "name": "stdout",
     "output_type": "stream",
     "text": [
      "lower_rated.csv\n",
      "(333, 21)\n",
      "middle_rated.csv\n",
      "(918, 21)\n",
      "highly_rated.csv\n",
      "(3760, 21)\n",
      "df_upscale_photos.csv\n",
      "(796, 18)\n"
     ]
    }
   ],
   "source": [
    "df_lists = ['lower_rated', 'middle_rated', 'highly_rated', 'df_upscale_photos']\n",
    "\n",
    "df_mapping = {\n",
    "    'lower_rated': lower_rated,\n",
    "    'middle_rated': middle_rated,\n",
    "    'highly_rated': highly_rated,\n",
    "    'df_upscale_photos': df_upscale_photos\n",
    "}\n",
    "\n",
    "image_df_directory = \"C:/Users/tokud/OneDrive/Documents/Machine Learning - UCSD Extension Springboard Course/Capstone/Datasets/Image Datasets/\"\n",
    "\n",
    "\n",
    "for df in df_lists:\n",
    "    df_sub = df_mapping[df]\n",
    "    df_sub = df_sub.drop_duplicates(subset='photo_id')\n",
    "    \n",
    "    filename = df + \".csv\"\n",
    "    outpath = image_df_directory + filename\n",
    "    df_sub.to_csv(outpath, index=False)\n",
    "    print(filename)\n",
    "    print(df_sub.shape)"
   ]
  }
 ],
 "metadata": {
  "kernelspec": {
   "display_name": "base",
   "language": "python",
   "name": "python3"
  },
  "language_info": {
   "codemirror_mode": {
    "name": "ipython",
    "version": 3
   },
   "file_extension": ".py",
   "mimetype": "text/x-python",
   "name": "python",
   "nbconvert_exporter": "python",
   "pygments_lexer": "ipython3",
   "version": "3.9.7"
  }
 },
 "nbformat": 4,
 "nbformat_minor": 2
}
