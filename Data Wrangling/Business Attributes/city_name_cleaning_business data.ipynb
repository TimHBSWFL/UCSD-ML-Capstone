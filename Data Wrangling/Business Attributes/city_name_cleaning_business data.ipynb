{
 "cells": [
  {
   "cell_type": "code",
   "execution_count": 1,
   "metadata": {},
   "outputs": [],
   "source": [
    "import pandas as pd"
   ]
  },
  {
   "cell_type": "code",
   "execution_count": 2,
   "metadata": {},
   "outputs": [
    {
     "data": {
      "text/plain": [
       "(150346, 14)"
      ]
     },
     "execution_count": 2,
     "metadata": {},
     "output_type": "execute_result"
    }
   ],
   "source": [
    "filename = \"yelp_academic_dataset_business\" + \".csv\"\n",
    "path = \"C:/Users/tokud/OneDrive/Documents/Machine Learning - UCSD Extension Springboard Course/Capstone/Datasets/\" + filename\n",
    "\n",
    "chunk_iterator = pd.read_csv(path, chunksize=10000)\n",
    "\n",
    "chunks = []\n",
    "\n",
    "for chunk in chunk_iterator:\n",
    "  chunks.append(chunk)\n",
    "\n",
    "business_df = pd.concat(chunks, ignore_index=True)\n",
    "business_df.shape"
   ]
  },
  {
   "cell_type": "code",
   "execution_count": 21,
   "metadata": {},
   "outputs": [
    {
     "data": {
      "text/plain": [
       "(26330, 14)"
      ]
     },
     "execution_count": 21,
     "metadata": {},
     "output_type": "execute_result"
    }
   ],
   "source": [
    "df_florida = business_df[business_df['state'] == 'FL']\n",
    "df_florida.shape"
   ]
  },
  {
   "cell_type": "code",
   "execution_count": 22,
   "metadata": {},
   "outputs": [
    {
     "data": {
      "text/plain": [
       "(8731, 14)"
      ]
     },
     "execution_count": 22,
     "metadata": {},
     "output_type": "execute_result"
    }
   ],
   "source": [
    "fl_restaurants = df_florida[df_florida['categories'].str.contains('restaurants', case=False, na=False)]\n",
    "fl_restaurants.shape"
   ]
  },
  {
   "cell_type": "code",
   "execution_count": 6,
   "metadata": {},
   "outputs": [
    {
     "data": {
      "text/plain": [
       "(41484, 12)"
      ]
     },
     "execution_count": 6,
     "metadata": {},
     "output_type": "execute_result"
    }
   ],
   "source": [
    "filename = \"US_Cities\" + \".txt\"\n",
    "path = \"C:/Users/tokud/OneDrive/Documents/Machine Learning - UCSD Extension Springboard Course/Capstone/Datasets/\" + filename\n",
    "\n",
    "column_names = [\n",
    "    \"country_code\", \"zip_code\", \"city\", \"state\", \"state_abbreviation\", \n",
    "    \"county\", \"county_code\", \"admin2\", \"admin3\", \"latitude\", \"longitude\", \"accuracy\"\n",
    "]\n",
    "\n",
    "df = pd.read_csv(path, sep=\"\\t\", header=None, names=column_names)\n",
    "df.shape"
   ]
  },
  {
   "cell_type": "code",
   "execution_count": 19,
   "metadata": {},
   "outputs": [
    {
     "data": {
      "text/plain": [
       "(1473, 2)"
      ]
     },
     "execution_count": 19,
     "metadata": {},
     "output_type": "execute_result"
    }
   ],
   "source": [
    "florida_df = df[df['state_abbreviation'] == 'FL']\n",
    "fl_subset = florida_df[['zip_code', 'city']]\n",
    "fl_subset.shape"
   ]
  },
  {
   "cell_type": "code",
   "execution_count": 25,
   "metadata": {},
   "outputs": [
    {
     "data": {
      "text/plain": [
       "business_id       0\n",
       "name              0\n",
       "address          96\n",
       "city              0\n",
       "state             0\n",
       "postal_code       4\n",
       "latitude          0\n",
       "longitude         0\n",
       "stars             0\n",
       "review_count      0\n",
       "is_open           0\n",
       "attributes      100\n",
       "categories        0\n",
       "hours           983\n",
       "dtype: int64"
      ]
     },
     "execution_count": 25,
     "metadata": {},
     "output_type": "execute_result"
    }
   ],
   "source": [
    "fl_restaurants.isnull().sum()"
   ]
  },
  {
   "cell_type": "code",
   "execution_count": 27,
   "metadata": {},
   "outputs": [
    {
     "name": "stderr",
     "output_type": "stream",
     "text": [
      "c:\\Users\\tokud\\anaconda3\\lib\\site-packages\\pandas\\core\\generic.py:6392: SettingWithCopyWarning: \n",
      "A value is trying to be set on a copy of a slice from a DataFrame\n",
      "\n",
      "See the caveats in the documentation: https://pandas.pydata.org/pandas-docs/stable/user_guide/indexing.html#returning-a-view-versus-a-copy\n",
      "  return self._update_inplace(result)\n"
     ]
    }
   ],
   "source": [
    "fl_restaurants['address'].fillna('Unknown', inplace=True)\n",
    "fl_restaurants['attributes'].fillna('N/A', inplace=True)\n",
    "fl_restaurants['hours'].fillna('N/A', inplace=True)"
   ]
  },
  {
   "cell_type": "code",
   "execution_count": 28,
   "metadata": {},
   "outputs": [
    {
     "name": "stderr",
     "output_type": "stream",
     "text": [
      "C:\\Users\\tokud\\AppData\\Local\\Temp/ipykernel_5912/1650653671.py:1: SettingWithCopyWarning: \n",
      "A value is trying to be set on a copy of a slice from a DataFrame.\n",
      "Try using .loc[row_indexer,col_indexer] = value instead\n",
      "\n",
      "See the caveats in the documentation: https://pandas.pydata.org/pandas-docs/stable/user_guide/indexing.html#returning-a-view-versus-a-copy\n",
      "  fl_restaurants['postal_code'] = fl_restaurants['postal_code'].fillna(0).astype(int)\n"
     ]
    }
   ],
   "source": [
    "fl_restaurants['postal_code'] = fl_restaurants['postal_code'].fillna(0).astype(int)"
   ]
  },
  {
   "cell_type": "code",
   "execution_count": null,
   "metadata": {},
   "outputs": [
    {
     "data": {
      "text/plain": [
       "(8731, 16)"
      ]
     },
     "execution_count": 30,
     "metadata": {},
     "output_type": "execute_result"
    }
   ],
   "source": [
    "merged_df = fl_restaurants.merge(fl_subset, how='left', left_on='postal_code', right_on='zip_code', suffixes=('_original', '_updated'))\n",
    "merged_df.shape"
   ]
  },
  {
   "cell_type": "code",
   "execution_count": 31,
   "metadata": {},
   "outputs": [
    {
     "data": {
      "text/plain": [
       "Index(['business_id', 'name', 'address', 'city_original', 'state',\n",
       "       'postal_code', 'latitude', 'longitude', 'stars', 'review_count',\n",
       "       'is_open', 'attributes', 'categories', 'hours', 'zip_code',\n",
       "       'city_updated'],\n",
       "      dtype='object')"
      ]
     },
     "execution_count": 31,
     "metadata": {},
     "output_type": "execute_result"
    }
   ],
   "source": [
    "merged_df.columns"
   ]
  },
  {
   "cell_type": "code",
   "execution_count": 32,
   "metadata": {},
   "outputs": [
    {
     "data": {
      "text/html": [
       "<div><div id=ed320d99-3a0a-4361-8d75-4a68633024a1 style=\"display:none; background-color:#9D6CFF; color:white; width:200px; height:30px; padding-left:5px; border-radius:4px; flex-direction:row; justify-content:space-around; align-items:center;\" onmouseover=\"this.style.backgroundColor='#BA9BF8'\" onmouseout=\"this.style.backgroundColor='#9D6CFF'\" onclick=\"window.commands?.execute('create-mitosheet-from-dataframe-output');\">See Full Dataframe in Mito</div> <script> if (window.commands.hasCommand('create-mitosheet-from-dataframe-output')) document.getElementById('ed320d99-3a0a-4361-8d75-4a68633024a1').style.display = 'flex' </script> <table border=\"1\" class=\"dataframe\">\n",
       "  <thead>\n",
       "    <tr style=\"text-align: right;\">\n",
       "      <th></th>\n",
       "      <th>business_id</th>\n",
       "      <th>name</th>\n",
       "      <th>city_original</th>\n",
       "      <th>state</th>\n",
       "      <th>postal_code</th>\n",
       "      <th>stars</th>\n",
       "      <th>review_count</th>\n",
       "      <th>zip_code</th>\n",
       "      <th>city_updated</th>\n",
       "    </tr>\n",
       "  </thead>\n",
       "  <tbody>\n",
       "    <tr>\n",
       "      <th>0</th>\n",
       "      <td>eEOYSgkmpB90uNA7lDOMRA</td>\n",
       "      <td>Vietnamese Food Truck</td>\n",
       "      <td>Tampa Bay</td>\n",
       "      <td>FL</td>\n",
       "      <td>33602</td>\n",
       "      <td>4.0</td>\n",
       "      <td>10</td>\n",
       "      <td>33602.0</td>\n",
       "      <td>Tampa</td>\n",
       "    </tr>\n",
       "    <tr>\n",
       "      <th>1</th>\n",
       "      <td>0bPLkL0QhhPO5kt1_EXmNQ</td>\n",
       "      <td>Zio's Italian Market</td>\n",
       "      <td>Largo</td>\n",
       "      <td>FL</td>\n",
       "      <td>33771</td>\n",
       "      <td>4.5</td>\n",
       "      <td>100</td>\n",
       "      <td>33771.0</td>\n",
       "      <td>Largo</td>\n",
       "    </tr>\n",
       "    <tr>\n",
       "      <th>2</th>\n",
       "      <td>uI9XODGY_2_ieTE6xJ0myw</td>\n",
       "      <td>Roman Forum</td>\n",
       "      <td>Tampa</td>\n",
       "      <td>FL</td>\n",
       "      <td>33618</td>\n",
       "      <td>4.0</td>\n",
       "      <td>23</td>\n",
       "      <td>33618.0</td>\n",
       "      <td>Tampa</td>\n",
       "    </tr>\n",
       "    <tr>\n",
       "      <th>3</th>\n",
       "      <td>JgpnXv_0XhV3SfbfB50nxw</td>\n",
       "      <td>Joe's Pizza</td>\n",
       "      <td>Tampa</td>\n",
       "      <td>FL</td>\n",
       "      <td>33607</td>\n",
       "      <td>4.0</td>\n",
       "      <td>35</td>\n",
       "      <td>33607.0</td>\n",
       "      <td>Tampa</td>\n",
       "    </tr>\n",
       "    <tr>\n",
       "      <th>4</th>\n",
       "      <td>pJfh3Ct8iL58NZa8ta-a5w</td>\n",
       "      <td>Top Shelf Sports Lounge</td>\n",
       "      <td>Wesley Chapel</td>\n",
       "      <td>FL</td>\n",
       "      <td>33544</td>\n",
       "      <td>4.5</td>\n",
       "      <td>95</td>\n",
       "      <td>33544.0</td>\n",
       "      <td>Wesley Chapel</td>\n",
       "    </tr>\n",
       "  </tbody>\n",
       "</table></div>"
      ],
      "text/plain": [
       "              business_id                     name  city_original state  \\\n",
       "0  eEOYSgkmpB90uNA7lDOMRA    Vietnamese Food Truck      Tampa Bay    FL   \n",
       "1  0bPLkL0QhhPO5kt1_EXmNQ     Zio's Italian Market          Largo    FL   \n",
       "2  uI9XODGY_2_ieTE6xJ0myw              Roman Forum          Tampa    FL   \n",
       "3  JgpnXv_0XhV3SfbfB50nxw              Joe's Pizza          Tampa    FL   \n",
       "4  pJfh3Ct8iL58NZa8ta-a5w  Top Shelf Sports Lounge  Wesley Chapel    FL   \n",
       "\n",
       "   postal_code  stars  review_count  zip_code   city_updated  \n",
       "0        33602    4.0            10   33602.0          Tampa  \n",
       "1        33771    4.5           100   33771.0          Largo  \n",
       "2        33618    4.0            23   33618.0          Tampa  \n",
       "3        33607    4.0            35   33607.0          Tampa  \n",
       "4        33544    4.5            95   33544.0  Wesley Chapel  "
      ]
     },
     "execution_count": 32,
     "metadata": {},
     "output_type": "execute_result"
    }
   ],
   "source": [
    "selected_fields = ['business_id', 'name', 'city_original', 'state', 'postal_code', \\\n",
    "    'stars', 'review_count', 'zip_code', 'city_updated']\n",
    "\n",
    "merged_df[selected_fields].head()"
   ]
  },
  {
   "cell_type": "code",
   "execution_count": 33,
   "metadata": {},
   "outputs": [
    {
     "data": {
      "text/plain": [
       "Tampa                 3062\n",
       "Saint Petersburg      1410\n",
       "Clearwater             614\n",
       "Brandon                324\n",
       "Largo                  323\n",
       "New Port Richey        258\n",
       "Palm Harbor            211\n",
       "Riverview              203\n",
       "Dunedin                189\n",
       "Lutz                   185\n",
       "Pinellas Park          171\n",
       "Spring Hill            168\n",
       "Wesley Chapel          164\n",
       "Tarpon Springs         155\n",
       "Clearwater Beach       147\n",
       "Seminole               123\n",
       "Plant City             111\n",
       "Port Richey            104\n",
       "Hudson                  98\n",
       "Oldsmar                 88\n",
       "Valrico                 79\n",
       "Zephyrhills             56\n",
       "Safety Harbor           54\n",
       "Land O Lakes            51\n",
       "Indian Rocks Beach      49\n",
       "Seffner                 47\n",
       "Apollo Beach            42\n",
       "Ruskin                  42\n",
       "Odessa                  41\n",
       "Holiday                 38\n",
       "Lithia                  31\n",
       "Sun City Center         27\n",
       "Gibsonton               16\n",
       "San Antonio             10\n",
       "Wimauma                  7\n",
       "Thonotosassa             7\n",
       "Dover                    6\n",
       "Palmetto                 6\n",
       "Dade City                2\n",
       "Ozona                    1\n",
       "Balm                     1\n",
       "Brooksville              1\n",
       "Saint Leo                1\n",
       "Name: city_updated, dtype: int64"
      ]
     },
     "execution_count": 33,
     "metadata": {},
     "output_type": "execute_result"
    }
   ],
   "source": [
    "merged_df['city_updated'].value_counts()"
   ]
  },
  {
   "cell_type": "code",
   "execution_count": 34,
   "metadata": {},
   "outputs": [
    {
     "data": {
      "text/plain": [
       "business_id      0\n",
       "name             0\n",
       "address          0\n",
       "city_original    0\n",
       "state            0\n",
       "postal_code      0\n",
       "latitude         0\n",
       "longitude        0\n",
       "stars            0\n",
       "review_count     0\n",
       "is_open          0\n",
       "attributes       0\n",
       "categories       0\n",
       "hours            0\n",
       "zip_code         8\n",
       "city_updated     8\n",
       "dtype: int64"
      ]
     },
     "execution_count": 34,
     "metadata": {},
     "output_type": "execute_result"
    }
   ],
   "source": [
    "merged_df.isnull().sum()"
   ]
  },
  {
   "cell_type": "code",
   "execution_count": 39,
   "metadata": {},
   "outputs": [
    {
     "data": {
      "text/html": [
       "<div><div id=5d400917-38ee-40b2-8d26-35248b38c1bc style=\"display:none; background-color:#9D6CFF; color:white; width:200px; height:30px; padding-left:5px; border-radius:4px; flex-direction:row; justify-content:space-around; align-items:center;\" onmouseover=\"this.style.backgroundColor='#BA9BF8'\" onmouseout=\"this.style.backgroundColor='#9D6CFF'\" onclick=\"window.commands?.execute('create-mitosheet-from-dataframe-output');\">See Full Dataframe in Mito</div> <script> if (window.commands.hasCommand('create-mitosheet-from-dataframe-output')) document.getElementById('5d400917-38ee-40b2-8d26-35248b38c1bc').style.display = 'flex' </script> <table border=\"1\" class=\"dataframe\">\n",
       "  <thead>\n",
       "    <tr style=\"text-align: right;\">\n",
       "      <th></th>\n",
       "      <th>business_id</th>\n",
       "      <th>name</th>\n",
       "      <th>address</th>\n",
       "      <th>postal_code</th>\n",
       "      <th>city_original</th>\n",
       "      <th>stars</th>\n",
       "      <th>zip_code</th>\n",
       "      <th>city_updated</th>\n",
       "    </tr>\n",
       "  </thead>\n",
       "  <tbody>\n",
       "    <tr>\n",
       "      <th>142</th>\n",
       "      <td>siwG4ZM7RjUDO52DI84m3w</td>\n",
       "      <td>Ray's Vegan Soul</td>\n",
       "      <td>Unknown</td>\n",
       "      <td>0</td>\n",
       "      <td>St. Petersburg</td>\n",
       "      <td>5.0</td>\n",
       "      <td>NaN</td>\n",
       "      <td>NaN</td>\n",
       "    </tr>\n",
       "    <tr>\n",
       "      <th>674</th>\n",
       "      <td>kQANkgj6vHc1xCmxfNBNjA</td>\n",
       "      <td>Enzo's Pizzeria &amp; Pasta from New York</td>\n",
       "      <td>11653 Countryway Blvd</td>\n",
       "      <td>33588</td>\n",
       "      <td>Westchase</td>\n",
       "      <td>4.0</td>\n",
       "      <td>NaN</td>\n",
       "      <td>NaN</td>\n",
       "    </tr>\n",
       "    <tr>\n",
       "      <th>1891</th>\n",
       "      <td>MxSSESMG5NJCDHy_zsmNCw</td>\n",
       "      <td>Fire Monkey Food Truck</td>\n",
       "      <td>Unknown</td>\n",
       "      <td>0</td>\n",
       "      <td>Saint Petersburg</td>\n",
       "      <td>4.0</td>\n",
       "      <td>NaN</td>\n",
       "      <td>NaN</td>\n",
       "    </tr>\n",
       "    <tr>\n",
       "      <th>2609</th>\n",
       "      <td>QNci5FL13duF0a-nf9sGWQ</td>\n",
       "      <td>Village Inn Restaurant</td>\n",
       "      <td>2525 Gulf-To-Bay Blvd</td>\n",
       "      <td>34619</td>\n",
       "      <td>Clearwater</td>\n",
       "      <td>3.0</td>\n",
       "      <td>NaN</td>\n",
       "      <td>NaN</td>\n",
       "    </tr>\n",
       "    <tr>\n",
       "      <th>2948</th>\n",
       "      <td>bnsPNU4A9dmfNHWiiDXSXQ</td>\n",
       "      <td>Nabruzzi Trattoria</td>\n",
       "      <td>11653 Countryway Blvd</td>\n",
       "      <td>33588</td>\n",
       "      <td>Westchase</td>\n",
       "      <td>4.5</td>\n",
       "      <td>NaN</td>\n",
       "      <td>NaN</td>\n",
       "    </tr>\n",
       "    <tr>\n",
       "      <th>3489</th>\n",
       "      <td>nbm0DkmTklRAnROEAm0kuw</td>\n",
       "      <td>The Killer Samich Truck</td>\n",
       "      <td>Unknown</td>\n",
       "      <td>0</td>\n",
       "      <td>Tampa</td>\n",
       "      <td>3.0</td>\n",
       "      <td>NaN</td>\n",
       "      <td>NaN</td>\n",
       "    </tr>\n",
       "    <tr>\n",
       "      <th>4989</th>\n",
       "      <td>y6GtlzDbTViYhO4bA-WfsA</td>\n",
       "      <td>NYO Food Truck</td>\n",
       "      <td>Unknown</td>\n",
       "      <td>0</td>\n",
       "      <td>Tampa</td>\n",
       "      <td>3.5</td>\n",
       "      <td>NaN</td>\n",
       "      <td>NaN</td>\n",
       "    </tr>\n",
       "    <tr>\n",
       "      <th>6064</th>\n",
       "      <td>Jfi-hoD-hKlnu3LljlEUqA</td>\n",
       "      <td>Apna Kabab House</td>\n",
       "      <td>20323 Bruce B Downs Blvd</td>\n",
       "      <td>336140</td>\n",
       "      <td>Tampa</td>\n",
       "      <td>3.5</td>\n",
       "      <td>NaN</td>\n",
       "      <td>NaN</td>\n",
       "    </tr>\n",
       "  </tbody>\n",
       "</table></div>"
      ],
      "text/plain": [
       "                 business_id                                   name  \\\n",
       "142   siwG4ZM7RjUDO52DI84m3w                       Ray's Vegan Soul   \n",
       "674   kQANkgj6vHc1xCmxfNBNjA  Enzo's Pizzeria & Pasta from New York   \n",
       "1891  MxSSESMG5NJCDHy_zsmNCw                 Fire Monkey Food Truck   \n",
       "2609  QNci5FL13duF0a-nf9sGWQ                 Village Inn Restaurant   \n",
       "2948  bnsPNU4A9dmfNHWiiDXSXQ                     Nabruzzi Trattoria   \n",
       "3489  nbm0DkmTklRAnROEAm0kuw                The Killer Samich Truck   \n",
       "4989  y6GtlzDbTViYhO4bA-WfsA                         NYO Food Truck   \n",
       "6064  Jfi-hoD-hKlnu3LljlEUqA                       Apna Kabab House   \n",
       "\n",
       "                       address  postal_code     city_original  stars  \\\n",
       "142                    Unknown            0    St. Petersburg    5.0   \n",
       "674      11653 Countryway Blvd        33588         Westchase    4.0   \n",
       "1891                   Unknown            0  Saint Petersburg    4.0   \n",
       "2609     2525 Gulf-To-Bay Blvd        34619        Clearwater    3.0   \n",
       "2948     11653 Countryway Blvd        33588         Westchase    4.5   \n",
       "3489                   Unknown            0             Tampa    3.0   \n",
       "4989                   Unknown            0             Tampa    3.5   \n",
       "6064  20323 Bruce B Downs Blvd       336140             Tampa    3.5   \n",
       "\n",
       "      zip_code city_updated  \n",
       "142        NaN          NaN  \n",
       "674        NaN          NaN  \n",
       "1891       NaN          NaN  \n",
       "2609       NaN          NaN  \n",
       "2948       NaN          NaN  \n",
       "3489       NaN          NaN  \n",
       "4989       NaN          NaN  \n",
       "6064       NaN          NaN  "
      ]
     },
     "execution_count": 39,
     "metadata": {},
     "output_type": "execute_result"
    }
   ],
   "source": [
    "missing_columns = ['business_id','name', 'address', 'postal_code', 'city_original', 'stars', 'zip_code', 'city_updated']\n",
    "\n",
    "missing_df = merged_df[missing_columns]\n",
    "\n",
    "missing_df[missing_df['zip_code'].isnull()]"
   ]
  },
  {
   "cell_type": "code",
   "execution_count": 40,
   "metadata": {},
   "outputs": [
    {
     "data": {
      "text/plain": [
       "(8723, 16)"
      ]
     },
     "execution_count": 40,
     "metadata": {},
     "output_type": "execute_result"
    }
   ],
   "source": [
    "merged_df = merged_df.dropna()\n",
    "merged_df.shape"
   ]
  },
  {
   "cell_type": "code",
   "execution_count": 41,
   "metadata": {},
   "outputs": [
    {
     "data": {
      "text/plain": [
       "business_id      0\n",
       "name             0\n",
       "address          0\n",
       "city_original    0\n",
       "state            0\n",
       "postal_code      0\n",
       "latitude         0\n",
       "longitude        0\n",
       "stars            0\n",
       "review_count     0\n",
       "is_open          0\n",
       "attributes       0\n",
       "categories       0\n",
       "hours            0\n",
       "zip_code         0\n",
       "city_updated     0\n",
       "dtype: int64"
      ]
     },
     "execution_count": 41,
     "metadata": {},
     "output_type": "execute_result"
    }
   ],
   "source": [
    "merged_df.isnull().sum()"
   ]
  },
  {
   "cell_type": "code",
   "execution_count": 42,
   "metadata": {},
   "outputs": [],
   "source": [
    "filename = \"FL_Restaurants_Business Attributes\" + \".csv\"\n",
    "out_path = \"C:/Users/tokud/OneDrive/Documents/Machine Learning - UCSD Extension Springboard Course/Capstone/Datasets/\" + filename\n",
    "\n",
    "merged_df.to_csv(out_path, index=False)"
   ]
  }
 ],
 "metadata": {
  "kernelspec": {
   "display_name": "base",
   "language": "python",
   "name": "python3"
  },
  "language_info": {
   "codemirror_mode": {
    "name": "ipython",
    "version": 3
   },
   "file_extension": ".py",
   "mimetype": "text/x-python",
   "name": "python",
   "nbconvert_exporter": "python",
   "pygments_lexer": "ipython3",
   "version": "3.9.7"
  }
 },
 "nbformat": 4,
 "nbformat_minor": 2
}
