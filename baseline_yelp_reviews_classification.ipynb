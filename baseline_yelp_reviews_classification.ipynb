{
  "nbformat": 4,
  "nbformat_minor": 0,
  "metadata": {
    "colab": {
      "provenance": [],
      "authorship_tag": "ABX9TyNmu9QDK3fGMbd5C6AS+SAD",
      "include_colab_link": true
    },
    "kernelspec": {
      "name": "python3",
      "display_name": "Python 3"
    },
    "language_info": {
      "name": "python"
    }
  },
  "cells": [
    {
      "cell_type": "markdown",
      "metadata": {
        "id": "view-in-github",
        "colab_type": "text"
      },
      "source": [
        "<a href=\"https://colab.research.google.com/github/TimHBSWFL/UCSD-ML-Capstone/blob/main/baseline_yelp_reviews_classification.ipynb\" target=\"_parent\"><img src=\"https://colab.research.google.com/assets/colab-badge.svg\" alt=\"Open In Colab\"/></a>"
      ]
    },
    {
      "cell_type": "code",
      "execution_count": null,
      "metadata": {
        "id": "5PJ6H0mZheqN"
      },
      "outputs": [],
      "source": [
        "import pandas as pd\n",
        "from sklearn.model_selection import train_test_split\n",
        "from sklearn.feature_extraction.text import TfidfVectorizer\n",
        "from sklearn.linear_model import LogisticRegression\n",
        "from sklearn.metrics import accuracy_score, classification_report"
      ]
    },
    {
      "cell_type": "code",
      "source": [
        "from google.colab import drive\n",
        "drive.mount('/content/drive')"
      ],
      "metadata": {
        "id": "t5oD6hVdlhkw",
        "colab": {
          "base_uri": "https://localhost:8080/"
        },
        "outputId": "7ea72175-865c-4dfa-a029-d3a619ecdf8c"
      },
      "execution_count": 4,
      "outputs": [
        {
          "output_type": "stream",
          "name": "stdout",
          "text": [
            "Mounted at /content/drive\n"
          ]
        }
      ]
    },
    {
      "cell_type": "code",
      "source": [
        "filename = \"FL_Reviews_Edited\" + \".csv\"\n",
        "directory = '/content/drive/My Drive/Capstone Data Collection/'\n",
        "\n",
        "path = directory + filename\n",
        "\n",
        "chunk_iterator = pd.read_csv(path, chunksize=10000)\n",
        "\n",
        "chunks = []\n",
        "\n",
        "for chunk in chunk_iterator:\n",
        "  chunks.append(chunk)\n",
        "\n",
        "df_reviews = pd.concat(chunks, ignore_index=True)\n",
        "df_reviews.shape"
      ],
      "metadata": {
        "colab": {
          "base_uri": "https://localhost:8080/"
        },
        "id": "Uv1lQnLcoU0_",
        "outputId": "1ab835d4-e498-4522-8c25-9e454616ce6b"
      },
      "execution_count": 5,
      "outputs": [
        {
          "output_type": "execute_result",
          "data": {
            "text/plain": [
              "(792133, 24)"
            ]
          },
          "metadata": {},
          "execution_count": 5
        }
      ]
    },
    {
      "cell_type": "code",
      "source": [
        "df_sample = df_reviews.sample(frac=0.1, random_state=42)\n",
        "df_sample.shape"
      ],
      "metadata": {
        "colab": {
          "base_uri": "https://localhost:8080/"
        },
        "id": "pIfG1z93rpcH",
        "outputId": "e0c656c1-c959-4ad9-cc5d-0f5b11c71eeb"
      },
      "execution_count": 14,
      "outputs": [
        {
          "output_type": "execute_result",
          "data": {
            "text/plain": [
              "(79213, 24)"
            ]
          },
          "metadata": {},
          "execution_count": 14
        }
      ]
    },
    {
      "cell_type": "code",
      "source": [
        "X = df_sample['text']\n",
        "y = df_sample['stars_reviews']"
      ],
      "metadata": {
        "id": "F2fNobI9rzwe"
      },
      "execution_count": 15,
      "outputs": []
    },
    {
      "cell_type": "code",
      "source": [
        "X_train, X_test, y_train, y_test = train_test_split(X, y, test_size=0.2, random_state=42)\n",
        "\n",
        "tfidf = TfidfVectorizer(max_features=10000, ngram_range=(1, 2))\n",
        "X_train_tfidf = tfidf.fit_transform(X_train)\n",
        "X_test_tfidf = tfidf.transform(X_test)\n",
        "\n",
        "log_reg = LogisticRegression(max_iter=1000)\n",
        "log_reg.fit(X_train_tfidf, y_train)\n",
        "\n",
        "y_pred = log_reg.predict(X_test_tfidf)\n",
        "\n",
        "print(\"Logistic Regression with TF-IDF:\")\n",
        "print(f\"Accuracy: {accuracy_score(y_test, y_pred)}\")\n",
        "print(classification_report(y_test, y_pred))"
      ],
      "metadata": {
        "colab": {
          "base_uri": "https://localhost:8080/"
        },
        "id": "jLHfCbSqsJJG",
        "outputId": "53480556-08a2-474f-e2ef-47f6015589ca"
      },
      "execution_count": 16,
      "outputs": [
        {
          "output_type": "stream",
          "name": "stdout",
          "text": [
            "Logistic Regression with TF-IDF:\n",
            "Accuracy: 0.6842138483873004\n",
            "              precision    recall  f1-score   support\n",
            "\n",
            "           1       0.70      0.81      0.75      1940\n",
            "           2       0.46      0.30      0.36      1225\n",
            "           3       0.54      0.39      0.45      1675\n",
            "           4       0.52      0.45      0.48      3434\n",
            "           5       0.78      0.89      0.83      7569\n",
            "\n",
            "    accuracy                           0.68     15843\n",
            "   macro avg       0.60      0.57      0.57     15843\n",
            "weighted avg       0.66      0.68      0.67     15843\n",
            "\n"
          ]
        }
      ]
    }
  ]
}